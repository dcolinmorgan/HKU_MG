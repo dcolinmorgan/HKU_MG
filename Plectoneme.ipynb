{
 "cells": [
  {
   "cell_type": "code",
   "execution_count": 1,
   "id": "7b4f611e-11c9-456b-9dfe-99ef3b969597",
   "metadata": {
    "tags": []
   },
   "outputs": [],
   "source": [
    "%reset -f\n",
    "%config Completer.use_jedi = True\n",
    "# %matplotlib widget"
   ]
  },
  {
   "cell_type": "code",
   "execution_count": 2,
   "id": "af05ad06-bbd0-48c5-a39d-e4e19e51629d",
   "metadata": {},
   "outputs": [
    {
     "data": {
      "text/plain": [
       "'/home/dcmorgan'"
      ]
     },
     "execution_count": 2,
     "metadata": {},
     "output_type": "execute_result"
    }
   ],
   "source": [
    "import matplotlib.pyplot as plt\n",
    "import numpy as np\n",
    "import os,glob,sys,importlib#,scipy,coolbox,pybedtools,\n",
    "from scipy.stats import linregress\n",
    "from scipy.ndimage import gaussian_filter\n",
    "from tqdm import tqdm\n",
    "import pandas as pd\n",
    "import seaborn as sns\n",
    "from scipy import stats\n",
    "import biosppy\n",
    "# from sklearn import metrics\n",
    "os.chdir('/home/dcmorgan')\n",
    "os.getcwd()\n",
    "\n",
    "# sys.path.insert(1, './run/oric/Plectoneme/')\n",
    "# import savitzky_golay\n",
    "# importlib.reload(sys.modules['savitzky_golay'])\n",
    "# from savitzky_golay import savitzky_golay\n",
    "\n",
    "# import networkx as nx\n",
    "# from joblib.externals.loky import set_loky_pickler\n",
    "# from joblib import parallel_backend\n",
    "# from joblib import Parallel, delayed\n",
    "# from joblib import wrap_non_picklable_objects\n"
   ]
  },
  {
   "cell_type": "code",
   "execution_count": null,
   "id": "c32759f7-79d2-4415-9504-482db7b85871",
   "metadata": {
    "tags": []
   },
   "outputs": [],
   "source": [
    "!cut -f2,3,4 ~/data/meta/NC_004252_R0396-MWT.bedgraph"
   ]
  },
  {
   "cell_type": "code",
   "execution_count": null,
   "id": "22308531-1ce9-49b4-9602-fd0d3f7aa8ce",
   "metadata": {},
   "outputs": [],
   "source": [
    "primary=pd.read_excel('data/Data Raw - Gut Microbiome Cohort Project Database - 300 Cohort v3.0_280921.xlsx',index_col=0,sheet_name='Primary Data')\n",
    "diet=pd.read_excel('data/Data Raw - Gut Microbiome Cohort Project Database - 300 Cohort v3.0_280921.xlsx',index_col=0,sheet_name='Diet Data')\n",
    "blood_stool=pd.read_excel('data/Data Raw - Gut Microbiome Cohort Project Database - 300 Cohort v3.0_280921.xlsx',index_col=0,sheet_name='blood and stool biomarkers')\n",
    "secondary=pd.read_excel('data/Data Raw - Gut Microbiome Cohort Project Database - 300 Cohort v3.0_280921.xlsx',index_col=0,sheet_name='Secondary Data')\n",
    "MRI=pd.read_excel('data/Data Raw - Gut Microbiome Cohort Project Database - 300 Cohort v3.0_280921.xlsx',index_col=0,sheet_name='MRI scores')"
   ]
  },
  {
   "cell_type": "code",
   "execution_count": null,
   "id": "01be2317-56d2-4419-91b5-b783e56ba33d",
   "metadata": {},
   "outputs": [],
   "source": [
    "unibact=pd.read_csv('data/328_krakenuniq_raw.csv',index_col=0)\n",
    "unibact['spec']=(unibact.index).str.split(';').str[0:6].tolist()\n",
    "# jeff=pd.DataFrame(unibact['spec'].tolist(),columns=['tmp','tmp','tmp','tmp','tmp','species'])\n",
    "# jeff=jeff.fillna(method='ffill',axis=1)\n"
   ]
  },
  {
   "cell_type": "code",
   "execution_count": null,
   "id": "3fe15187-7a71-420c-b8b4-7e9c54b59b45",
   "metadata": {},
   "outputs": [],
   "source": [
    "unibact.columns=unibact.columns.str.split('-').str[0].tolist()"
   ]
  },
  {
   "cell_type": "code",
   "execution_count": null,
   "id": "6ab4e89f-0ae5-4a82-861c-24e662800e97",
   "metadata": {},
   "outputs": [],
   "source": [
    "PP=primary[primary.index.isin(unibact.columns)]\n",
    "\n"
   ]
  },
  {
   "cell_type": "code",
   "execution_count": null,
   "id": "d229bcaa-572e-4dc1-9465-c81aac3badc0",
   "metadata": {},
   "outputs": [],
   "source": [
    "sub_uni=unibact[primary.index[primary.index.isin(unibact.columns)]]\n",
    "sub_uni.columns=PP['Hypertension Category by 24h BP w/o considering antihypertensive med']\n",
    "# sub_uni"
   ]
  },
  {
   "cell_type": "markdown",
   "id": "9784e4de-3ddf-4d44-b15b-974a4a556d4d",
   "metadata": {},
   "source": [
    "### corr network"
   ]
  },
  {
   "cell_type": "code",
   "execution_count": null,
   "id": "e92365a0-59d4-40b8-a4aa-05f846b8c05c",
   "metadata": {},
   "outputs": [],
   "source": [
    "aa=np.corrcoef((sub_uni[2]).astype(float))\n",
    "# aa=aa[aa!=1]\n",
    "a=plt.hist(aa.flatten(),bins=100,log=True,alpha=.65)\n",
    "\n",
    "bb=np.corrcoef((sub_uni[1]).astype(float))\n",
    "# bb=bb[bb!=1]\n",
    "b=plt.hist(bb.flatten(),bins=100,log=True,alpha=.5)\n",
    "\n",
    "cc=np.corrcoef((sub_uni[0]).astype(float))\n",
    "# cc=cc[cc!=1]\n",
    "c=plt.hist(cc.flatten(),bins=100,log=True,alpha=.35)"
   ]
  },
  {
   "cell_type": "code",
   "execution_count": null,
   "id": "c9d05884-e129-49d3-beec-1062883c9cd0",
   "metadata": {},
   "outputs": [],
   "source": []
  },
  {
   "cell_type": "code",
   "execution_count": null,
   "id": "059b110f-1ed9-469d-98f6-f5ddd4851536",
   "metadata": {},
   "outputs": [],
   "source": [
    "a=nx.from_numpy_array(aa[1:100,1:100])\n",
    "b=nx.from_numpy_array(bb[1:100,1:100])\n",
    "c=nx.from_numpy_array(cc[1:100,1:100])\n",
    "\n",
    "# cc.shape"
   ]
  },
  {
   "cell_type": "code",
   "execution_count": null,
   "id": "aa2a9d7d-afd6-4edf-89a9-df6cca8ad551",
   "metadata": {},
   "outputs": [],
   "source": [
    "nx.draw(a)\n",
    "nx.draw(b)\n",
    "nx.draw(c)"
   ]
  },
  {
   "cell_type": "code",
   "execution_count": null,
   "id": "0fc56c64-43dc-436a-969d-7d53e71c8cba",
   "metadata": {},
   "outputs": [],
   "source": [
    "# nx.from_numpy_array(aa[(aa>.5)&(aa[1:100,1:100])])\n",
    "nx.average_clustering(a)"
   ]
  },
  {
   "cell_type": "code",
   "execution_count": null,
   "id": "5dd28036-4e63-440a-9bd8-19faf6489fa9",
   "metadata": {},
   "outputs": [],
   "source": [
    "aa=np.array(stats.spearmanr(sub_uni[2],axis=1))\n",
    "# aa=aa[aa!=1]\n",
    "a=plt.hist(aa.flatten(),bins=100,log=True,alpha=.65)\n",
    "\n",
    "bb=np.array(stats.spearmanr(sub_uni[1],axis=1))\n",
    "# bb=bb[bb!=1]\n",
    "b=plt.hist(bb.flatten(),bins=100,log=True,alpha=.5)\n",
    "\n",
    "cc=np.array(stats.spearmanr(sub_uni[0],axis=1))\n",
    "# cc=cc[cc!=1]\n",
    "c=plt.hist(cc.flatten(),bins=100,log=True,alpha=.35)"
   ]
  },
  {
   "cell_type": "code",
   "execution_count": null,
   "id": "2bb5fedf-c6b2-4427-96d5-65f43e93e201",
   "metadata": {},
   "outputs": [],
   "source": [
    "ww=plt.hist(bb-cc,bins=100,alpha=.65,log=True)\n",
    "ww=plt.hist(bb-aa,bins=100,alpha=.5,log=True)\n",
    "ww=plt.hist(aa-cc,bins=100,alpha=.35,log=True)"
   ]
  },
  {
   "cell_type": "code",
   "execution_count": null,
   "id": "7a75f553-6ae0-4789-ae09-5d838b625260",
   "metadata": {},
   "outputs": [],
   "source": [
    "from scipy import stats\n",
    "cc=np.array(stats.spearmanr(unibact.values[0:1000,0:1000])).flatten()\n",
    "cc=cc[cc!=1]\n",
    "# np.array(cc)\n",
    "cc=plt.hist(cc,bins=100,log=True)"
   ]
  },
  {
   "cell_type": "code",
   "execution_count": null,
   "id": "10cee066-6568-45c7-90b9-de77d9488855",
   "metadata": {},
   "outputs": [],
   "source": []
  },
  {
   "cell_type": "code",
   "execution_count": null,
   "id": "3104082b-4b3e-4263-a3c9-31ee063c10c4",
   "metadata": {},
   "outputs": [],
   "source": []
  },
  {
   "cell_type": "code",
   "execution_count": null,
   "id": "59ce7bf7-97ab-4334-8e14-61f0574bfb46",
   "metadata": {},
   "outputs": [],
   "source": [
    "oric=pd.read_csv('data/doric10/tubic_bacteria.csv') #remove 'note' and 'nt*' from file"
   ]
  },
  {
   "cell_type": "code",
   "execution_count": null,
   "id": "e1a6e54e-c4ab-43a9-be3e-2316bad3547e",
   "metadata": {},
   "outputs": [],
   "source": [
    "oric['oric_start']=oric['Location of replication origin'].str.split('.').str[0].str.split(',').str[0].str.split(';').str[0].tolist()\n",
    "oric['oric_end']=oric['Location of replication origin'].str.split('.').str[2].str.split(',').str[0].str.split(';').str[0].tolist()\n",
    "oric['gene_start']=oric['Location of replication genes'].str.split('.').str[0].str.split(',').str[0].str.split(';').str[0].tolist()\n",
    "oric['gene_end']=oric['Location of replication genes'].str.split('.').str[2].str.split(',').str[0].str.split(';').str[0].tolist()"
   ]
  },
  {
   "cell_type": "code",
   "execution_count": null,
   "id": "07745e98-077d-4878-a444-75dba1c83aaa",
   "metadata": {},
   "outputs": [],
   "source": [
    "oric['OriC AT content']=np.round(oric['OriC AT content']*100).astype(int)\n",
    "oric['orgA']=oric['Organism'].str.split(' ').str[0].tolist()\n",
    "oric['orgB']=oric['Organism'].str.split(' ').str[1].tolist()\n",
    "oric['Organism']=oric['orgA']+'_'+oric['orgB']\n"
   ]
  },
  {
   "cell_type": "code",
   "execution_count": null,
   "id": "3217d2a6-02e5-402d-bb98-38844c616983",
   "metadata": {},
   "outputs": [],
   "source": [
    "oric[['oric_start','oric_end','gene_start','gene_end']]=oric[['oric_start','oric_end','gene_start','gene_end']].replace('-','1')\n",
    "oric=oric.fillna('1')"
   ]
  },
  {
   "cell_type": "code",
   "execution_count": null,
   "id": "a9b4988c-50a8-4f78-8d3b-6575f0192f89",
   "metadata": {},
   "outputs": [],
   "source": [
    "oric[['gene_start']]=oric[['gene_start']].astype(int)\n",
    "oric[['gene_end']]=oric[['gene_end']].astype(int)\n",
    "oric[['oric_start']]=oric[['oric_start']].astype(int)\n",
    "oric[['oric_end']]=oric[['oric_end']].astype(int)"
   ]
  },
  {
   "cell_type": "code",
   "execution_count": null,
   "id": "81aa4218-e291-4d70-a1cd-01c926299906",
   "metadata": {},
   "outputs": [],
   "source": [
    "# oric['end']=np.amax(oric[['oric_start','oric_end','gene_start','gene_end']],1)\n",
    "# oric['start']=np.amin(oric[['oric_start','oric_end','gene_start','gene_end']],1)\n",
    "jj=ori[ori['oric_start']>ori['oric_end']]#\n",
    "jj['oric_end']=jj['oric_start']+jj['oric_end']\n",
    "ff=ori[ori['oric_start']<ori['oric_end']]\n",
    "ORIC=ff.append(jj)"
   ]
  },
  {
   "cell_type": "code",
   "execution_count": null,
   "id": "83b0b133-0c7d-49b2-b841-7c7e66c2ff76",
   "metadata": {},
   "outputs": [],
   "source": [
    "ORIC['refseq']=ORIC['Refseq'].str.split('.').str[0].tolist()\n",
    "ORIC['len']=ORIC['oric_end']-ORIC['oric_start']"
   ]
  },
  {
   "cell_type": "code",
   "execution_count": null,
   "id": "efa1269e-8844-4668-88e7-011724fec032",
   "metadata": {},
   "outputs": [],
   "source": [
    "ORIC[['refseq','oric_start','oric_end','OriC AT content','Organism','len']].to_csv('data/doric10/OriC_db.bed',sep='\\t',header=True,index=False)"
   ]
  },
  {
   "cell_type": "code",
   "execution_count": null,
   "id": "668be098-db7f-4c50-a74a-4ce36cc59563",
   "metadata": {},
   "outputs": [],
   "source": [
    "sns.set_style(\"white\")\n",
    "tmp=plt.hist(ORIC['len'],bins=100,log=True)"
   ]
  },
  {
   "cell_type": "code",
   "execution_count": null,
   "id": "023a7f62-de01-4f98-bdb5-3083afc6bbde",
   "metadata": {},
   "outputs": [],
   "source": [
    "traces= np.sort(glob.glob('data/meta*/*bedgraph'))\n",
    "jac=traces[1000]\n",
    "e='NC_'+jac.split('/')[2].split('_')[1]"
   ]
  },
  {
   "cell_type": "code",
   "execution_count": null,
   "id": "3afd505e-f287-42db-8a45-ac11bf040abd",
   "metadata": {},
   "outputs": [],
   "source": [
    "e='NC_'+os.path.basename(jac).split('_')[1]\n",
    "e"
   ]
  },
  {
   "cell_type": "code",
   "execution_count": null,
   "id": "16461708-24fb-4e4e-931c-6fddbc93ee8f",
   "metadata": {},
   "outputs": [],
   "source": [
    "\n",
    "table=[]\n",
    "# color=pd.DataFrame()\n",
    "color0=pd.DataFrame(columns=['species','subj','ratio','slope'])\n",
    "\n",
    "traces= np.sort(glob.glob('data/meta*/*bedgraph'))\n",
    "ori=pd.read_csv('data/doric10/OriC_db.bed',sep='\\t')\n",
    "# cc=ori[ori['Organism']==('Escherichia_coli')]\n",
    "cc=ori\n",
    "dd=cc[cc['refseq'].str.contains('NC_')]['refseq']\n",
    "\n",
    "i=0\n",
    "for d,c in tqdm(enumerate(traces)):\n",
    "    # indices = [i for i, s in enumerate(traces) if c in s]\n",
    "#     # if not indices.zeros:\n",
    "    # if indices !=[]:\n",
    "    # tmp0=ori[ori.refseq=='NC_'+os.path.basename(traces[0]).split('_')[1]]\n",
    "    jac=traces[d]\n",
    "    e='NC_'+os.path.basename(jac).split('_')[1]\n",
    "    f=jac.split('/')[2].split('_')[2].split('-')[0]\n",
    "    tmp=ori[ori['refseq'].str.contains(e)]\n",
    "    if tmp.zeros==False:\n",
    "        for uu in range(len(tmp)):\n",
    "        \n",
    "            # for dd,cc in tqdm(enumerate(d)):\n",
    "\n",
    "            # ax = axes[SLICES[i]]\n",
    "            zzz=pd.read_csv(jac,sep='\\t',names=['tmp','start','end','relAb'])\n",
    "\n",
    "\n",
    "            zzz['len']=zzz['end']-zzz['start']\n",
    "            jeff3=np.repeat((zzz.relAb), repeats = zzz['len'])\n",
    "            jeff3=jeff3.reset_index()\n",
    "            # df0=jeff3.groupby(jeff3.index // 1000).sum()\n",
    "            # try:\n",
    "        \n",
    "            ppp=tmp.iloc[uu]['oric_start'].item()\n",
    "            # ppp=tmp['oric_start'].item()\n",
    "            jj=jeff3.loc[ppp].values[1]\n",
    "            cc=jeff3.loc[ppp-1000:ppp+1000+tmp.iloc[uu]['len']]\n",
    "            \n",
    "            # jj=df0.relAb[int(np.round(ppp/1000,-2))]\n",
    "            # table.append()\n",
    "            df1=jeff3.sort_values(by='relAb')\n",
    "            df2=df1[(df1['relAb']>np.median(df1[df1['relAb']!=0])/5)&(df1['relAb']<np.median(df1[df1['relAb']!=0])*5)]\n",
    "            df2=df2.reset_index()\n",
    "            color0['species']=e\n",
    "            color0['subj']=f\n",
    "            color0['ratio']=np.mean(cc.relAb)/np.mean(jeff3.relAb),\n",
    "            color0['slope']=linregress((df2.index), (df2.relAb))[0]\n",
    "            # table.append(jeff22)\n",
    "            if i==0:\n",
    "                color0.to_csv('data/relAb_ratio5.txt',sep='\\t')\n",
    "                i=i+1\n",
    "            else:\n",
    "                color0.to_csv('data/relAb_ratio5.txt',sep='\\t',mode='a',header=False,index=False)\n",
    "                \n",
    "            # print(jj/np.mean(df0.relAb))\n",
    "            # print(jj)\n",
    "            # except:\n",
    "            #     pass"
   ]
  },
  {
   "cell_type": "code",
   "execution_count": null,
   "id": "a9dad60c-a218-4a94-9605-157c58d287f9",
   "metadata": {},
   "outputs": [],
   "source": [
    "data=pd.read_csv('data/relAb_ratio5.txt',sep='\\t')#,names=['species','subj','ratio','slope'])\n",
    "# d\n",
    "plt.figure(figsize=(10,5))\n",
    "# plt.figsize=(40, 40)\n",
    "data2=data[data['ratio']>0]\n",
    "ax=sns.scatterplot(data=data2, x=\"ratio\", y=\"slope\", hue=\"species\",style='subj')\n",
    "plt.legend([],[], frameon=False)\n",
    "j=str(np.round(scipy.corrcoef(data2.ratio,data2.slope)[0][1],5))\n",
    "h=str(np.round(scipy.stats.spearmanr(data2.ratio,data2.slope)[0],5))\n",
    "plt.title('pearson: '+j+'; spearman: '+h)\n",
    "# ax.legend(loc='best',ncol=10, title=\"Title\")"
   ]
  },
  {
   "cell_type": "code",
   "execution_count": null,
   "id": "61af7d19-3683-40fb-a90f-17caed6714ee",
   "metadata": {},
   "outputs": [],
   "source": [
    "jacc=4\n",
    "'data/relAb_ratio'+str(jacc)+'.txt'\n"
   ]
  },
  {
   "cell_type": "code",
   "execution_count": null,
   "id": "289f575d-9f6f-4ce2-9257-6d5dfc13f54a",
   "metadata": {},
   "outputs": [],
   "source": [
    "plt.figure(figsize=(20,5))\n",
    "sns.histplot(data=data2, x=\"ratio\", hue=\"species\")#, multiple=\"dodge\", shrink=.8)\n"
   ]
  },
  {
   "cell_type": "code",
   "execution_count": null,
   "id": "d72ec6aa-d995-4ae6-9a37-03a4bf62d578",
   "metadata": {},
   "outputs": [],
   "source": [
    "plt.figure(figsize=(20,5))\n",
    "sns.histplot(data=data2, x=\"slope\", hue=\"species\")"
   ]
  },
  {
   "cell_type": "markdown",
   "id": "21be4081-1938-4708-b4e4-b1a5878f299b",
   "metadata": {
    "jp-MarkdownHeadingCollapsed": true,
    "tags": []
   },
   "source": [
    "# Plectoneme"
   ]
  },
  {
   "cell_type": "markdown",
   "id": "56a173f4-dd91-4a9b-a748-fd8e7a594be7",
   "metadata": {},
   "source": [
    "### from https://stackoverflow.com/questions/20618804/how-to-smooth-a-curve-in-the-right-way"
   ]
  },
  {
   "cell_type": "code",
   "execution_count": 71,
   "id": "e8542c1b-ae3a-4e43-93f4-389d6b699a81",
   "metadata": {},
   "outputs": [],
   "source": []
  },
  {
   "cell_type": "code",
   "execution_count": 7,
   "id": "c89948eb-17a5-4e90-b7bf-6a1e72b1d0fc",
   "metadata": {},
   "outputs": [],
   "source": [
    "Swave=pd.read_csv('run/oric/Plectoneme/gordon_fasta/depleted.fasta')\n",
    "# jeff=Swave.iloc[2].item()\n",
    "# Swave = []\n",
    "# Swave.extend(jeff)\n",
    "# # print(Swave)\n",
    "# Swave=np.array(Swave)\n",
    "jeff=Swave[0::2]['>VIC01_RS00010'].tolist()\n",
    "jeff=str(jeff).replace(',','')\n",
    "jeff=str(jeff).replace(\"'\",\"\")\n",
    "jeff=str(jeff).replace(' ','')\n",
    "jeff=jeff[1:]\n",
    "Swave=jeff[0:10000]"
   ]
  },
  {
   "cell_type": "markdown",
   "id": "e0dc67ae-d7d9-46b3-ad3a-aadec209cc2a",
   "metadata": {},
   "source": [
    "#### reproduce Fig2B seqA plot"
   ]
  },
  {
   "cell_type": "code",
   "execution_count": 412,
   "id": "3cfed59f-e289-456e-af7e-e2f033607290",
   "metadata": {},
   "outputs": [],
   "source": [
    "Swave='CGCTATTCTTCGGTTAACGAAGTCTGTAATTGATTTGTTAAGTTTTTCTTTTGAATATACGCATTAATTTTAGATTGAATTTGCTGAAGCTCTTCTTGATCAGCTTCTCGAATGGTTTGCTCCTTTTGTTCGCTCGTTAACGATTGTGAAGAAGCAGGAGACTGATTAGGGGCTGTCTCCACTTCATTTGTTTTTTTCGTACTTTTAGCTGCAGGGGTATTTGAAGGCTGAACCGCTTCTTCAGATTCCTGCAGAGATTGAAATTCCATCACGCCCGTTCCTCCAACGAACGCTTCATTAAATGCGCGAGAAAGGTTCTTAAATTTCTGCGCATCCACTGAGCTCATTGCAAACAATACAATGAATAAAGCAAGTAAAAGTGTAAGCAAATCTGAGTAAGGAAGCAGCCAGCTTTCGTCAACATGGTCCTCTTCATGCTTTCGTTTTCTGCGTCTACTCATTTATGCCCACTTCACTTTCTTGAAGAAGCTTTTTACGTTCCGCTGTTGGCAAATAAGAAGCCAGCTTTTGCTCAATTACTTTTGGTGTTTCTCCTTCTAAAAGTGAAAGCACTCCTTCGATCATCATATACTTTACCTTTACTTCATGTTTCGATTTACGCTTTAGTTTATTTGCAAACGGATGCCATAGTACATACCCAGTAAAAATACCAAGAAGCGTAGCAACAAACGCCGCGCTGATCGCATGTCCTAGCGTATCTGTATCTTCCATGTTCCCAAGCGCAGCAATTAACCCTATAACAGCTCCAAGTACACCCAGAGTTGGAGCATATGTACCTGCTAAAGCGAAAATACTTGCACCCGTTTGATGTCTTTCTTCCATAGCATCAATTTCTTCAGACAACACGTCTCGTATATAATCCGCACTTTGACCATCAATAGCTAAATTCAAACCATTTTTTAAGAAAGGGTCATCTACATCAATAATTTGGGCTTCAAGTGATAGTAACCCTTCTTTTCGAACAACTTGTCCCCATTCAGAAAACGCGT'"
   ]
  },
  {
   "cell_type": "code",
   "execution_count": 465,
   "id": "30c25f24-a014-4521-9a1d-94241e1b4c14",
   "metadata": {},
   "outputs": [],
   "source": [
    "igordat=pd.read_csv('run/oric/Plectoneme/igor_out.txt',sep='\\t')\n",
    "dnapath=pd.read_csv('run/oric/Plectoneme/dnapath.txt',sep='\\t',names=['A','B','C','tmp'])\n",
    "bp_cov=pd.read_csv('run/oric/Plectoneme/bp_cov.txt',sep='\\t',names=['A','B'])\n",
    "tanvector=pd.read_csv('run/oric/Plectoneme/tanvector.txt',sep='\\t',names=['A','B','C'])\n",
    "localcov=pd.read_csv('run/oric/Plectoneme/localcov.txt',sep='\\t',names=['A','B'])\n",
    "normvector=pd.read_csv('run/oric/Plectoneme/normvector.txt',sep='\\t',names=['A','B','C'])\n",
    "curvevector=pd.read_csv('run/oric/Plectoneme/CurveVector.txt',sep='\\t',names=['A','B','C'])"
   ]
  },
  {
   "cell_type": "code",
   "execution_count": 414,
   "id": "d2b0cb7c-5c9f-487d-8f28-72d96e0e0747",
   "metadata": {
    "tags": []
   },
   "outputs": [
    {
     "name": "stderr",
     "output_type": "stream",
     "text": [
      "/home/dcmorgan/./run/oric/Plectoneme/PlectonemeCode.py:117: RuntimeWarning: invalid value encountered in true_divide\n",
      "  CurrentCurve=np.divide(CurrentCurve,CurveMag[ii])\t#normalize the curvature vector to track direction\n",
      "/home/dcmorgan/./run/oric/Plectoneme/PlectonemeCode.py:125: RuntimeWarning: invalid value encountered in remainder\n",
      "  CurvePhase[ii]=np.mod(np.arctan2(SinCurve,CosCurve)+Sequence_phase[ii],2*np.pi)\n",
      "/home/dcmorgan/./run/oric/Plectoneme/PlectonemeCode.py:148: RuntimeWarning: divide by zero encountered in log\n",
      "  Sequence_angle_energy=-np.log(Sequence_angle_exp)  #Backing out the implied energy landscape from the summed Boltzmann weights\n"
     ]
    }
   ],
   "source": [
    "sys.path.insert(1, './run/oric/Plectoneme/')\n",
    "import PlectonemeCode\n",
    "importlib.reload(sys.modules['PlectonemeCode'])\n",
    "from PlectonemeCode import PlectonemeCode\n",
    "\n",
    "Sequence_angle_exp_smth,Sequence_angle_exp,CurvePhase,BasepairCovariance= PlectonemeCode(Swave)\n",
    "#,wave['Direction (ϕB, degrees)'],wave['Wedge (θ, degrees)'],\n",
    "#                wave['Twist (degrees)'],wave['Tilt-Tilt covariance'],wave['Roll-Roll covariance'])\n"
   ]
  },
  {
   "cell_type": "code",
   "execution_count": 364,
   "id": "ae4cebad-3215-4454-b3ae-2c8c850a0aee",
   "metadata": {},
   "outputs": [
    {
     "data": {
      "text/plain": [
       "[<matplotlib.lines.Line2D at 0x7f8019ea6c70>]"
      ]
     },
     "execution_count": 364,
     "metadata": {},
     "output_type": "execute_result"
    },
    {
     "data": {
      "image/png": "[encoded data removed]",
      "text/plain": [
       "<Figure size 1440x360 with 1 Axes>"
      ]
     },
     "metadata": {
      "needs_background": "light"
     },
     "output_type": "display_data"
    }
   ],
   "source": [
    "jeff=biosppy.signals.tools.smoother(signal=BasepairCovariance[:,0,0], kernel='boxcar', size=40)\n",
    "# jeff\n",
    "plt.figure(figsize=(20,5))\n",
    "plt.bar(np.arange(len(BasepairCovariance)),BasepairCovariance[:,0,0])\n",
    "plt.plot(np.arange(len(jeff[0])),jeff[0])"
   ]
  },
  {
   "cell_type": "code",
   "execution_count": 469,
   "id": "f39d4f90-4598-443b-8da4-3d69ac149c02",
   "metadata": {},
   "outputs": [
    {
     "data": {
      "text/plain": [
       "<matplotlib.collections.PathCollection at 0x7f800d590f40>"
      ]
     },
     "execution_count": 469,
     "metadata": {},
     "output_type": "execute_result"
    },
    {
     "data": {
      "image/png": "[encoded data removed]",
      "text/plain": [
       "<Figure size 432x288 with 1 Axes>"
      ]
     },
     "metadata": {
      "needs_background": "light"
     },
     "output_type": "display_data"
    }
   ],
   "source": [
    "# plt.scatter(BasepairCovariance[:,0],BasepairCovariance[:,1])\n",
    "# plt.scatter(bp_cov.A,bp_cov.B,alpha=.5)\n",
    "plt.scatter(LocalCovariance[:,0],LocalCovariance[:,1])\n",
    "plt.scatter(localcov.A,localcov.B,alpha=.5)"
   ]
  },
  {
   "cell_type": "code",
   "execution_count": 470,
   "id": "de4df79d-d39e-4cb1-aca7-03379eff58ab",
   "metadata": {},
   "outputs": [
    {
     "data": {
      "text/plain": [
       "[array([[1.        , 0.92425609],\n",
       "        [0.92425609, 1.        ]]),\n",
       " SpearmanrResult(correlation=0.990295186650677, pvalue=0.0)]"
      ]
     },
     "execution_count": 470,
     "metadata": {},
     "output_type": "execute_result"
    },
    {
     "data": {
      "image/png": "[encoded data removed]",
      "text/plain": [
       "<Figure size 432x288 with 1 Axes>"
      ]
     },
     "metadata": {
      "needs_background": "light"
     },
     "output_type": "display_data"
    }
   ],
   "source": [
    "plt.scatter(igordat.Sequence_angle_exp,Sequence_angle_exp)\n",
    "[np.corrcoef(igordat.Sequence_angle_exp,Sequence_angle_exp),\n",
    "stats.spearmanr(igordat.Sequence_angle_exp,Sequence_angle_exp)]"
   ]
  },
  {
   "cell_type": "code",
   "execution_count": 190,
   "id": "5d90e440-3e8f-4181-af2f-bd3e14767113",
   "metadata": {},
   "outputs": [
    {
     "name": "stderr",
     "output_type": "stream",
     "text": [
      "/tmp/ipykernel_54634/4168662407.py:23: RuntimeWarning: divide by zero encountered in log\n",
      "  plt.scatter(np.log(Sequence_phase),np.log(igordat.Sequence_phase))\n",
      "/home/dcmorgan/.conda/envs/mypy3/lib/python3.9/site-packages/pandas/core/arraylike.py:364: RuntimeWarning: divide by zero encountered in log\n",
      "  result = getattr(ufunc, method)(*inputs, **kwargs)\n"
     ]
    },
    {
     "data": {
      "text/plain": [
       "<matplotlib.collections.PathCollection at 0x7f8021c37910>"
      ]
     },
     "execution_count": 190,
     "metadata": {},
     "output_type": "execute_result"
    },
    {
     "data": {
      "image/png": "[encoded data removed]",
      "text/plain": [
       "<Figure size 432x288 with 1 Axes>"
      ]
     },
     "metadata": {
      "needs_background": "light"
     },
     "output_type": "display_data"
    }
   ],
   "source": [
    "plt.scatter(normvector[0:1010].A,NormVector[:,0])\n",
    "plt.scatter(normvector[0:1010].B,NormVector[:,1])\n",
    "plt.scatter(normvector[0:1010].C,NormVector[:,2])\n",
    "plt.scatter(CurvePhase,igordat.CurvePhase)\n",
    "\n",
    "plt.scatter(tanvector[0:1010].A,TanVector[:,0])\n",
    "plt.scatter(tanvector[0:1010].B,TanVector[:,1])\n",
    "plt.scatter(tanvector[0:1010].C,TanVector[:,2])\n",
    "\n",
    "plt.scatter(curvevector[0:1010].A,CurveVector[:,0])\n",
    "plt.scatter(curvevector[0:1010].B,CurveVector[:,1])\n",
    "plt.scatter(curvevector[0:1010].C,CurveVector[:,2])\n",
    "\n",
    "cc=np.concatenate((DNApath,DNApathMajorGroove),axis=0)\n",
    "plt.scatter(dnapath.A,cc[1:,0])\n",
    "plt.scatter(dnapath.B,cc[1:,1])\n",
    "plt.scatter(dnapath.C,cc[1:,2])\n",
    "\n",
    "plt.scatter(igordat.CurveMag,CurveMag)\n",
    "plt.scatter(curvevector.B,CurveVector[:,1])\n",
    "plt.scatter(curvevector.C,CurveVector[:,2])\n",
    "\n",
    "plt.scatter(np.log(Sequence_phase),np.log(igordat.Sequence_phase))"
   ]
  },
  {
   "cell_type": "code",
   "execution_count": 854,
   "id": "c968edc1-5e78-4a8e-aa78-b0a06284ebd8",
   "metadata": {},
   "outputs": [
    {
     "data": {
      "text/plain": [
       "<BarContainer object of 1010 artists>"
      ]
     },
     "execution_count": 854,
     "metadata": {},
     "output_type": "execute_result"
    },
    {
     "data": {
      "image/png": "[encoded data removed]",
      "text/plain": [
       "<Figure size 432x288 with 1 Axes>"
      ]
     },
     "metadata": {
      "needs_background": "light"
     },
     "output_type": "display_data"
    }
   ],
   "source": [
    "#SG\n",
    "jeff=np.arange(len(Sequence_angle_exp))\n",
    "# np.log(Sequence_angle_exp_smth)\n",
    "# np.log(Sequence_angle_exp)\n",
    "\n",
    "cc=Sequence_angle_exp#np.nan_to_num((Sequence_angle_exp), copy=False, nan=0.0, posinf=0.0, neginf=0.0)\n",
    "dd=Sequence_angle_exp_smth/np.mean(Sequence_angle_exp_smth)#np.nan_to_num((Sequence_angle_exp_smth), copy=False, nan=0.0, posinf=0.0, neginf=0.0)\n",
    "\n",
    "# plt.figure(figsize=(20,5))\n",
    "plt.bar(jeff,cc)\n",
    "# plt.bar(np.arange(len(Sequence_angle_exp)),Sequence_angle_exp)\n",
    "# plt.plot(jeff,dd)\n"
   ]
  },
  {
   "cell_type": "code",
   "execution_count": 840,
   "id": "f4df776b-f921-4342-87a4-7b9cbef6b8d8",
   "metadata": {},
   "outputs": [
    {
     "data": {
      "text/plain": [
       "<BarContainer object of 1010 artists>"
      ]
     },
     "execution_count": 840,
     "metadata": {},
     "output_type": "execute_result"
    },
    {
     "data": {
      "image/png": "[encoded data removed]",
      "text/plain": [
       "<Figure size 432x288 with 1 Axes>"
      ]
     },
     "metadata": {
      "needs_background": "light"
     },
     "output_type": "display_data"
    }
   ],
   "source": [
    "plt.bar(igordat.index,igordat.Sequence_angle_exp)\n",
    "# plt.plot(igordat.index,igordat.Sequence_angle_exp_smth)\n"
   ]
  },
  {
   "cell_type": "code",
   "execution_count": 322,
   "id": "b033a001-0561-4c7c-9277-6168c5fd4cb4",
   "metadata": {},
   "outputs": [],
   "source": [
    "sys.path.insert(1, './run/oric/Plectoneme/')\n",
    "# import savitzky_golay\n",
    "importlib.reload(sys.modules['load_measures'])\n",
    "# from savitzky_golay import savitzky_golay\n",
    "# from smooth import smooth\n",
    "import load_measures\n",
    "from load_measures import load_measures\n",
    "# Swave='CGCTATTCTTCGGTTAACGAAGTCTGTAATTGATTTGTTAAGTTTTTCTTTTGAATATACGCATTAATTTTAGATTGAATTTGCTGAAGCTCTTCTTGATCAGCTTCTCGAATGGTTTGCTCCTTTTGTTCGCTCGTTAACGATTGTGAAGAAGCAGGAGACTGATTAGGGGCTGTCTCCACTTCATTTGTTTTTTTCGTACTTTTAGCTGCAGGGGTATTTGAAGGCTGAACCGCTTCTTCAGATTCCTGCAGAGATTGAAATTCCATCACGCCCGTTCCTCCAACGAACGCTTCATTAAATGCGCGAGAAAGGTTCTTAAATTTCTGCGCATCCACTGAGCTCATTGCAAACAATACAATGAATAAAGCAAGTAAAAGTGTAAGCAAATCTGAGTAAGGAAGCAGCCAGCTTTCGTCAACATGGTCCTCTTCATGCTTTCGTTTTCTGCGTCTACTCATTTATGCCCACTTCACTTTCTTGAAGAAGCTTTTTACGTTCCGCTGTTGGCAAATAAGAAGCCAGCTTTTGCTCAATTACTTTTGGTGTTTCTCCTTCTAAAAGTGAAAGCACTCCTTCGATCATCATATACTTTACCTTTACTTCATGTTTCGATTTACGCTTTAGTTTATTTGCAAACGGATGCCATAGTACATACCCAGTAAAAATACCAAGAAGCGTAGCAACAAACGCCGCGCTGATCGCATGTCCTAGCGTATCTGTATCTTCCATGTTCCCAAGCGCAGCAATTAACCCTATAACAGCTCCAAGTACACCCAGAGTTGGAGCATATGTACCTGCTAAAGCGAAAATACTTGCACCCGTTTGATGTCTTTCTTCCATAGCATCAATTTCTTCAGACAACACGTCTCGTATATAATCCGCACTTTGACCATCAATAGCTAAATTCAAACCATTTTTTAAGAAAGGGTCATCTACATCAATAATTTGGGCTTCAAGTGATAGTAACCCTTCTTTTCGAACAACTTGTCCCCATTCAGAAAACGCGT'\n",
    "Twave, Wwave, Dwave, CwaveRR, CwaveTT=load_measures()"
   ]
  },
  {
   "cell_type": "code",
   "execution_count": 323,
   "id": "08e7c223-063d-4da0-b53c-5031a2b316ac",
   "metadata": {},
   "outputs": [
    {
     "ename": "IndentationError",
     "evalue": "expected an indented block (540253288.py, line 169)",
     "output_type": "error",
     "traceback": [
      "\u001b[0;36m  File \u001b[0;32m\"/tmp/ipykernel_54634/540253288.py\"\u001b[0;36m, line \u001b[0;32m169\u001b[0m\n\u001b[0;31m    Twave, Wwave, Dwave, CwaveRR, CwaveTT=load_measures()\u001b[0m\n\u001b[0m    ^\u001b[0m\n\u001b[0;31mIndentationError\u001b[0m\u001b[0;31m:\u001b[0m expected an indented block\n"
     ]
    }
   ],
   "source": [
    "Twave, Wwave, Dwave, CwaveRR, CwaveTT=load_measures()\n",
    "    SeqLength=len(Swave)\n",
    "    rise=0.339\n",
    "    \n",
    "    DNApath,DNApathMajorGroove=(np.zeros([SeqLength,4]) for i in range(2))\n",
    "    BasepairCovariance,LocalCovariance=(np.zeros([SeqLength,2,2]) for i in range(2))\n",
    "    CurvatureSequence,Sequence_phase,Sequence_angle_energy,Sequence_angle_exp,EndEffects= (np.zeros(SeqLength) for i in range(5))\n",
    "    \n",
    "    StartPos=[0,0,0,1]\n",
    "    StartPosMG=[1,0,0,1]\n",
    "    DNApath[0]= StartPos\n",
    "    Minverse_tot=np.identity(4)\n",
    "    M_tot=Minverse_tot\n",
    "    T_n=M_tot\n",
    "    T_n[3,2]=-rise/2\n",
    "    \n",
    "    #This loop finds the 3D path of the relaxed DNA\n",
    "    Letter1=0\n",
    "    for ii in (np.arange(SeqLength-1)):\n",
    "        ii=ii+1\n",
    "        if Swave[ii]=='A':\n",
    "            Letter2=0\n",
    "        elif Swave[ii]=='C':\n",
    "            Letter2=1\n",
    "        elif Swave[ii]=='G':\n",
    "            Letter2=2\n",
    "        else:\n",
    "            Letter2=3\n",
    "    \n",
    "        index = 4*Letter1+Letter2\t\t\t#The index defines the current dinucleotide, AA=0, AC=1,...TT=15\n",
    "        Sequence_phase[ii]=Sequence_phase[ii-1]+Twave[index]\t\t\t\t\t#This is used to measure how far around the DNA the major groove has rotated relative to the first base pair\n",
    "        BendRot=np.transpose(np.array([[np.cos(Sequence_phase[ii]), np.sin(Sequence_phase[ii])],[-np.sin(Sequence_phase[ii]),np.cos(Sequence_phase[ii])]])) #Rotation matrix\n",
    "        Covariance=np.array([[CwaveRR[index], 0],[0,CwaveTT[index]]])\t#The covariance matrix for the current basepair, expressed in the coordinates of the current basepair\n",
    "        CovRot = BendRot@Covariance@np.transpose(BendRot) #Rotating the covariance matrix so it will line up with its neighbors\n",
    "        BasepairCovariance[ii]=CovRot#np.sum(CovRot,axis=1)\t\t\t\t\t#Rotated covariance matrix at position is recorded\n",
    "    \n",
    "        omDiv2_n=Twave[index]/2\n",
    "        Romega_n=np.transpose(np.array([[np.cos(omDiv2_n),np.sin(omDiv2_n),0,0],[-np.sin(omDiv2_n),np.cos(omDiv2_n),0,0],[0,0,1,0],[0,0,0,1]]))\n",
    "        alpha_n=Wwave[index]\n",
    "        beta_n=Dwave[index]-np.pi/2\n",
    "    \n",
    "        Rzplus=np.transpose(np.array([[np.cos(beta_n),np.sin(beta_n),0,0],[-np.sin(beta_n),np.cos(beta_n),0,0],[0,0,1,0],[0,0,0,1]]))\n",
    "        Rx=np.transpose(np.array([[1,0,0,0],[0,np.cos(-alpha_n),np.sin(-alpha_n),0],[0,-np.sin(-alpha_n),np.cos(-alpha_n),0],[0,0,0,1]]))\n",
    "        Rzminus=np.transpose(np.array([[np.cos(-beta_n),np.sin(-beta_n),0,0],[-np.sin(-beta_n),np.cos(-beta_n),0,0],[0,0,1,0],[0,0,0,1]]))\n",
    "    \n",
    "        Q_n = Rzminus@Rx@Rzplus\n",
    "        Minverse_n = np.linalg.inv(T_n@Romega_n@Q_n@Romega_n@T_n)\n",
    "        Minverse_new =  Minverse_n@Minverse_tot\n",
    "        \n",
    "        Minverse_tot=Minverse_new #Updating the total tranformation matrix\n",
    "        CurrentPos = np.transpose(Minverse_tot)@StartPos  #Calculate the coordinates of the current basepair\n",
    "        CurrentPosMG =  np.transpose(Minverse_tot)@StartPosMG\n",
    "    \n",
    "        DNApath[ii]=CurrentPos\n",
    "        DNApathMajorGroove[ii]=CurrentPosMG\n",
    "        Letter1=Letter2\n",
    "    \n",
    "    # print(\"path calculated\")\n",
    "    \n",
    "    #Make the curvature calculation\n",
    "    CircFrac=0.667\t#We assume the plectoneme tip makes a 240� arc before joining the bulk plectoneme region\n",
    "    BindLength=450   #experimentally, ~450 nt are bound to the surface at each end of the DNA\n",
    "    AvePlecLength=1000\n",
    "    \n",
    "    tanlength=10 #must be even. This is number of basepairs used to calculate the local tangent vectors.\n",
    "    \n",
    "    \n",
    "    \n",
    "    for CurveWindow in (np.arange(40,119,8)):# (CurveWindow=40; CurveWindow<120; CurveWindow+=8)\n",
    "        # LocalCovariance[:,0]=savitzky_golay(BasepairCovariance[:,0],CurveWindow+1,2)\t\t#Find covariance matrix over the curvature window\n",
    "        # LocalCovariance[:,1]=savitzky_golay(BasepairCovariance[:,1],CurveWindow+1,2)\n",
    "        LocalCovariance[:,0,0]=biosppy.signals.tools.smoother(signal=BasepairCovariance[:,0,0], kernel='boxcar', size=CurveWindow,mirror=False)[0]\n",
    "        LocalCovariance[:,1,1]=biosppy.signals.tools.smoother(signal=BasepairCovariance[:,1,1], kernel='boxcar', size=CurveWindow,mirror=False)[0]\n",
    "        LocalCovariance[:,1,0]=biosppy.signals.tools.smoother(signal=BasepairCovariance[:,1,0], kernel='boxcar', size=CurveWindow,mirror=False)[0]\n",
    "        LocalCovariance[:,0,1]=biosppy.signals.tools.smoother(signal=BasepairCovariance[:,0,1], kernel='boxcar', size=CurveWindow,mirror=False)[0]\n",
    "        # kernel_size=len(BasepairCovariance[:,0])\n",
    "        # LocalCovariance[:,0]=signal.convolve(BasepairCovariance[:,0],np.ones(kernel_size)/kernel_size,mode='same')\n",
    "        # LocalCovariance[:,1]=signal.convolve(BasepairCovariance[:,1],np.ones(kernel_size)/kernel_size,mode='same')\n",
    "        # w=2\n",
    "        # s=CurveWindow+1\n",
    "        # t = (((w - 1)/2)-0.5)/s\n",
    "        # LocalCovariance=gaussian_filter(BasepairCovariance,sigma=s, truncate=t)\n",
    "    \n",
    "        TanVector, NormVector,CurveVector=(np.zeros([SeqLength,3]) for i in range(3))\n",
    "        CurveMag, CurvePhase, HalfCurveMag, HalfCurvePhase=(np.zeros([SeqLength]) for i in range(4))\n",
    "        NormVector=DNApathMajorGroove[:,0:3]-DNApath[:,0:3]  #identifies the normal vector alligned with the major groove\n",
    "        CurrentTan, CurrentCurve, tP, tM, CurveCross, CurrentNorm=(np.zeros(3) for i in range(6))\n",
    "    \n",
    "        # find the tan vectors over tanlength\n",
    "        half_tan_len=int(tanlength/2)\n",
    "        for ii in np.arange(half_tan_len,SeqLength-half_tan_len-1):\n",
    "            CurrentTan=DNApath[ii+half_tan_len]-DNApath[ii-half_tan_len]\n",
    "            VectorMag=np.sqrt(np.dot(CurrentTan, CurrentTan))\n",
    "            TanVector[ii]=(CurrentTan/VectorMag)[0:3] #Normalizes tangent vector to unit length\n",
    "        half_curve=int(CurveWindow/2)\n",
    "        # find the curvature vectors and values over CurveWindow\n",
    "        for ii in np.arange(half_curve, SeqLength-half_curve-1):\n",
    "            tP=TanVector[ii+half_curve]\t#plus tan vector\n",
    "            tM=TanVector[ii-half_curve]\t#minus tan vector\n",
    "            CurrentCurve =np.cross(tP,tM)   #Cross product\n",
    "            CurveVector[ii]=CurrentCurve  #curvature vector is recorded at this position\n",
    "            CurveMag[ii]=np.arcsin(np.sqrt(np.dot(CurrentCurve, CurrentCurve)))\n",
    "    \n",
    "            CurrentCurve=np.divide(CurrentCurve,CurveMag[ii])\t#normalize the curvature vector to track direction\n",
    "            #Calculates the phase angle of the curvature relative to major groove at start of DNA\n",
    "            CurrentTan=TanVector[ii]\n",
    "            CurrentNorm=NormVector[ii]\n",
    "            \n",
    "            CosCurve=np.dot(CurrentCurve, CurrentNorm)\n",
    "            CurveCross=np.cross(CurrentCurve,CurrentNorm)\n",
    "            SinCurve=np.dot(CurveCross, CurrentTan)\n",
    "            CurvePhase[ii]=np.mod(np.arctan2(SinCurve,CosCurve)+Sequence_phase[ii],2*np.pi)\n",
    "        EnergyOffset=25-CurveWindow*0.334*3/4.06   #adds energy penalty from pulling in DNA ends against a force\n",
    "    \n",
    "        for ii in np.arange(BindLength,SeqLength-BindLength-1):\n",
    "            Covariance=LocalCovariance[ii]\n",
    "            BendRot=np.transpose(np.array([[np.cos(CurvePhase[ii]), np.sin(CurvePhase[ii])],[-np.sin(CurvePhase[ii]),np.cos(CurvePhase[ii])]]))\n",
    "            CovRot = ( BendRot @ Covariance @ np.transpose(BendRot))\t\t#local covariance matrix alligned to major groove\n",
    "            BendRot=np.transpose(np.array([[np.cos(np.pi/4), np.sin(np.pi/4)],[-np.sin(np.pi/4),np.cos(np.pi/4)]]))\n",
    "            CovRot45 = ( BendRot @ Covariance @ np.transpose(BendRot))\t\t#local covariance matrix alligned 45� to major groove\n",
    "            Cnorm=CurveMag[ii]/(2*np.pi*CircFrac)\n",
    "            # Cnorm=0\t\t\t\t#Uncomment to compare to straight DNA with variable stiffness\n",
    "            E_base=CircFrac**2*3000/CurveWindow\n",
    "            Z1=np.exp(-E_base/CovRot[0][0]*((1-Cnorm)**2)+EnergyOffset)\t\t\t#Bend in direction of curve\n",
    "            Z2=np.exp(-E_base/CovRot[0][0]*((1+Cnorm)**2)+EnergyOffset)\t\t\t#Bend against curve\n",
    "            Z3=np.exp(-E_base/CovRot[1][1]*(1-(Cnorm)**2)+EnergyOffset)\t\t\t#Bend perpendicular to curve\n",
    "            Z4=np.exp(-E_base/CovRot45[0][0]*(np.sqrt(Cnorm**2/2+1)-Cnorm/np.sqrt(2))**2+EnergyOffset)\t\t#Bend at 45, 135, 225, and 315\n",
    "            Z5=np.exp(-E_base/CovRot45[0][0]*(np.sqrt(Cnorm**2/2+1)+Cnorm/np.sqrt(2))**2+EnergyOffset)\n",
    "            Z6=np.exp(-E_base/CovRot45[1][1]*(np.sqrt(Cnorm**2/2+1)-Cnorm/np.sqrt(2))**2+EnergyOffset)\n",
    "            Z7=np.exp(-E_base/CovRot45[1][1]*(np.sqrt(Cnorm**2/2+1)+Cnorm/np.sqrt(2))**2+EnergyOffset)\n",
    "    \n",
    "            Sequence_angle_exp[ii]=Z1+Z2+2*Z3+Z4+Z5+Z6+Z7\n",
    "    \n",
    "    \n",
    "    Sequence_angle_energy=-np.log(Sequence_angle_exp)  #Backing out the implied energy landscape from the summed Boltzmann weights\n",
    "# what is P???\n",
    "# EndEffects=max(0,min(1,(p-BindLength)/AvePlecLength)*min(1,(SeqLength-p-BindLength)/AvePlecLength))  //takes into account the effects of the handles, including limited plectoneme growth near the attachment points\n",
    "\n",
    "    EndEffects=max(0,min(1,(BindLength)/AvePlecLength)*min(1,(SeqLength-BindLength)/AvePlecLength))#  //takes into account the effects of the handles, including limited plectoneme growth near the attachment points\n",
    "    Sequence_angle_exp=Sequence_angle_exp*EndEffects\n",
    "    \n",
    "    Sequence_angle_exp_smth=np.copy(Sequence_angle_exp)\n",
    "    # np.nan_to_num(Sequence_angle_exp_smth, copy=True, nan=0.0, posinf=None, neginf=None)\n",
    "    # kernel_size=len(Sequence_angle_exp_smth)\n",
    "    for i in (np.arange(64)):\n",
    "        # Sequence_angle_exp_smth=savitzky_golay(Sequence_angle_exp_smth,65,2)\t\t#Find covariance matrix over the curvature window\n",
    "        # Sequence_angle_exp_smth=signal.convolve(Sequence_angle_exp_smth,np.ones(kernel_size)/kernel_size,mode='same')\n",
    "        # w=2\n",
    "        # s=300\n",
    "        # t = (((w - 1)/2)-0.5)/s\n",
    "        # Sequence_angle_exp_smth=gaussian_filter(Sequence_angle_exp_smth,sigma=s, truncate=t)\n",
    "        Sequence_angle_exp_smth=biosppy.signals.tools.smoother(signal=Sequence_angle_exp_smth, kernel='boxcar', size=300,mirror=False)[0]\n",
    "        Sequence_angle_exp_smth=Sequence_angle_exp_smth/np.mean(Sequence_angle_exp_smth)\n",
    "        \n",
    "    return Sequence_angle_exp_smth, Sequence_angle_exp,CurvePhase,BasepairCovariance\n",
    "    import numpy as np\n",
    "import os,sys\n",
    "sys.path.insert(1, './run/oric/Plectoneme/')\n",
    "import glob\n",
    "from tqdm import tqdm\n",
    "import pandas as pd\n",
    "# from scipy import signal\n",
    "import biosppy\n",
    "from savitzky_golay import savitzky_golay\n",
    "from load_measures import load_measures\n",
    "\n",
    "\n",
    "def PlectonemeCode(Swave):\n",
    "    Twave, Wwave, Dwave, CwaveRR, CwaveTT=load_measures()\n",
    "    SeqLength=len(Swave)\n",
    "    rise=0.339\n",
    "    \n",
    "    DNApath,DNApathMajorGroove=(np.zeros([SeqLength,4]) for i in range(2))\n",
    "    BasepairCovariance,LocalCovariance=(np.zeros([SeqLength,2,2]) for i in range(2))\n",
    "    CurvatureSequence,Sequence_phase,Sequence_angle_energy,Sequence_angle_exp,EndEffects= (np.zeros(SeqLength) for i in range(5))\n",
    "    \n",
    "    StartPos=[0,0,0,1]\n",
    "    StartPosMG=[1,0,0,1]\n",
    "    DNApath[0]= StartPos\n",
    "    Minverse_tot=np.identity(4)\n",
    "    M_tot=Minverse_tot\n",
    "    T_n=M_tot\n",
    "    T_n[3,2]=-rise/2\n",
    "    \n",
    "    #This loop finds the 3D path of the relaxed DNA\n",
    "    Letter1=0\n",
    "    for ii in (np.arange(SeqLength-1)):\n",
    "        ii=ii+1\n",
    "        if Swave[ii]=='A':\n",
    "            Letter2=0\n",
    "        elif Swave[ii]=='C':\n",
    "            Letter2=1\n",
    "        elif Swave[ii]=='G':\n",
    "            Letter2=2\n",
    "        else:\n",
    "            Letter2=3\n",
    "    \n",
    "        index = 4*Letter1+Letter2\t\t\t#The index defines the current dinucleotide, AA=0, AC=1,...TT=15\n",
    "        Sequence_phase[ii]=Sequence_phase[ii-1]+Twave[index]\t\t\t\t\t#This is used to measure how far around the DNA the major groove has rotated relative to the first base pair\n",
    "        BendRot=np.transpose(np.array([[np.cos(Sequence_phase[ii]), np.sin(Sequence_phase[ii])],[-np.sin(Sequence_phase[ii]),np.cos(Sequence_phase[ii])]])) #Rotation matrix\n",
    "        Covariance=np.array([[CwaveRR[index], 0],[0,CwaveTT[index]]])\t#The covariance matrix for the current basepair, expressed in the coordinates of the current basepair\n",
    "        CovRot = BendRot@Covariance@np.transpose(BendRot) #Rotating the covariance matrix so it will line up with its neighbors\n",
    "        BasepairCovariance[ii]=CovRot#np.sum(CovRot,axis=1)\t\t\t\t\t#Rotated covariance matrix at position is recorded\n",
    "    \n",
    "        omDiv2_n=Twave[index]/2\n",
    "        Romega_n=np.transpose(np.array([[np.cos(omDiv2_n),np.sin(omDiv2_n),0,0],[-np.sin(omDiv2_n),np.cos(omDiv2_n),0,0],[0,0,1,0],[0,0,0,1]]))\n",
    "        alpha_n=Wwave[index]\n",
    "        beta_n=Dwave[index]-np.pi/2\n",
    "    \n",
    "        Rzplus=np.transpose(np.array([[np.cos(beta_n),np.sin(beta_n),0,0],[-np.sin(beta_n),np.cos(beta_n),0,0],[0,0,1,0],[0,0,0,1]]))\n",
    "        Rx=np.transpose(np.array([[1,0,0,0],[0,np.cos(-alpha_n),np.sin(-alpha_n),0],[0,-np.sin(-alpha_n),np.cos(-alpha_n),0],[0,0,0,1]]))\n",
    "        Rzminus=np.transpose(np.array([[np.cos(-beta_n),np.sin(-beta_n),0,0],[-np.sin(-beta_n),np.cos(-beta_n),0,0],[0,0,1,0],[0,0,0,1]]))\n",
    "    \n",
    "        Q_n = Rzminus@Rx@Rzplus\n",
    "        Minverse_n = np.linalg.inv(T_n@Romega_n@Q_n@Romega_n@T_n)\n",
    "        Minverse_new =  Minverse_n@Minverse_tot\n",
    "        \n",
    "        Minverse_tot=Minverse_new #Updating the total tranformation matrix\n",
    "        CurrentPos = np.transpose(Minverse_tot)@StartPos  #Calculate the coordinates of the current basepair\n",
    "        CurrentPosMG =  np.transpose(Minverse_tot)@StartPosMG\n",
    "    \n",
    "        DNApath[ii]=CurrentPos\n",
    "        DNApathMajorGroove[ii]=CurrentPosMG\n",
    "        Letter1=Letter2\n",
    "    \n",
    "    # print(\"path calculated\")\n",
    "    \n",
    "    #Make the curvature calculation\n",
    "    CircFrac=0.667\t#We assume the plectoneme tip makes a 240� arc before joining the bulk plectoneme region\n",
    "    BindLength=450   #experimentally, ~450 nt are bound to the surface at each end of the DNA\n",
    "    AvePlecLength=1000\n",
    "    \n",
    "    tanlength=10 #must be even. This is number of basepairs used to calculate the local tangent vectors.\n",
    "    \n",
    "    \n",
    "    \n",
    "    for CurveWindow in (np.arange(40,119,8)):# (CurveWindow=40; CurveWindow<120; CurveWindow+=8)\n",
    "        # LocalCovariance[:,0]=savitzky_golay(BasepairCovariance[:,0],CurveWindow+1,2)\t\t#Find covariance matrix over the curvature window\n",
    "        # LocalCovariance[:,1]=savitzky_golay(BasepairCovariance[:,1],CurveWindow+1,2)\n",
    "        LocalCovariance[:,0,0]=biosppy.signals.tools.smoother(signal=BasepairCovariance[:,0,0], kernel='boxcar', size=CurveWindow,mirror=False)[0]\n",
    "        LocalCovariance[:,1,1]=biosppy.signals.tools.smoother(signal=BasepairCovariance[:,1,1], kernel='boxcar', size=CurveWindow,mirror=False)[0]\n",
    "        LocalCovariance[:,1,0]=biosppy.signals.tools.smoother(signal=BasepairCovariance[:,1,0], kernel='boxcar', size=CurveWindow,mirror=False)[0]\n",
    "        LocalCovariance[:,0,1]=biosppy.signals.tools.smoother(signal=BasepairCovariance[:,0,1], kernel='boxcar', size=CurveWindow,mirror=False)[0]\n",
    "        # kernel_size=len(BasepairCovariance[:,0])\n",
    "        # LocalCovariance[:,0]=signal.convolve(BasepairCovariance[:,0],np.ones(kernel_size)/kernel_size,mode='same')\n",
    "        # LocalCovariance[:,1]=signal.convolve(BasepairCovariance[:,1],np.ones(kernel_size)/kernel_size,mode='same')\n",
    "        # w=2\n",
    "        # s=CurveWindow+1\n",
    "        # t = (((w - 1)/2)-0.5)/s\n",
    "        # LocalCovariance=gaussian_filter(BasepairCovariance,sigma=s, truncate=t)\n",
    "    \n",
    "        TanVector, NormVector,CurveVector=(np.zeros([SeqLength,3]) for i in range(3))\n",
    "        CurveMag, CurvePhase, HalfCurveMag, HalfCurvePhase=(np.zeros([SeqLength]) for i in range(4))\n",
    "        NormVector=DNApathMajorGroove[:,0:3]-DNApath[:,0:3]  #identifies the normal vector alligned with the major groove\n",
    "        CurrentTan, CurrentCurve, tP, tM, CurveCross, CurrentNorm=(np.zeros(3) for i in range(6))\n",
    "    \n",
    "        # find the tan vectors over tanlength\n",
    "        half_tan_len=int(tanlength/2)\n",
    "        for ii in np.arange(half_tan_len,SeqLength-half_tan_len-1):\n",
    "            CurrentTan=DNApath[ii+half_tan_len]-DNApath[ii-half_tan_len]\n",
    "            VectorMag=np.sqrt(np.dot(CurrentTan, CurrentTan))\n",
    "            TanVector[ii]=(CurrentTan/VectorMag)[0:3] #Normalizes tangent vector to unit length\n",
    "        half_curve=int(CurveWindow/2)\n",
    "        # find the curvature vectors and values over CurveWindow\n",
    "        for ii in np.arange(half_curve, SeqLength-half_curve-1):\n",
    "            tP=TanVector[ii+half_curve]\t#plus tan vector\n",
    "            tM=TanVector[ii-half_curve]\t#minus tan vector\n",
    "            CurrentCurve =np.cross(tP,tM)   #Cross product\n",
    "            CurveVector[ii]=CurrentCurve  #curvature vector is recorded at this position\n",
    "            CurveMag[ii]=np.arcsin(np.sqrt(np.dot(CurrentCurve, CurrentCurve)))\n",
    "    \n",
    "            CurrentCurve=np.divide(CurrentCurve,CurveMag[ii])\t#normalize the curvature vector to track direction\n",
    "            #Calculates the phase angle of the curvature relative to major groove at start of DNA\n",
    "            CurrentTan=TanVector[ii]\n",
    "            CurrentNorm=NormVector[ii]\n",
    "            \n",
    "            CosCurve=np.dot(CurrentCurve, CurrentNorm)\n",
    "            tP=CurrentNorm\n",
    "            tM=CurrentCurve\n",
    "            CurveCross=np.cross(CurrentNorm,CurrentCurve)\n",
    "            SinCurve=np.dot(CurveCross, CurrentTan)\n",
    "            CurvePhase[ii]=np.mod(np.arctan2(SinCurve,CosCurve)+Sequence_phase[ii],2*np.pi)\n",
    "        EnergyOffset=25-CurveWindow*0.334*3/4.06   #adds energy penalty from pulling in DNA ends against a force\n",
    "    \n",
    "        for ii in np.arange(BindLength,SeqLength-BindLength-1):\n",
    "            Covariance=LocalCovariance[ii]\n",
    "            BendRot=np.transpose(np.array([[np.cos(CurvePhase[ii]), np.sin(CurvePhase[ii])],[-np.sin(CurvePhase[ii]),np.cos(CurvePhase[ii])]]))\n",
    "            CovRot = ( BendRot @ Covariance @ np.transpose(BendRot))\t\t#local covariance matrix alligned to major groove\n",
    "            BendRot=np.transpose(np.array([[np.cos(np.pi/4), np.sin(np.pi/4)],[-np.sin(np.pi/4),np.cos(np.pi/4)]]))\n",
    "            CovRot45 = ( BendRot @ Covariance @ np.transpose(BendRot))\t\t#local covariance matrix alligned 45� to major groove\n",
    "            Cnorm=CurveMag[ii]/(2*np.pi*CircFrac)\n",
    "            # Cnorm=0\t\t\t\t#Uncomment to compare to straight DNA with variable stiffness\n",
    "            E_base=CircFrac**2*3000/CurveWindow\n",
    "            Z1=np.exp(-E_base/CovRot[0][0]*((1-Cnorm)**2)+EnergyOffset)\t\t\t#Bend in direction of curve\n",
    "            Z2=np.exp(-E_base/CovRot[0][0]*((1+Cnorm)**2)+EnergyOffset)\t\t\t#Bend against curve\n",
    "            Z3=np.exp(-E_base/CovRot[1][1]*(1-(Cnorm)**2)+EnergyOffset)\t\t\t#Bend perpendicular to curve\n",
    "            Z4=np.exp(-E_base/CovRot45[0][0]*(np.sqrt(Cnorm**2/2+1)-Cnorm/np.sqrt(2))**2+EnergyOffset)\t\t#Bend at 45, 135, 225, and 315\n",
    "            Z5=np.exp(-E_base/CovRot45[0][0]*(np.sqrt(Cnorm**2/2+1)+Cnorm/np.sqrt(2))**2+EnergyOffset)\n",
    "            Z6=np.exp(-E_base/CovRot45[1][1]*(np.sqrt(Cnorm**2/2+1)-Cnorm/np.sqrt(2))**2+EnergyOffset)\n",
    "            Z7=np.exp(-E_base/CovRot45[1][1]*(np.sqrt(Cnorm**2/2+1)+Cnorm/np.sqrt(2))**2+EnergyOffset)\n",
    "    \n",
    "            Sequence_angle_exp[ii]=Sequence_angle_exp[ii]+Z1+Z2+2*Z3+Z4+Z5+Z6+Z7\n",
    "    \n",
    "    \n",
    "    Sequence_angle_energy=-np.log(Sequence_angle_exp)  #Backing out the implied energy landscape from the summed Boltzmann weights\n",
    "# what is P???\n",
    "# EndEffects=max(0,min(1,(p-BindLength)/AvePlecLength)*min(1,(SeqLength-p-BindLength)/AvePlecLength))  //takes into account the effects of the handles, including limited plectoneme growth near the attachment points\n",
    "#\n",
    "    EndEffects=max(0,min(1,(BindLength)/AvePlecLength)*min(1,(SeqLength-BindLength)/AvePlecLength))#  //takes into account the effects of the handles, including limited plectoneme growth near the attachment points\n",
    "    A=np.zeros([AvePlecLength,2])\n",
    "    for p in np.arange(AvePlecLength):\n",
    "        A[p,0]=(p-BindLength)/AvePlecLength\n",
    "        A[p,1]=(SeqLength-p-BindLength)/AvePlecLength\n",
    "    EndEffects=np.max(min(A[:,0])*min(A[:,1]))\n",
    "    \n",
    "    Sequence_angle_exp=Sequence_angle_exp*EndEffects\n",
    "    \n",
    "    Sequence_angle_exp_smth=np.copy(Sequence_angle_exp)\n",
    "    # np.nan_to_num(Sequence_angle_exp_smth, copy=True, nan=0.0, posinf=None, neginf=None)\n",
    "    # kernel_size=len(Sequence_angle_exp_smth)\n",
    "    for i in (np.arange(64)):\n",
    "        # Sequence_angle_exp_smth=savitzky_golay(Sequence_angle_exp_smth,65,2)\t\t#Find covariance matrix over the curvature window\n",
    "        # Sequence_angle_exp_smth=signal.convolve(Sequence_angle_exp_smth,np.ones(kernel_size)/kernel_size,mode='same')\n",
    "        # w=2\n",
    "        # s=300\n",
    "        # t = (((w - 1)/2)-0.5)/s\n",
    "        # Sequence_angle_exp_smth=gaussian_filter(Sequence_angle_exp_smth,sigma=s, truncate=t)\n",
    "        Sequence_angle_exp_smth=biosppy.signals.tools.smoother(signal=Sequence_angle_exp_smth, kernel='boxcar', size=300,mirror=False)[0]\n",
    "        Sequence_angle_exp_smth=Sequence_angle_exp_smth/np.mean(Sequence_angle_exp_smth)"
   ]
  },
  {
   "cell_type": "markdown",
   "id": "aad9e2d8-a378-4eb6-b98c-9d7859a3c792",
   "metadata": {
    "tags": []
   },
   "source": [
    "# Run Plectoneme on Gordon's High and None"
   ]
  },
  {
   "cell_type": "code",
   "execution_count": 628,
   "id": "bfd88567-f6ad-4d8e-b247-f72ccfa36e92",
   "metadata": {},
   "outputs": [
    {
     "data": {
      "text/plain": [
       "[421, 388, 3863, 4763]"
      ]
     },
     "execution_count": 628,
     "metadata": {},
     "output_type": "execute_result"
    }
   ],
   "source": [
    "sys.path.insert(1, './run/oric/Plectoneme/')\n",
    "# import PlectonemeCode\n",
    "importlib.reload(sys.modules['PlectonemeCode'])\n",
    "from PlectonemeCode import PlectonemeCode\n",
    "\n",
    "[len(high),len(zero),max(high['len']),max(zero['len'])]"
   ]
  },
  {
   "cell_type": "code",
   "execution_count": 606,
   "id": "6c4138d0-aba9-48a3-8b9c-c37cfacd9930",
   "metadata": {},
   "outputs": [],
   "source": [
    "high=high[(high['len']>500)]#&(high['len']<5000)]\n",
    "zero=zero[(zero['len']>500)]#&(zero['len']<5000)]\n",
    "# [len(high),len(zero)]"
   ]
  },
  {
   "cell_type": "code",
   "execution_count": 607,
   "id": "e3b92f42-929c-4fb6-9b49-2962ae1cd9d5",
   "metadata": {},
   "outputs": [],
   "source": [
    "# tmp=plt.hist(high['len'],bins=100)\n",
    "# tmp=plt.hist(zero['len'],bins=100,alpha=.5)"
   ]
  },
  {
   "cell_type": "code",
   "execution_count": null,
   "id": "2ff99b17-1bfd-45a2-9cf2-e75a6630e62e",
   "metadata": {},
   "outputs": [
    {
     "name": "stderr",
     "output_type": "stream",
     "text": [
      "421it [05:51,  1.20it/s]\n",
      "388it [03:46,  1.71it/s]\n",
      "272it [05:10,  1.14s/it]\n",
      "147it [01:54,  1.85it/s]"
     ]
    }
   ],
   "source": [
    "# from scipy.integrate import simps\n",
    "from numpy import trapz\n",
    "\n",
    "for j in [0,500,1000]:\n",
    "\n",
    "    high=pd.read_csv('data/Plectoneme/high_gene.fa',sep='\\t',header=None)\n",
    "    zero=pd.read_csv('data/Plectoneme/zero_gene.fa',sep='\\t',header=None)\n",
    "    high=high[1::2]\n",
    "    zero=zero[1::2]\n",
    "    high['len'] = [len(i) for i in high[0]]\n",
    "    zero['len'] = [len(i) for i in zero[0]]\n",
    "    high=high[(high['len']>j)]\n",
    "    zero=zero[(zero['len']>j)]\n",
    "    A=np.zeros([int(len(high)),6])\n",
    "    B=np.zeros([int(len(zero)),6])\n",
    "    \n",
    "    for i,Swave in tqdm(enumerate(high[0].tolist())):\n",
    "        Sequence_angle_exp_smth,Sequence_angle_exp,CurvePhase,BasepairCovariance= PlectonemeCode(Swave)\n",
    "        # A[i,0]=np.mean(Sequence_angle_exp)\n",
    "        # A[i,1]=np.median(Sequence_angle_exp)\n",
    "        # A[i,2]=np.percentile(Sequence_angle_exp,95)\n",
    "        # cc=np.histogram(Sequence_angle_exp,bins=10)\n",
    "        # jeff[i,0,0:10]=cc[0]\n",
    "        # jeff[i,1]=cc[1]\n",
    "        A[i,3]=trapz(Sequence_angle_exp, dx=5)\n",
    "        # A[i,4]=simps(Sequence_angle_exp, dx=5)\n",
    "        A[i,5]=len(Sequence_angle_exp)\n",
    "\n",
    "    for i,Swave in tqdm(enumerate(zero[0].tolist())):\n",
    "        Sequence_angle_exp_smth,Sequence_angle_exp,CurvePhase,BasepairCovariance= PlectonemeCode(Swave)\n",
    "        # B[i,0]=np.mean(Sequence_angle_exp)\n",
    "        # B[i,1]=np.median(Sequence_angle_exp)\n",
    "        # B[i,2]=np.percentile(Sequence_angle_exp,95)\n",
    "        # cc=np.histogram(Sequence_angle_exp,bins=10)\n",
    "        # bill[i,0,0:10]=cc[0]\n",
    "        # bill[i,1]=cc[1]\n",
    "        B[i,3]=trapz(Sequence_angle_exp, dx=5)\n",
    "        # B[i,4]=simps(Sequence_angle_exp, dx=5)\n",
    "        B[i,5]=len(Sequence_angle_exp)\n",
    "\n",
    "    np.savetxt(\"data/Plectoneme/high_gene_plect\"+str(j)+\".txt\", A, delimiter=\"\\t\")\n",
    "    np.savetxt(\"data/Plectoneme/none_gene_plect\"+str(j)+\".txt\", B, delimiter=\"\\t\")\n",
    "\n",
    "    jeff=[#stats.ttest_ind(A[:,0]/A[:,5],B[:,0]/B[:,5],),\n",
    "    # stats.ttest_ind(A[:,1]/A[:,5],B[:,1]/B[:,5]),\n",
    "    # stats.ttest_ind(A[:,2]/A[:,5],B[:,2]/B[:,5]),\n",
    "    stats.ttest_ind(A[:,3]/A[:,5],B[:,3]/B[:,5],alternative='greater',permutations=10)]\n",
    "    # stats.ttest_ind(A[:,4]/A[:,5],B[:388,4]/B[:388,5])]\n",
    "    np.savetxt(\"data/Plectoneme/ttest_gene_plect\"+str(j)+\".txt\", jeff, delimiter=\"\\t\")\n"
   ]
  },
  {
   "cell_type": "code",
   "execution_count": 192,
   "id": "86d50126-1a38-44c1-8600-4a22cc4c03c9",
   "metadata": {},
   "outputs": [
    {
     "name": "stdout",
     "output_type": "stream",
     "text": [
      "853_high v.s. 853_none: t-test independent samples with Bonferroni correction, P_val=2.026e-02 stat=-2.734e+00\n",
      "821_high v.s. 821_none: t-test independent samples with Bonferroni correction, P_val=8.769e-02 stat=-2.190e+00\n",
      "2479767_high v.s. 2479767_none: t-test independent samples with Bonferroni correction, P_val=2.228e-02 stat=-2.689e+00\n"
     ]
    },
    {
     "data": {
      "text/plain": [
       "<matplotlib.legend.Legend at 0x7f51b88418e0>"
      ]
     },
     "execution_count": 192,
     "metadata": {},
     "output_type": "execute_result"
    },
    {
     "data": {
      "image/png": "[encoded data removed]",
      "text/plain": [
       "<Figure size 432x288 with 1 Axes>"
      ]
     },
     "metadata": {
      "needs_background": "light"
     },
     "output_type": "display_data"
    }
   ],
   "source": [
    "traces=glob.glob(\"data/Plectoneme/*_gene_plect_*_0.txt\")\n",
    "AA=pd.DataFrame()\n",
    "BB=pd.DataFrame()\n",
    "from statannot import add_stat_annotation\n",
    "for trace in traces:\n",
    "    type=os.path.basename(trace).split('_')[0]\n",
    "    if type=='high':\n",
    "        A=pd.read_csv(trace, delimiter=\"\\t\",names=['mean','median','95_max','area','len'])\n",
    "        # A=A[A['area']!=0]\n",
    "        A['type']=type\n",
    "        A['species']=os.path.basename(trace).split('_')[3]\n",
    "        A['filt']=str(os.path.basename(trace).split('_')[4].split('.')[0])\n",
    "        AA=AA.append(A)\n",
    "    else:\n",
    "        B=pd.read_csv(trace, delimiter=\"\\t\",names=['mean','median','95_max','area','len'])\n",
    "        # B=B[B['area']!=0]\n",
    "        B['type']=type\n",
    "        B['species']=os.path.basename(trace).split('_')[3]\n",
    "        B['filt']=str(os.path.basename(trace).split('_')[4].split('.')[0])\n",
    "        BB=BB.append(B)\n",
    "    \n",
    "C=AA.append(BB)\n",
    "C=C[C['area']!=0]\n",
    "C=C[C['len']>=1000]\n",
    "C['density']=C['area']/C['len']\n",
    "C['95_max/len']=C['95_max']/C['len']\n",
    "C.dropna(inplace=True)\n",
    "C=C.reset_index()\n",
    "ax=sns.violinplot(data=C,y='95_max',x='species',hue='type',cut=0,scale='count')#,kind=\"violin\",cut=0,scale=\"count\", inner=\"quartile\")\n",
    "\n",
    "add_stat_annotation(ax, data=C, x='species', y='95_max',hue='type',\n",
    "                    box_pairs=[((\"821\", \"high\"), (\"821\", \"none\")),\n",
    "                                 ((\"853\", \"high\"), (\"853\", \"none\")),\n",
    "                                 ((\"2479767\", \"high\"), (\"2479767\", \"none\"))\n",
    "                                ],\n",
    "                    test='t-test_ind', text_format='full', loc='inside', verbose=2)\n",
    "plt.legend(loc='upper left', bbox_to_anchor=(1.03, 1))"
   ]
  },
  {
   "cell_type": "code",
   "execution_count": 189,
   "id": "00699038-f70c-401a-8025-1bd43ef57b07",
   "metadata": {},
   "outputs": [
    {
     "data": {
      "text/html": [
       "<div>\n",
       "<style scoped>\n",
       "    .dataframe tbody tr th:only-of-type {\n",
       "        vertical-align: middle;\n",
       "    }\n",
       "\n",
       "    .dataframe tbody tr th {\n",
       "        vertical-align: top;\n",
       "    }\n",
       "\n",
       "    .dataframe thead th {\n",
       "        text-align: right;\n",
       "    }\n",
       "</style>\n",
       "<table border=\"1\" class=\"dataframe\">\n",
       "  <thead>\n",
       "    <tr style=\"text-align: right;\">\n",
       "      <th></th>\n",
       "    </tr>\n",
       "  </thead>\n",
       "  <tbody>\n",
       "  </tbody>\n",
       "</table>\n",
       "</div>"
      ],
      "text/plain": [
       "Empty DataFrame\n",
       "Columns: []\n",
       "Index: []"
      ]
     },
     "execution_count": 189,
     "metadata": {},
     "output_type": "execute_result"
    }
   ],
   "source": [
    "C"
   ]
  },
  {
   "cell_type": "markdown",
   "id": "d5df5dc4-6a02-4629-97f6-11990519c315",
   "metadata": {},
   "source": [
    "### add in Measurement of bacterial replication rates in microbial communities"
   ]
  },
  {
   "cell_type": "markdown",
   "id": "43dd666c-1fd5-49d0-9640-b8844f102961",
   "metadata": {
    "tags": []
   },
   "source": [
    "## process figures"
   ]
  },
  {
   "cell_type": "code",
   "execution_count": null,
   "id": "9e1808e7-4032-4ff0-8b30-9839cd1a16c3",
   "metadata": {},
   "outputs": [],
   "source": [
    "traces= glob.glob('data/meta_unfilt/*bedgraph')\n",
    "ori=pd.read_csv('data/doric10/OriC_db.bed',sep='\\t')\n",
    "\n",
    "for jac in traces:\n",
    "    zzz=pd.read_csv(jac,sep='\\t',names=['tmp','start','end','relAb'])\n",
    "    tmp=ori[ori['Refseq'].str.contains('NC_'+jac.split('/')[2].split('_')[1])]\n",
    "    \n",
    "    plt.figure(figsize=(20, 5))\n",
    "    try:\n",
    "        print('running: '+str(tmp['Organism'].item())+\" in \"+str(os.path.basename(jac).split('_')[2].split('.')[0]))\n",
    "        ss=np.int(np.round(tmp['start'].item(),-1))\n",
    "        tt=np.int(np.round(tmp['end'].item(),-1))\n",
    "        plt.bar(data=zzz[(zzz['start']>ss-250000)&(zzz['end']<tt+250000)],x='start',height='relAb',label='align',color='blue')#][zzz['start']=='1665929']\n",
    "        plt.bar(data=tmp,x='start',height='OriC AT content',label='OriC start',color='orange')\n",
    "        plt.bar(data=tmp,x='end',height='OriC AT content',label='OriC end',color='orange')\n",
    "\n",
    "        plt.axes([.2, .6, .6, .2])\n",
    "        plt.bar(data=zzz[(zzz['start']>ss-100) &(zzz['end']<tt+100)],x='start',height='relAb',label='align',color='blue')#][zzz['start']=='1665929']\n",
    "        plt.bar(data=tmp,x='start',height='OriC AT content',label='OriC start',color='orange')\n",
    "        plt.bar(data=tmp,x='end',height='OriC AT content',label='OriC end',color='orange')\n",
    "\n",
    "        plt.xlabel(\"OriC ranges from \"+str(tmp['start'].item())+\" to \"+str(tmp['end'].item())+\" for \"\n",
    "            +str(tmp['Organism'].item())+\" in \"+str(os.path.basename(jac).split('_')[2].split('.')[0])+\"max= \"+\n",
    "                   np.max(zzz['relAb'])+\" between \"+str(np.int(zzz[zzz['relAb']==np.max(zzz['relAb'])][['start']].values))+\" and \"+str(np.int(zzz[zzz['relAb']==np.max(zzz['relAb'])][['end']].values))+\"; median= \"+np.median(zzz['relAb']),fontsize=14)\n",
    "        plt.savefig('img/oric/'+str(os.path.basename(jac).split('.')[0])+'.png',dpi=300,bbox_inches = \"tight\")\n",
    "\n",
    "    except TypeError:\n",
    "        pass\n",
    "    except ValueError:\n",
    "        pass"
   ]
  },
  {
   "cell_type": "code",
   "execution_count": null,
   "id": "add5cf34-ac2e-4e32-b505-824b7c82e93b",
   "metadata": {},
   "outputs": [],
   "source": [
    "ori[ori['Organism']=='Staphylococcus_aureus']"
   ]
  },
  {
   "cell_type": "code",
   "execution_count": null,
   "id": "1cca3ef7-3bad-422f-b634-bfa4194e0a8d",
   "metadata": {},
   "outputs": [],
   "source": [
    "tmp=ori[ori['Refseq'].str.contains('NC_'+jac.split('/')[2].split('_')[1])]"
   ]
  },
  {
   "cell_type": "code",
   "execution_count": null,
   "id": "c596c5e0-6763-4927-9b5a-dfe5d488a4ee",
   "metadata": {},
   "outputs": [],
   "source": [
    "bact_stat=pd.read_csv('flagstatA.txt',sep='\\t',names=['q0','q1','type'])\n",
    "bact_stat['sample']=bact_stat[bact_stat['q0'].str.contains(\".bam\")]['q0'].repeat(21).values\n",
    "# bact_stat.loc[1:1000]\n",
    "bact_stat['bact']=bact_stat['sample'].str.split('_').str[1].tolist()\n",
    "bact_stat['pat']=bact_stat['sample'].str.split('_').str[2].tolist()\n",
    "del bact_stat['sample'], bact_stat['q1']\n",
    "bact_stat.dropna(how='any',inplace=True)\n",
    "bact_stat=bact_stat[~bact_stat.type.str.contains(\"%\")]"
   ]
  },
  {
   "cell_type": "code",
   "execution_count": null,
   "id": "26d0c1a8-e0c6-4bb5-b554-984dcbcfa519",
   "metadata": {},
   "outputs": [],
   "source": [
    "bact_stat['q0']=bact_stat.q0.astype('int')\n",
    "bact_stat['q1']=np.log10(bact_stat['q0'])"
   ]
  },
  {
   "cell_type": "code",
   "execution_count": null,
   "id": "e394f969-31b9-4632-9edd-0a21ce50a9d1",
   "metadata": {},
   "outputs": [],
   "source": [
    "sns.set_theme(style=\"whitegrid\")\n",
    "# iris = sns.load_dataset(\"iris\")\n",
    "plt.figure(figsize=(12, 24))\n",
    "# \"Melt\" the dataset to \"long-form\" or \"tidy\" representation\n",
    "# iris = pd.melt(bact_stat, [\"bact\",'patient'], var_name=\"type\")\n",
    "# del bact_stat['sample'], bact_stat['q1']\n",
    "# bact_stat.dropna(how='any',inplace=True)\n",
    "# bact_stat=bact_stat[~bact_stat.type.str.contains(\"%\")]\n",
    "# Initialize the figure\n",
    "# f, ax = plt.subplots()\n",
    "# sns.despine(bottom=True, left=True)\n",
    "\n",
    "# Show each observation with a scatterplot\n",
    "ax=sns.stripplot(x=\"q1\", y=\"type\", hue=\"bact\",\n",
    "              data=bact_stat, dodge=True, alpha=.25, zorder=1)\n",
    "\n",
    "# Show the conditional means, aligning each pointplot in the\n",
    "# center of the strips by adjusting the width allotted to each\n",
    "# category (.8 by default) by the number of hue levels\n",
    "ax=sns.pointplot(x=\"q1\", y=\"type\", hue=\"bact\",\n",
    "              data=bact_stat, dodge=.8 - .8 / 3,\n",
    "              join=False, palette=\"dark\",\n",
    "              markers=\"d\", scale=.75, ci=None)\n",
    "sns.move_legend(ax, \"upper left\", bbox_to_anchor=(1, 1),ncol=2)\n",
    "plt.savefig(\"flagstat.png\",dpi=300,bbox_inches = \"tight\")\n",
    "\n",
    "# Improve the legend\n",
    "# handles, labels = ax.get_legend_handles_labels()\n",
    "# ax.legend(handles, labels, title=\"bact\",\n",
    "#           handletextpad=0, columnspacing=1,\n",
    "#           loc='lower center', ncol=5, frameon=False)#,bbox_to_anchor=(1.05, 1),borderaxespad=0.)\n"
   ]
  },
  {
   "cell_type": "code",
   "execution_count": null,
   "id": "2f789d37-ab71-45e0-a627-53fc555f4a70",
   "metadata": {},
   "outputs": [],
   "source": [
    "jeff=pd.pivot_table(bact_stat,columns='type',index=['bact','pat'],values='q0')"
   ]
  },
  {
   "cell_type": "code",
   "execution_count": null,
   "id": "f2e3476b-5b3f-49bf-881b-e38d987cc818",
   "metadata": {},
   "outputs": [],
   "source": [
    "jeff=jeff.reset_index()"
   ]
  },
  {
   "cell_type": "code",
   "execution_count": null,
   "id": "c9a648b8-c8cf-46a8-8507-c9c8e7bfdd49",
   "metadata": {},
   "outputs": [],
   "source": [
    "jeff =jeff.loc[:, (jeff != 0).any(axis=0)]\n",
    "# del jeff['secondary']  \n",
    "del jeff['primary mapped'], jeff['with itself and mate mapped']"
   ]
  },
  {
   "cell_type": "code",
   "execution_count": null,
   "id": "f8222149-88c4-4ff9-90d7-4535a52d9314",
   "metadata": {},
   "outputs": [],
   "source": [
    "jeff"
   ]
  },
  {
   "cell_type": "code",
   "execution_count": null,
   "id": "6ac0e561-96f2-4fb7-b11c-272c440c02c2",
   "metadata": {},
   "outputs": [],
   "source": [
    "sns.pairplot(jeff, hue=\"bact\")\n",
    "plt.savefig(\"flagstat_corr.png\",dpi=300,bbox_inches = \"tight\")\n"
   ]
  },
  {
   "cell_type": "code",
   "execution_count": null,
   "id": "e639d3ab-b8be-476d-acea-001dd00c192c",
   "metadata": {},
   "outputs": [],
   "source": [
    "jeff0=pd.melt(jeff,id_vars=['bact','pat'])"
   ]
  },
  {
   "cell_type": "code",
   "execution_count": null,
   "id": "bb3bea85-3e0a-4a51-abfc-918ec19de572",
   "metadata": {},
   "outputs": [],
   "source": [
    "jeff0['log10_value']=np.log10(jeff0.value)"
   ]
  },
  {
   "cell_type": "code",
   "execution_count": null,
   "id": "28cb20db-98dd-4855-8f4b-b05206af4ddb",
   "metadata": {},
   "outputs": [],
   "source": [
    "sns.set_theme(style=\"whitegrid\")\n",
    "# iris = sns.load_dataset(\"iris\")\n",
    "plt.figure(figsize=(12, 24))\n",
    "# \"Melt\" the dataset to \"long-form\" or \"tidy\" representation\n",
    "# iris = pd.melt(bact_stat, [\"bact\",'patient'], var_name=\"type\")\n",
    "# del bact_stat['sample'], bact_stat['q1']\n",
    "# bact_stat.dropna(how='any',inplace=True)\n",
    "# bact_stat=bact_stat[~bact_stat.type.str.contains(\"%\")]\n",
    "# Initialize the figure\n",
    "# f, ax = plt.subplots()\n",
    "# sns.despine(bottom=True, left=True)\n",
    "\n",
    "# Show each observation with a scatterplot\n",
    "ax=sns.stripplot(x=\"log10_value\", y=\"type\", hue=\"bact\",\n",
    "              data=jeff0, dodge=True, alpha=.25, zorder=1)\n",
    "\n",
    "# Show the conditional means, aligning each pointplot in the\n",
    "# center of the strips by adjusting the width allotted to each\n",
    "# category (.8 by default) by the number of hue levels\n",
    "ax=sns.pointplot(x=\"log10_value\", y=\"type\", hue=\"bact\",\n",
    "              data=jeff0, dodge=.8 - .8 / 3,\n",
    "              join=False, palette=\"dark\",\n",
    "              markers=\"d\", scale=.75, ci=None)\n",
    "sns.move_legend(ax, \"upper left\", bbox_to_anchor=(1, 1),ncol=2)\n",
    "plt.savefig(\"flagstat_red.png\",dpi=300,bbox_inches = \"tight\")\n",
    "\n",
    "# Improve the legend\n",
    "# handles, labels = ax.get_legend_handles_labels()\n",
    "# ax.legend(handles, labels, title=\"bact\",\n",
    "#           handletextpad=0, columnspacing=1,\n",
    "#           loc='lower center', ncol=5, frameon=False)#,bbox_to_anchor=(1.05, 1),borderaxespad=0.)\n"
   ]
  },
  {
   "cell_type": "code",
   "execution_count": null,
   "id": "c9ef7274-3b2d-4b1e-8956-b533c6a93f78",
   "metadata": {},
   "outputs": [],
   "source": []
  }
 ],
 "metadata": {
  "kernelspec": {
   "display_name": "mypy3",
   "language": "python",
   "name": "mypy3"
  },
  "language_info": {
   "codemirror_mode": {
    "name": "ipython",
    "version": 3
   },
   "file_extension": ".py",
   "mimetype": "text/x-python",
   "name": "python",
   "nbconvert_exporter": "python",
   "pygments_lexer": "ipython3",
   "version": "3.9.7"
  },
  "toc-autonumbering": false,
  "toc-showcode": false,
  "toc-showmarkdowntxt": false,
  "toc-showtags": false
 },
 "nbformat": 4,
 "nbformat_minor": 5
}
