{
 "cells": [
  {
   "cell_type": "code",
   "execution_count": 1,
   "id": "7b4f611e-11c9-456b-9dfe-99ef3b969597",
   "metadata": {
    "tags": []
   },
   "outputs": [],
   "source": [
    "%reset -f\n",
    "%config Completer.use_jedi = True\n",
    "# %matplotlib widget"
   ]
  },
  {
   "cell_type": "code",
   "execution_count": 205,
   "id": "af05ad06-bbd0-48c5-a39d-e4e19e51629d",
   "metadata": {},
   "outputs": [
    {
     "data": {
      "text/plain": [
       "'/home/dcmorgan'"
      ]
     },
     "execution_count": 205,
     "metadata": {},
     "output_type": "execute_result"
    }
   ],
   "source": [
    "import matplotlib.pyplot as plt\n",
    "import numpy as np\n",
    "import os,glob,sys,importlib#,scipy,coolbox,pybedtools,\n",
    "from scipy.stats import linregress\n",
    "from scipy.ndimage import gaussian_filter\n",
    "from tqdm import tqdm\n",
    "import pandas as pd\n",
    "import seaborn as sns\n",
    "from scipy import stats\n",
    "import biosppy\n",
    "# from sklearn import metrics\n",
    "os.chdir('/home/dcmorgan')\n",
    "os.getcwd()"
   ]
  },
  {
   "cell_type": "markdown",
   "id": "23d2bf18-5bb7-4a38-94d7-c7f976d85ea4",
   "metadata": {
    "jp-MarkdownHeadingCollapsed": true,
    "tags": []
   },
   "source": [
    "# load data"
   ]
  },
  {
   "cell_type": "code",
   "execution_count": null,
   "id": "22308531-1ce9-49b4-9602-fd0d3f7aa8ce",
   "metadata": {},
   "outputs": [],
   "source": [
    "primary=pd.read_excel('data/Data Raw - Gut Microbiome Cohort Project Database - 300 Cohort v3.0_280921.xlsx',index_col=0,sheet_name='Primary Data')\n",
    "diet=pd.read_excel('data/Data Raw - Gut Microbiome Cohort Project Database - 300 Cohort v3.0_280921.xlsx',index_col=0,sheet_name='Diet Data')\n",
    "blood_stool=pd.read_excel('data/Data Raw - Gut Microbiome Cohort Project Database - 300 Cohort v3.0_280921.xlsx',index_col=0,sheet_name='blood and stool biomarkers')\n",
    "secondary=pd.read_excel('data/Data Raw - Gut Microbiome Cohort Project Database - 300 Cohort v3.0_280921.xlsx',index_col=0,sheet_name='Secondary Data')\n",
    "MRI=pd.read_excel('data/Data Raw - Gut Microbiome Cohort Project Database - 300 Cohort v3.0_280921.xlsx',index_col=0,sheet_name='MRI scores')"
   ]
  },
  {
   "cell_type": "code",
   "execution_count": null,
   "id": "01be2317-56d2-4419-91b5-b783e56ba33d",
   "metadata": {},
   "outputs": [],
   "source": [
    "unibact=pd.read_csv('data/328_krakenuniq_raw.csv',index_col=0)\n",
    "unibact['spec']=(unibact.index).str.split(';').str[0:6].tolist()\n",
    "# jeff=pd.DataFrame(unibact['spec'].tolist(),columns=['tmp','tmp','tmp','tmp','tmp','species'])\n",
    "# jeff=jeff.fillna(method='ffill',axis=1)\n"
   ]
  },
  {
   "cell_type": "code",
   "execution_count": null,
   "id": "3fe15187-7a71-420c-b8b4-7e9c54b59b45",
   "metadata": {},
   "outputs": [],
   "source": [
    "unibact.columns=unibact.columns.str.split('-').str[0].tolist()"
   ]
  },
  {
   "cell_type": "code",
   "execution_count": null,
   "id": "6ab4e89f-0ae5-4a82-861c-24e662800e97",
   "metadata": {},
   "outputs": [],
   "source": [
    "PP=primary[primary.index.isin(unibact.columns)]\n",
    "\n"
   ]
  },
  {
   "cell_type": "code",
   "execution_count": null,
   "id": "d229bcaa-572e-4dc1-9465-c81aac3badc0",
   "metadata": {},
   "outputs": [],
   "source": [
    "sub_uni=unibact[primary.index[primary.index.isin(unibact.columns)]]\n",
    "sub_uni.columns=PP['Hypertension Category by 24h BP w/o considering antihypertensive med']\n",
    "# sub_uni"
   ]
  },
  {
   "cell_type": "code",
   "execution_count": null,
   "id": "e92365a0-59d4-40b8-a4aa-05f846b8c05c",
   "metadata": {},
   "outputs": [],
   "source": [
    "aa=np.corrcoef((sub_uni[2]).astype(float))\n",
    "# aa=aa[aa!=1]\n",
    "a=plt.hist(aa.flatten(),bins=100,log=True,alpha=.65)\n",
    "\n",
    "bb=np.corrcoef((sub_uni[1]).astype(float))\n",
    "# bb=bb[bb!=1]\n",
    "b=plt.hist(bb.flatten(),bins=100,log=True,alpha=.5)\n",
    "\n",
    "cc=np.corrcoef((sub_uni[0]).astype(float))\n",
    "# cc=cc[cc!=1]\n",
    "c=plt.hist(cc.flatten(),bins=100,log=True,alpha=.35)"
   ]
  },
  {
   "cell_type": "code",
   "execution_count": null,
   "id": "c9d05884-e129-49d3-beec-1062883c9cd0",
   "metadata": {},
   "outputs": [],
   "source": []
  },
  {
   "cell_type": "code",
   "execution_count": null,
   "id": "059b110f-1ed9-469d-98f6-f5ddd4851536",
   "metadata": {},
   "outputs": [],
   "source": [
    "a=nx.from_numpy_array(aa[1:100,1:100])\n",
    "b=nx.from_numpy_array(bb[1:100,1:100])\n",
    "c=nx.from_numpy_array(cc[1:100,1:100])\n",
    "\n",
    "# cc.shape"
   ]
  },
  {
   "cell_type": "code",
   "execution_count": null,
   "id": "aa2a9d7d-afd6-4edf-89a9-df6cca8ad551",
   "metadata": {},
   "outputs": [],
   "source": [
    "nx.draw(a)\n",
    "nx.draw(b)\n",
    "nx.draw(c)"
   ]
  },
  {
   "cell_type": "code",
   "execution_count": null,
   "id": "0fc56c64-43dc-436a-969d-7d53e71c8cba",
   "metadata": {},
   "outputs": [],
   "source": [
    "# nx.from_numpy_array(aa[(aa>.5)&(aa[1:100,1:100])])\n",
    "nx.average_clustering(a)"
   ]
  },
  {
   "cell_type": "code",
   "execution_count": null,
   "id": "5dd28036-4e63-440a-9bd8-19faf6489fa9",
   "metadata": {},
   "outputs": [],
   "source": [
    "aa=np.array(stats.spearmanr(sub_uni[2],axis=1))\n",
    "# aa=aa[aa!=1]\n",
    "a=plt.hist(aa.flatten(),bins=100,log=True,alpha=.65)\n",
    "\n",
    "bb=np.array(stats.spearmanr(sub_uni[1],axis=1))\n",
    "# bb=bb[bb!=1]\n",
    "b=plt.hist(bb.flatten(),bins=100,log=True,alpha=.5)\n",
    "\n",
    "cc=np.array(stats.spearmanr(sub_uni[0],axis=1))\n",
    "# cc=cc[cc!=1]\n",
    "c=plt.hist(cc.flatten(),bins=100,log=True,alpha=.35)"
   ]
  },
  {
   "cell_type": "code",
   "execution_count": null,
   "id": "2bb5fedf-c6b2-4427-96d5-65f43e93e201",
   "metadata": {},
   "outputs": [],
   "source": [
    "ww=plt.hist(bb-cc,bins=100,alpha=.65,log=True)\n",
    "ww=plt.hist(bb-aa,bins=100,alpha=.5,log=True)\n",
    "ww=plt.hist(aa-cc,bins=100,alpha=.35,log=True)"
   ]
  },
  {
   "cell_type": "code",
   "execution_count": null,
   "id": "7a75f553-6ae0-4789-ae09-5d838b625260",
   "metadata": {},
   "outputs": [],
   "source": [
    "from scipy import stats\n",
    "cc=np.array(stats.spearmanr(unibact.values[0:1000,0:1000])).flatten()\n",
    "cc=cc[cc!=1]\n",
    "# np.array(cc)\n",
    "cc=plt.hist(cc,bins=100,log=True)"
   ]
  },
  {
   "cell_type": "code",
   "execution_count": null,
   "id": "10cee066-6568-45c7-90b9-de77d9488855",
   "metadata": {},
   "outputs": [],
   "source": []
  },
  {
   "cell_type": "code",
   "execution_count": null,
   "id": "3104082b-4b3e-4263-a3c9-31ee063c10c4",
   "metadata": {},
   "outputs": [],
   "source": []
  },
  {
   "cell_type": "code",
   "execution_count": null,
   "id": "59ce7bf7-97ab-4334-8e14-61f0574bfb46",
   "metadata": {},
   "outputs": [],
   "source": [
    "oric=pd.read_csv('data/doric10/tubic_bacteria.csv') #remove 'note' and 'nt*' from file"
   ]
  },
  {
   "cell_type": "code",
   "execution_count": null,
   "id": "e1a6e54e-c4ab-43a9-be3e-2316bad3547e",
   "metadata": {},
   "outputs": [],
   "source": [
    "oric['oric_start']=oric['Location of replication origin'].str.split('.').str[0].str.split(',').str[0].str.split(';').str[0].tolist()\n",
    "oric['oric_end']=oric['Location of replication origin'].str.split('.').str[2].str.split(',').str[0].str.split(';').str[0].tolist()\n",
    "oric['gene_start']=oric['Location of replication genes'].str.split('.').str[0].str.split(',').str[0].str.split(';').str[0].tolist()\n",
    "oric['gene_end']=oric['Location of replication genes'].str.split('.').str[2].str.split(',').str[0].str.split(';').str[0].tolist()"
   ]
  },
  {
   "cell_type": "code",
   "execution_count": null,
   "id": "07745e98-077d-4878-a444-75dba1c83aaa",
   "metadata": {},
   "outputs": [],
   "source": [
    "oric['OriC AT content']=np.round(oric['OriC AT content']*100).astype(int)\n",
    "oric['orgA']=oric['Organism'].str.split(' ').str[0].tolist()\n",
    "oric['orgB']=oric['Organism'].str.split(' ').str[1].tolist()\n",
    "oric['Organism']=oric['orgA']+'_'+oric['orgB']\n"
   ]
  },
  {
   "cell_type": "code",
   "execution_count": null,
   "id": "3217d2a6-02e5-402d-bb98-38844c616983",
   "metadata": {},
   "outputs": [],
   "source": [
    "oric[['oric_start','oric_end','gene_start','gene_end']]=oric[['oric_start','oric_end','gene_start','gene_end']].replace('-','1')\n",
    "oric=oric.fillna('1')"
   ]
  },
  {
   "cell_type": "code",
   "execution_count": null,
   "id": "a9b4988c-50a8-4f78-8d3b-6575f0192f89",
   "metadata": {},
   "outputs": [],
   "source": [
    "oric[['gene_start']]=oric[['gene_start']].astype(int)\n",
    "oric[['gene_end']]=oric[['gene_end']].astype(int)\n",
    "oric[['oric_start']]=oric[['oric_start']].astype(int)\n",
    "oric[['oric_end']]=oric[['oric_end']].astype(int)"
   ]
  },
  {
   "cell_type": "code",
   "execution_count": null,
   "id": "81aa4218-e291-4d70-a1cd-01c926299906",
   "metadata": {},
   "outputs": [],
   "source": [
    "# oric['end']=np.amax(oric[['oric_start','oric_end','gene_start','gene_end']],1)\n",
    "# oric['start']=np.amin(oric[['oric_start','oric_end','gene_start','gene_end']],1)\n",
    "jj=ori[ori['oric_start']>ori['oric_end']]#\n",
    "jj['oric_end']=jj['oric_start']+jj['oric_end']\n",
    "ff=ori[ori['oric_start']<ori['oric_end']]\n",
    "ORIC=ff.append(jj)"
   ]
  },
  {
   "cell_type": "code",
   "execution_count": null,
   "id": "83b0b133-0c7d-49b2-b841-7c7e66c2ff76",
   "metadata": {},
   "outputs": [],
   "source": [
    "ORIC['refseq']=ORIC['Refseq'].str.split('.').str[0].tolist()\n",
    "ORIC['len']=ORIC['oric_end']-ORIC['oric_start']"
   ]
  },
  {
   "cell_type": "code",
   "execution_count": null,
   "id": "efa1269e-8844-4668-88e7-011724fec032",
   "metadata": {},
   "outputs": [],
   "source": [
    "ORIC[['refseq','oric_start','oric_end','OriC AT content','Organism','len']].to_csv('data/doric10/OriC_db.bed',sep='\\t',header=True,index=False)"
   ]
  },
  {
   "cell_type": "code",
   "execution_count": null,
   "id": "668be098-db7f-4c50-a74a-4ce36cc59563",
   "metadata": {},
   "outputs": [],
   "source": [
    "sns.set_style(\"white\")\n",
    "tmp=plt.hist(ORIC['len'],bins=100,log=True)"
   ]
  },
  {
   "cell_type": "code",
   "execution_count": null,
   "id": "023a7f62-de01-4f98-bdb5-3083afc6bbde",
   "metadata": {},
   "outputs": [],
   "source": [
    "traces= np.sort(glob.glob('data/meta*/*bedgraph'))\n",
    "jac=traces[1000]\n",
    "e='NC_'+jac.split('/')[2].split('_')[1]"
   ]
  },
  {
   "cell_type": "code",
   "execution_count": null,
   "id": "3afd505e-f287-42db-8a45-ac11bf040abd",
   "metadata": {},
   "outputs": [],
   "source": [
    "e='NC_'+os.path.basename(jac).split('_')[1]\n",
    "e"
   ]
  },
  {
   "cell_type": "code",
   "execution_count": null,
   "id": "16461708-24fb-4e4e-931c-6fddbc93ee8f",
   "metadata": {},
   "outputs": [],
   "source": [
    "\n",
    "table=[]\n",
    "# color=pd.DataFrame()\n",
    "color0=pd.DataFrame(columns=['species','subj','ratio','slope'])\n",
    "\n",
    "traces= np.sort(glob.glob('data/meta*/*bedgraph'))\n",
    "ori=pd.read_csv('data/doric10/OriC_db.bed',sep='\\t')\n",
    "# cc=ori[ori['Organism']==('Escherichia_coli')]\n",
    "cc=ori\n",
    "dd=cc[cc['refseq'].str.contains('NC_')]['refseq']\n",
    "\n",
    "i=0\n",
    "for d,c in tqdm(enumerate(traces)):\n",
    "    # indices = [i for i, s in enumerate(traces) if c in s]\n",
    "#     # if not indices.zeros:\n",
    "    # if indices !=[]:\n",
    "    # tmp0=ori[ori.refseq=='NC_'+os.path.basename(traces[0]).split('_')[1]]\n",
    "    jac=traces[d]\n",
    "    e='NC_'+os.path.basename(jac).split('_')[1]\n",
    "    f=jac.split('/')[2].split('_')[2].split('-')[0]\n",
    "    tmp=ori[ori['refseq'].str.contains(e)]\n",
    "    if tmp.zeros==False:\n",
    "        for uu in range(len(tmp)):\n",
    "        \n",
    "            # for dd,cc in tqdm(enumerate(d)):\n",
    "\n",
    "            # ax = axes[SLICES[i]]\n",
    "            zzz=pd.read_csv(jac,sep='\\t',names=['tmp','start','end','relAb'])\n",
    "\n",
    "\n",
    "            zzz['len']=zzz['end']-zzz['start']\n",
    "            jeff3=np.repeat((zzz.relAb), repeats = zzz['len'])\n",
    "            jeff3=jeff3.reset_index()\n",
    "            # df0=jeff3.groupby(jeff3.index // 1000).sum()\n",
    "            # try:\n",
    "        \n",
    "            ppp=tmp.iloc[uu]['oric_start'].item()\n",
    "            # ppp=tmp['oric_start'].item()\n",
    "            jj=jeff3.loc[ppp].values[1]\n",
    "            cc=jeff3.loc[ppp-1000:ppp+1000+tmp.iloc[uu]['len']]\n",
    "            \n",
    "            # jj=df0.relAb[int(np.round(ppp/1000,-2))]\n",
    "            # table.append()\n",
    "            df1=jeff3.sort_values(by='relAb')\n",
    "            df2=df1[(df1['relAb']>np.median(df1[df1['relAb']!=0])/5)&(df1['relAb']<np.median(df1[df1['relAb']!=0])*5)]\n",
    "            df2=df2.reset_index()\n",
    "            color0['species']=e\n",
    "            color0['subj']=f\n",
    "            color0['ratio']=np.mean(cc.relAb)/np.mean(jeff3.relAb),\n",
    "            color0['slope']=linregress((df2.index), (df2.relAb))[0]\n",
    "            # table.append(jeff22)\n",
    "            if i==0:\n",
    "                color0.to_csv('data/relAb_ratio5.txt',sep='\\t')\n",
    "                i=i+1\n",
    "            else:\n",
    "                color0.to_csv('data/relAb_ratio5.txt',sep='\\t',mode='a',header=False,index=False)\n",
    "                \n",
    "            # print(jj/np.mean(df0.relAb))\n",
    "            # print(jj)\n",
    "            # except:\n",
    "            #     pass"
   ]
  },
  {
   "cell_type": "code",
   "execution_count": null,
   "id": "a9dad60c-a218-4a94-9605-157c58d287f9",
   "metadata": {},
   "outputs": [],
   "source": [
    "data=pd.read_csv('data/relAb_ratio5.txt',sep='\\t')#,names=['species','subj','ratio','slope'])\n",
    "# d\n",
    "plt.figure(figsize=(10,5))\n",
    "# plt.figsize=(40, 40)\n",
    "data2=data[data['ratio']>0]\n",
    "ax=sns.scatterplot(data=data2, x=\"ratio\", y=\"slope\", hue=\"species\",style='subj')\n",
    "plt.legend([],[], frameon=False)\n",
    "j=str(np.round(scipy.corrcoef(data2.ratio,data2.slope)[0][1],5))\n",
    "h=str(np.round(scipy.stats.spearmanr(data2.ratio,data2.slope)[0],5))\n",
    "plt.title('pearson: '+j+'; spearman: '+h)\n",
    "# ax.legend(loc='best',ncol=10, title=\"Title\")"
   ]
  },
  {
   "cell_type": "code",
   "execution_count": null,
   "id": "61af7d19-3683-40fb-a90f-17caed6714ee",
   "metadata": {},
   "outputs": [],
   "source": [
    "jacc=4\n",
    "'data/relAb_ratio'+str(jacc)+'.txt'\n"
   ]
  },
  {
   "cell_type": "code",
   "execution_count": null,
   "id": "289f575d-9f6f-4ce2-9257-6d5dfc13f54a",
   "metadata": {},
   "outputs": [],
   "source": [
    "plt.figure(figsize=(20,5))\n",
    "sns.histplot(data=data2, x=\"ratio\", hue=\"species\")#, multiple=\"dodge\", shrink=.8)\n"
   ]
  },
  {
   "cell_type": "code",
   "execution_count": null,
   "id": "d72ec6aa-d995-4ae6-9a37-03a4bf62d578",
   "metadata": {},
   "outputs": [],
   "source": [
    "plt.figure(figsize=(20,5))\n",
    "sns.histplot(data=data2, x=\"slope\", hue=\"species\")"
   ]
  },
  {
   "cell_type": "markdown",
   "id": "21be4081-1938-4708-b4e4-b1a5878f299b",
   "metadata": {
    "jp-MarkdownHeadingCollapsed": true,
    "tags": []
   },
   "source": [
    "# Plectoneme"
   ]
  },
  {
   "cell_type": "code",
   "execution_count": null,
   "id": "3cfed59f-e289-456e-af7e-e2f033607290",
   "metadata": {},
   "outputs": [],
   "source": [
    "Swave='CGCTATTCTTCGGTTAACGAAGTCTGTAATTGATTTGTTAAGTTTTTCTTTTGAATATACGCATTAATTTTAGATTGAATTTGCTGAAGCTCTTCTTGATCAGCTTCTCGAATGGTTTGCTCCTTTTGTTCGCTCGTTAACGATTGTGAAGAAGCAGGAGACTGATTAGGGGCTGTCTCCACTTCATTTGTTTTTTTCGTACTTTTAGCTGCAGGGGTATTTGAAGGCTGAACCGCTTCTTCAGATTCCTGCAGAGATTGAAATTCCATCACGCCCGTTCCTCCAACGAACGCTTCATTAAATGCGCGAGAAAGGTTCTTAAATTTCTGCGCATCCACTGAGCTCATTGCAAACAATACAATGAATAAAGCAAGTAAAAGTGTAAGCAAATCTGAGTAAGGAAGCAGCCAGCTTTCGTCAACATGGTCCTCTTCATGCTTTCGTTTTCTGCGTCTACTCATTTATGCCCACTTCACTTTCTTGAAGAAGCTTTTTACGTTCCGCTGTTGGCAAATAAGAAGCCAGCTTTTGCTCAATTACTTTTGGTGTTTCTCCTTCTAAAAGTGAAAGCACTCCTTCGATCATCATATACTTTACCTTTACTTCATGTTTCGATTTACGCTTTAGTTTATTTGCAAACGGATGCCATAGTACATACCCAGTAAAAATACCAAGAAGCGTAGCAACAAACGCCGCGCTGATCGCATGTCCTAGCGTATCTGTATCTTCCATGTTCCCAAGCGCAGCAATTAACCCTATAACAGCTCCAAGTACACCCAGAGTTGGAGCATATGTACCTGCTAAAGCGAAAATACTTGCACCCGTTTGATGTCTTTCTTCCATAGCATCAATTTCTTCAGACAACACGTCTCGTATATAATCCGCACTTTGACCATCAATAGCTAAATTCAAACCATTTTTTAAGAAAGGGTCATCTACATCAATAATTTGGGCTTCAAGTGATAGTAACCCTTCTTTTCGAACAACTTGTCCCCATTCAGAAAACGCGT'"
   ]
  },
  {
   "cell_type": "code",
   "execution_count": null,
   "id": "30c25f24-a014-4521-9a1d-94241e1b4c14",
   "metadata": {},
   "outputs": [],
   "source": [
    "igordat=pd.read_csv('run/oric/Plectoneme/test_data/igor_out.txt',sep='\\t')\n",
    "dnapath=pd.read_csv('run/oric/Plectoneme/test_data/dnapath.txt',sep='\\t',names=['A','B','C','tmp'])\n",
    "bp_cov=pd.read_csv('run/oric/Plectoneme/test_data/bp_cov.txt',sep='\\t',names=['A','B'])\n",
    "tanvector=pd.read_csv('run/oric/Plectoneme/test_data/tanvector.txt',sep='\\t',names=['A','B','C'])\n",
    "localcov=pd.read_csv('run/oric/Plectoneme/test_data/localcov.txt',sep='\\t',names=['A','B'])\n",
    "normvector=pd.read_csv('run/oric/Plectoneme/test_data/normvector.txt',sep='\\t',names=['A','B','C'])\n",
    "curvevector=pd.read_csv('run/oric/Plectoneme/test_data/CurveVector.txt',sep='\\t',names=['A','B','C'])"
   ]
  },
  {
   "cell_type": "code",
   "execution_count": null,
   "id": "d2b0cb7c-5c9f-487d-8f28-72d96e0e0747",
   "metadata": {
    "tags": []
   },
   "outputs": [],
   "source": [
    "sys.path.insert(1, './run/oric/Plectoneme/')\n",
    "import PlectonemeCode\n",
    "importlib.reload(sys.modules['PlectonemeCode'])\n",
    "from PlectonemeCode import PlectonemeCode\n",
    "# Gaussian filter FWHM = 1600\n",
    "\n",
    "\n",
    "Sequence_angle_exp_smth,Sequence_angle_exp= PlectonemeCode(Swave)\n",
    "#,wave['Direction (ϕB, degrees)'],wave['Wedge (θ, degrees)'],\n",
    "#                wave['Twist (degrees)'],wave['Tilt-Tilt covariance'],wave['Roll-Roll covariance'])\n"
   ]
  },
  {
   "cell_type": "code",
   "execution_count": null,
   "id": "ae4cebad-3215-4454-b3ae-2c8c850a0aee",
   "metadata": {},
   "outputs": [],
   "source": [
    "jeff=biosppy.signals.tools.smoother(signal=BasepairCovariance[:,0,0], kernel='boxcar', size=40)\n",
    "# jeff\n",
    "plt.figure(figsize=(20,5))\n",
    "plt.bar(np.arange(len(BasepairCovariance)),BasepairCovariance[:,0,0])\n",
    "plt.plot(np.arange(len(jeff[0])),jeff[0])"
   ]
  },
  {
   "cell_type": "code",
   "execution_count": null,
   "id": "f39d4f90-4598-443b-8da4-3d69ac149c02",
   "metadata": {},
   "outputs": [],
   "source": [
    "# plt.scatter(BasepairCovariance[:,0],BasepairCovariance[:,1])\n",
    "# plt.scatter(bp_cov.A,bp_cov.B,alpha=.5)\n",
    "plt.scatter(LocalCovariance[:,0],LocalCovariance[:,1])\n",
    "plt.scatter(localcov.A,localcov.B,alpha=.5)"
   ]
  },
  {
   "cell_type": "code",
   "execution_count": null,
   "id": "de4df79d-d39e-4cb1-aca7-03379eff58ab",
   "metadata": {},
   "outputs": [],
   "source": [
    "plt.scatter(igordat.Sequence_angle_exp,Sequence_angle_exp)\n",
    "[np.corrcoef(igordat.Sequence_angle_exp,Sequence_angle_exp),\n",
    "stats.spearmanr(igordat.Sequence_angle_exp,Sequence_angle_exp)]"
   ]
  },
  {
   "cell_type": "code",
   "execution_count": null,
   "id": "5d90e440-3e8f-4181-af2f-bd3e14767113",
   "metadata": {},
   "outputs": [],
   "source": [
    "plt.scatter(normvector[0:1010].A,NormVector[:,0])\n",
    "plt.scatter(normvector[0:1010].B,NormVector[:,1])\n",
    "plt.scatter(normvector[0:1010].C,NormVector[:,2])\n",
    "plt.scatter(CurvePhase,igordat.CurvePhase)\n",
    "\n",
    "plt.scatter(tanvector[0:1010].A,TanVector[:,0])\n",
    "plt.scatter(tanvector[0:1010].B,TanVector[:,1])\n",
    "plt.scatter(tanvector[0:1010].C,TanVector[:,2])\n",
    "\n",
    "plt.scatter(curvevector[0:1010].A,CurveVector[:,0])\n",
    "plt.scatter(curvevector[0:1010].B,CurveVector[:,1])\n",
    "plt.scatter(curvevector[0:1010].C,CurveVector[:,2])\n",
    "\n",
    "cc=np.concatenate((DNApath,DNApathMajorGroove),axis=0)\n",
    "plt.scatter(dnapath.A,cc[1:,0])\n",
    "plt.scatter(dnapath.B,cc[1:,1])\n",
    "plt.scatter(dnapath.C,cc[1:,2])\n",
    "\n",
    "plt.scatter(igordat.CurveMag,CurveMag)\n",
    "plt.scatter(curvevector.B,CurveVector[:,1])\n",
    "plt.scatter(curvevector.C,CurveVector[:,2])\n",
    "\n",
    "plt.scatter(np.log(Sequence_phase),np.log(igordat.Sequence_phase))"
   ]
  },
  {
   "cell_type": "code",
   "execution_count": null,
   "id": "c968edc1-5e78-4a8e-aa78-b0a06284ebd8",
   "metadata": {},
   "outputs": [],
   "source": [
    "#SG\n",
    "jeff=np.arange(len(Sequence_angle_exp))\n",
    "# np.log(Sequence_angle_exp_smth)\n",
    "# np.log(Sequence_angle_exp)\n",
    "\n",
    "cc=Sequence_angle_exp#np.nan_to_num((Sequence_angle_exp), copy=False, nan=0.0, posinf=0.0, neginf=0.0)\n",
    "dd=Sequence_angle_exp_smth/np.mean(Sequence_angle_exp_smth)#np.nan_to_num((Sequence_angle_exp_smth), copy=False, nan=0.0, posinf=0.0, neginf=0.0)\n",
    "\n",
    "# plt.figure(figsize=(20,5))\n",
    "plt.bar(jeff,cc)\n",
    "# plt.bar(np.arange(len(Sequence_angle_exp)),Sequence_angle_exp)\n",
    "# plt.plot(jeff,dd)\n"
   ]
  },
  {
   "cell_type": "code",
   "execution_count": null,
   "id": "f4df776b-f921-4342-87a4-7b9cbef6b8d8",
   "metadata": {},
   "outputs": [],
   "source": [
    "plt.bar(igordat.index,igordat.Sequence_angle_exp)\n",
    "# plt.plot(igordat.index,igordat.Sequence_angle_exp_smth)\n"
   ]
  },
  {
   "cell_type": "code",
   "execution_count": null,
   "id": "b033a001-0561-4c7c-9277-6168c5fd4cb4",
   "metadata": {},
   "outputs": [],
   "source": [
    "sys.path.insert(1, './run/oric/Plectoneme/')\n",
    "# import savitzky_golay\n",
    "importlib.reload(sys.modules['load_measures'])\n",
    "# from savitzky_golay import savitzky_golay\n",
    "# from smooth import smooth\n",
    "import load_measures\n",
    "from load_measures import load_measures\n",
    "# Swave='CGCTATTCTTCGGTTAACGAAGTCTGTAATTGATTTGTTAAGTTTTTCTTTTGAATATACGCATTAATTTTAGATTGAATTTGCTGAAGCTCTTCTTGATCAGCTTCTCGAATGGTTTGCTCCTTTTGTTCGCTCGTTAACGATTGTGAAGAAGCAGGAGACTGATTAGGGGCTGTCTCCACTTCATTTGTTTTTTTCGTACTTTTAGCTGCAGGGGTATTTGAAGGCTGAACCGCTTCTTCAGATTCCTGCAGAGATTGAAATTCCATCACGCCCGTTCCTCCAACGAACGCTTCATTAAATGCGCGAGAAAGGTTCTTAAATTTCTGCGCATCCACTGAGCTCATTGCAAACAATACAATGAATAAAGCAAGTAAAAGTGTAAGCAAATCTGAGTAAGGAAGCAGCCAGCTTTCGTCAACATGGTCCTCTTCATGCTTTCGTTTTCTGCGTCTACTCATTTATGCCCACTTCACTTTCTTGAAGAAGCTTTTTACGTTCCGCTGTTGGCAAATAAGAAGCCAGCTTTTGCTCAATTACTTTTGGTGTTTCTCCTTCTAAAAGTGAAAGCACTCCTTCGATCATCATATACTTTACCTTTACTTCATGTTTCGATTTACGCTTTAGTTTATTTGCAAACGGATGCCATAGTACATACCCAGTAAAAATACCAAGAAGCGTAGCAACAAACGCCGCGCTGATCGCATGTCCTAGCGTATCTGTATCTTCCATGTTCCCAAGCGCAGCAATTAACCCTATAACAGCTCCAAGTACACCCAGAGTTGGAGCATATGTACCTGCTAAAGCGAAAATACTTGCACCCGTTTGATGTCTTTCTTCCATAGCATCAATTTCTTCAGACAACACGTCTCGTATATAATCCGCACTTTGACCATCAATAGCTAAATTCAAACCATTTTTTAAGAAAGGGTCATCTACATCAATAATTTGGGCTTCAAGTGATAGTAACCCTTCTTTTCGAACAACTTGTCCCCATTCAGAAAACGCGT'\n",
    "Twave, Wwave, Dwave, CwaveRR, CwaveTT=load_measures()"
   ]
  },
  {
   "cell_type": "markdown",
   "id": "aad9e2d8-a378-4eb6-b98c-9d7859a3c792",
   "metadata": {
    "tags": []
   },
   "source": [
    "# Run Plectoneme on Gordon's High and None"
   ]
  },
  {
   "cell_type": "code",
   "execution_count": 81,
   "id": "bfd88567-f6ad-4d8e-b247-f72ccfa36e92",
   "metadata": {},
   "outputs": [],
   "source": [
    "sys.path.insert(1, './run/oric/Plectoneme/')\n",
    "import PlectonemeCode\n",
    "importlib.reload(sys.modules['PlectonemeCode'])\n",
    "from PlectonemeCode import PlectonemeCode\n",
    "# from run_gordon_plect import run_gordon_plect\n",
    "# [len(high),len(zero),max(high['len']),max(zero['len'])]"
   ]
  },
  {
   "cell_type": "code",
   "execution_count": 211,
   "id": "86d50126-1a38-44c1-8600-4a22cc4c03c9",
   "metadata": {},
   "outputs": [
    {
     "data": {
      "text/plain": [
       "<matplotlib.legend.Legend at 0x7f99c460e4c0>"
      ]
     },
     "execution_count": 211,
     "metadata": {},
     "output_type": "execute_result"
    },
    {
     "data": {
      "image/png": "[encoded data removed]",
      "text/plain": [
       "<Figure size 432x288 with 1 Axes>"
      ]
     },
     "metadata": {
      "needs_background": "light"
     },
     "output_type": "display_data"
    }
   ],
   "source": [
    "traces=glob.glob(\"data/Plectoneme/*_plect_*.txt\")\n",
    "AA=pd.DataFrame()\n",
    "BB=pd.DataFrame()\n",
    "from statannot import add_stat_annotation\n",
    "for trace in traces:\n",
    "    typ=os.path.basename(trace).split('_')[0]\n",
    "    spec=os.path.basename(trace).split('_')[2].split('.')[0]\n",
    "    if typ=='high':\n",
    "        A=pd.read_csv(trace, delimiter=\"\\t\",names=['mean','median','>=1','area','max_ind','len','plect_len','max'])\n",
    "        # A=A[A['area']!=0]\n",
    "        A['type']=typ\n",
    "        A['species']=spec\n",
    "        # A['filt']=str(os.path.basename(trace).split('_')[4].split('.')[0])\n",
    "        AA=AA.append(A)\n",
    "    else:\n",
    "        B=pd.read_csv(trace, delimiter=\"\\t\",names=['mean','median','>=1','area','max_ind','len','plect_len','max'])\n",
    "        # B=B[B['area']!=0]\n",
    "        B['type']=typ\n",
    "        B['species']=spec\n",
    "        # B['filt']=str(os.path.basename(trace).split('_')[4].split('.')[0])\n",
    "        BB=BB.append(B)\n",
    "    \n",
    "C=AA.append(BB)\n",
    "C=C[C['area']!=0]\n",
    "# C=C[C['len']>=1000]\n",
    "\n",
    "# C=C[C['max_ind']!=0]\n",
    "C['density']=C['area']/C['len']\n",
    "C['plect_%']=C['>=1']/C['len']\n",
    "C['plect_loc_%']=C['max_ind']/C['len']\n",
    "C['TSS_plect']=(C['max_ind']<=60)*(C['max_ind']>=10)+0\n",
    "C['TSS']=((C['max_ind']<=10)+0)*C['max']\n",
    "# C['TSS']\n",
    "\n",
    "C.dropna(inplace=True)\n",
    "C=C.reset_index()\n",
    "ax=sns.violinplot(data=C,y='plect_loc_%',x='species',hue='type',cut=0,scale='count')#,kind=\"violin\",cut=0,scale=\"count\", inner=\"quartile\")\n",
    "\n",
    "# add_stat_annotation(ax, data=C, x='species', y='TSS>1',hue='type',\n",
    "#                     box_pairs=[((\"821\", \"high\"), (\"821\", \"none\")),\n",
    "#                                  ((\"853\", \"high\"), (\"853\", \"none\")),\n",
    "#                                  ((\"2479767\", \"high\"), (\"2479767\", \"none\"))\n",
    "#                                 ],\n",
    "#                     test='t-test_ind', text_format='star', loc='inside', verbose=2)\n",
    "plt.legend(loc='upper left', bbox_to_anchor=(1.03, 1))"
   ]
  },
  {
   "cell_type": "markdown",
   "id": "d5df5dc4-6a02-4629-97f6-11990519c315",
   "metadata": {
    "jp-MarkdownHeadingCollapsed": true,
    "tags": []
   },
   "source": [
    "# add in Measurement of bacterial replication rates in microbial communities"
   ]
  },
  {
   "cell_type": "code",
   "execution_count": null,
   "id": "9e1808e7-4032-4ff0-8b30-9839cd1a16c3",
   "metadata": {},
   "outputs": [],
   "source": [
    "traces= glob.glob('data/meta_unfilt/*bedgraph')\n",
    "ori=pd.read_csv('data/doric10/OriC_db.bed',sep='\\t')\n",
    "\n",
    "for jac in traces:\n",
    "    zzz=pd.read_csv(jac,sep='\\t',names=['tmp','start','end','relAb'])\n",
    "    tmp=ori[ori['Refseq'].str.contains('NC_'+jac.split('/')[2].split('_')[1])]\n",
    "    \n",
    "    plt.figure(figsize=(20, 5))\n",
    "    try:\n",
    "        print('running: '+str(tmp['Organism'].item())+\" in \"+str(os.path.basename(jac).split('_')[2].split('.')[0]))\n",
    "        ss=np.int(np.round(tmp['start'].item(),-1))\n",
    "        tt=np.int(np.round(tmp['end'].item(),-1))\n",
    "        plt.bar(data=zzz[(zzz['start']>ss-250000)&(zzz['end']<tt+250000)],x='start',height='relAb',label='align',color='blue')#][zzz['start']=='1665929']\n",
    "        plt.bar(data=tmp,x='start',height='OriC AT content',label='OriC start',color='orange')\n",
    "        plt.bar(data=tmp,x='end',height='OriC AT content',label='OriC end',color='orange')\n",
    "\n",
    "        plt.axes([.2, .6, .6, .2])\n",
    "        plt.bar(data=zzz[(zzz['start']>ss-100) &(zzz['end']<tt+100)],x='start',height='relAb',label='align',color='blue')#][zzz['start']=='1665929']\n",
    "        plt.bar(data=tmp,x='start',height='OriC AT content',label='OriC start',color='orange')\n",
    "        plt.bar(data=tmp,x='end',height='OriC AT content',label='OriC end',color='orange')\n",
    "\n",
    "        plt.xlabel(\"OriC ranges from \"+str(tmp['start'].item())+\" to \"+str(tmp['end'].item())+\" for \"\n",
    "            +str(tmp['Organism'].item())+\" in \"+str(os.path.basename(jac).split('_')[2].split('.')[0])+\"max= \"+\n",
    "                   np.max(zzz['relAb'])+\" between \"+str(np.int(zzz[zzz['relAb']==np.max(zzz['relAb'])][['start']].values))+\" and \"+str(np.int(zzz[zzz['relAb']==np.max(zzz['relAb'])][['end']].values))+\"; median= \"+np.median(zzz['relAb']),fontsize=14)\n",
    "        plt.savefig('img/oric/'+str(os.path.basename(jac).split('.')[0])+'.png',dpi=300,bbox_inches = \"tight\")\n",
    "\n",
    "    except TypeError:\n",
    "        pass\n",
    "    except ValueError:\n",
    "        pass"
   ]
  },
  {
   "cell_type": "code",
   "execution_count": null,
   "id": "add5cf34-ac2e-4e32-b505-824b7c82e93b",
   "metadata": {},
   "outputs": [],
   "source": [
    "ori[ori['Organism']=='Staphylococcus_aureus']"
   ]
  },
  {
   "cell_type": "code",
   "execution_count": null,
   "id": "1cca3ef7-3bad-422f-b634-bfa4194e0a8d",
   "metadata": {},
   "outputs": [],
   "source": [
    "tmp=ori[ori['Refseq'].str.contains('NC_'+jac.split('/')[2].split('_')[1])]"
   ]
  },
  {
   "cell_type": "code",
   "execution_count": null,
   "id": "c596c5e0-6763-4927-9b5a-dfe5d488a4ee",
   "metadata": {},
   "outputs": [],
   "source": [
    "bact_stat=pd.read_csv('flagstatA.txt',sep='\\t',names=['q0','q1','type'])\n",
    "bact_stat['sample']=bact_stat[bact_stat['q0'].str.contains(\".bam\")]['q0'].repeat(21).values\n",
    "# bact_stat.loc[1:1000]\n",
    "bact_stat['bact']=bact_stat['sample'].str.split('_').str[1].tolist()\n",
    "bact_stat['pat']=bact_stat['sample'].str.split('_').str[2].tolist()\n",
    "del bact_stat['sample'], bact_stat['q1']\n",
    "bact_stat.dropna(how='any',inplace=True)\n",
    "bact_stat=bact_stat[~bact_stat.type.str.contains(\"%\")]"
   ]
  },
  {
   "cell_type": "code",
   "execution_count": null,
   "id": "26d0c1a8-e0c6-4bb5-b554-984dcbcfa519",
   "metadata": {},
   "outputs": [],
   "source": [
    "bact_stat['q0']=bact_stat.q0.astype('int')\n",
    "bact_stat['q1']=np.log10(bact_stat['q0'])"
   ]
  },
  {
   "cell_type": "code",
   "execution_count": null,
   "id": "e394f969-31b9-4632-9edd-0a21ce50a9d1",
   "metadata": {},
   "outputs": [],
   "source": [
    "sns.set_theme(style=\"whitegrid\")\n",
    "# iris = sns.load_dataset(\"iris\")\n",
    "plt.figure(figsize=(12, 24))\n",
    "# \"Melt\" the dataset to \"long-form\" or \"tidy\" representation\n",
    "# iris = pd.melt(bact_stat, [\"bact\",'patient'], var_name=\"type\")\n",
    "# del bact_stat['sample'], bact_stat['q1']\n",
    "# bact_stat.dropna(how='any',inplace=True)\n",
    "# bact_stat=bact_stat[~bact_stat.type.str.contains(\"%\")]\n",
    "# Initialize the figure\n",
    "# f, ax = plt.subplots()\n",
    "# sns.despine(bottom=True, left=True)\n",
    "\n",
    "# Show each observation with a scatterplot\n",
    "ax=sns.stripplot(x=\"q1\", y=\"type\", hue=\"bact\",\n",
    "              data=bact_stat, dodge=True, alpha=.25, zorder=1)\n",
    "\n",
    "# Show the conditional means, aligning each pointplot in the\n",
    "# center of the strips by adjusting the width allotted to each\n",
    "# category (.8 by default) by the number of hue levels\n",
    "ax=sns.pointplot(x=\"q1\", y=\"type\", hue=\"bact\",\n",
    "              data=bact_stat, dodge=.8 - .8 / 3,\n",
    "              join=False, palette=\"dark\",\n",
    "              markers=\"d\", scale=.75, ci=None)\n",
    "sns.move_legend(ax, \"upper left\", bbox_to_anchor=(1, 1),ncol=2)\n",
    "plt.savefig(\"flagstat.png\",dpi=300,bbox_inches = \"tight\")\n",
    "\n",
    "# Improve the legend\n",
    "# handles, labels = ax.get_legend_handles_labels()\n",
    "# ax.legend(handles, labels, title=\"bact\",\n",
    "#           handletextpad=0, columnspacing=1,\n",
    "#           loc='lower center', ncol=5, frameon=False)#,bbox_to_anchor=(1.05, 1),borderaxespad=0.)\n"
   ]
  },
  {
   "cell_type": "code",
   "execution_count": null,
   "id": "2f789d37-ab71-45e0-a627-53fc555f4a70",
   "metadata": {},
   "outputs": [],
   "source": [
    "jeff=pd.pivot_table(bact_stat,columns='type',index=['bact','pat'],values='q0')"
   ]
  },
  {
   "cell_type": "code",
   "execution_count": null,
   "id": "f2e3476b-5b3f-49bf-881b-e38d987cc818",
   "metadata": {},
   "outputs": [],
   "source": [
    "jeff=jeff.reset_index()"
   ]
  },
  {
   "cell_type": "code",
   "execution_count": null,
   "id": "c9a648b8-c8cf-46a8-8507-c9c8e7bfdd49",
   "metadata": {},
   "outputs": [],
   "source": [
    "jeff =jeff.loc[:, (jeff != 0).any(axis=0)]\n",
    "# del jeff['secondary']  \n",
    "del jeff['primary mapped'], jeff['with itself and mate mapped']"
   ]
  },
  {
   "cell_type": "code",
   "execution_count": null,
   "id": "f8222149-88c4-4ff9-90d7-4535a52d9314",
   "metadata": {},
   "outputs": [],
   "source": [
    "jeff"
   ]
  },
  {
   "cell_type": "code",
   "execution_count": null,
   "id": "6ac0e561-96f2-4fb7-b11c-272c440c02c2",
   "metadata": {},
   "outputs": [],
   "source": [
    "sns.pairplot(jeff, hue=\"bact\")\n",
    "plt.savefig(\"flagstat_corr.png\",dpi=300,bbox_inches = \"tight\")\n"
   ]
  },
  {
   "cell_type": "code",
   "execution_count": null,
   "id": "e639d3ab-b8be-476d-acea-001dd00c192c",
   "metadata": {},
   "outputs": [],
   "source": [
    "jeff0=pd.melt(jeff,id_vars=['bact','pat'])"
   ]
  },
  {
   "cell_type": "code",
   "execution_count": null,
   "id": "bb3bea85-3e0a-4a51-abfc-918ec19de572",
   "metadata": {},
   "outputs": [],
   "source": [
    "jeff0['log10_value']=np.log10(jeff0.value)"
   ]
  },
  {
   "cell_type": "code",
   "execution_count": null,
   "id": "28cb20db-98dd-4855-8f4b-b05206af4ddb",
   "metadata": {},
   "outputs": [],
   "source": [
    "sns.set_theme(style=\"whitegrid\")\n",
    "# iris = sns.load_dataset(\"iris\")\n",
    "plt.figure(figsize=(12, 24))\n",
    "# \"Melt\" the dataset to \"long-form\" or \"tidy\" representation\n",
    "# iris = pd.melt(bact_stat, [\"bact\",'patient'], var_name=\"type\")\n",
    "# del bact_stat['sample'], bact_stat['q1']\n",
    "# bact_stat.dropna(how='any',inplace=True)\n",
    "# bact_stat=bact_stat[~bact_stat.type.str.contains(\"%\")]\n",
    "# Initialize the figure\n",
    "# f, ax = plt.subplots()\n",
    "# sns.despine(bottom=True, left=True)\n",
    "\n",
    "# Show each observation with a scatterplot\n",
    "ax=sns.stripplot(x=\"log10_value\", y=\"type\", hue=\"bact\",\n",
    "              data=jeff0, dodge=True, alpha=.25, zorder=1)\n",
    "\n",
    "# Show the conditional means, aligning each pointplot in the\n",
    "# center of the strips by adjusting the width allotted to each\n",
    "# category (.8 by default) by the number of hue levels\n",
    "ax=sns.pointplot(x=\"log10_value\", y=\"type\", hue=\"bact\",\n",
    "              data=jeff0, dodge=.8 - .8 / 3,\n",
    "              join=False, palette=\"dark\",\n",
    "              markers=\"d\", scale=.75, ci=None)\n",
    "sns.move_legend(ax, \"upper left\", bbox_to_anchor=(1, 1),ncol=2)\n",
    "plt.savefig(\"flagstat_red.png\",dpi=300,bbox_inches = \"tight\")\n",
    "\n",
    "# Improve the legend\n",
    "# handles, labels = ax.get_legend_handles_labels()\n",
    "# ax.legend(handles, labels, title=\"bact\",\n",
    "#           handletextpad=0, columnspacing=1,\n",
    "#           loc='lower center', ncol=5, frameon=False)#,bbox_to_anchor=(1.05, 1),borderaxespad=0.)\n"
   ]
  },
  {
   "cell_type": "code",
   "execution_count": null,
   "id": "c9ef7274-3b2d-4b1e-8956-b533c6a93f78",
   "metadata": {},
   "outputs": [],
   "source": []
  },
  {
   "cell_type": "markdown",
   "id": "4d1bef40-b9d7-4178-8233-04e88a557f3a",
   "metadata": {
    "tags": []
   },
   "source": [
    "# ERIK"
   ]
  },
  {
   "cell_type": "code",
   "execution_count": null,
   "id": "00699038-f70c-401a-8025-1bd43ef57b07",
   "metadata": {},
   "outputs": [],
   "source": [
    "def logic(index):\n",
    "    if index % 2 != 0:\n",
    "       return True\n",
    "    return False\n",
    "\n",
    "def unlogic(index):\n",
    "    if index % 2 == 0:\n",
    "       return True\n",
    "    return False\n",
    "\n",
    "\n",
    "USV=pd.read_csv('data/MYC_NetCom_R2_USV.csv',sep='\\t',skiprows=lambda x: logic(x))\n",
    "USV['NET']=pd.read_csv('data/MYC_NetCom_R2_USV.csv',sep='\\t',skiprows=lambda x: unlogic(x))['Unnamed: 1']\n",
    "# USV['meth']='USV'\n",
    "USV=USV[[' R2','NET']]\n",
    "# USV.rename(columns={' R2': \"USV_R2\"},inplace=True)\n",
    "USV['V']='V'\n",
    "USV['pinv']='pinvA'\n",
    "\n",
    "UStV=pd.read_csv('data/MYC_NetCom_R2_UStV.csv',sep='\\t',skiprows=lambda x: logic(x))\n",
    "UStV['NET']=pd.read_csv('data/MYC_NetCom_R2_UStV.csv',sep='\\t',skiprows=lambda x: unlogic(x))['Unnamed: 1']\n",
    "UStV=UStV[[' R2','NET']]\n",
    "# UStV.rename(columns={' R2': \"UStV_R2\"},inplace=True)\n",
    "UStV['V']=\"V'\"\n",
    "UStV['pinv']='pinvA'\n",
    "\n",
    "USV_invAP=pd.read_csv('data/MYC_NetCom_R2_USV_invAP.csv',sep='\\t',skiprows=lambda x: logic(x))\n",
    "USV_invAP['NET']=pd.read_csv('data/MYC_NetCom_R2_USV_invAP.csv',sep='\\t',skiprows=lambda x: unlogic(x))['Unnamed: 1']\n",
    "USV_invAP=USV_invAP[[' R2','NET']]\n",
    "# USV_invAP.rename(columns={' R2': \"USV_invAP_R2\"},inplace=True)\n",
    "USV_invAP['V']='V'\n",
    "USV_invAP['pinv']='pinvAP'\n",
    "\n",
    "UStV_invAP=pd.read_csv('data/MYC_NetCom_R2_UStV_invAP.csv',sep='\\t',skiprows=lambda x: logic(x))\n",
    "UStV_invAP['NET']=pd.read_csv('data/MYC_NetCom_R2_UStV_invAP.csv',sep='\\t',skiprows=lambda x: unlogic(x))['Unnamed: 1']\n",
    "UStV_invAP=UStV_invAP[[' R2','NET']]\n",
    "# UStV_invAP.rename(columns={' R2': \"UStV_invAP_R2\"},inplace=True)\n",
    "UStV_invAP['V']=\"V'\"\n",
    "UStV_invAP['pinv']='pinvAP'\n",
    "\n",
    "C=USV.append([UStV,USV_invAP,UStV_invAP],ignore_index=True)\n",
    "df2 = C.pivot_table(index=['NET'], columns=['V','pinv'])\n",
    "df2.columns = [' '.join(col).strip() for col in df2.columns.values]"
   ]
  },
  {
   "cell_type": "code",
   "execution_count": null,
   "id": "bc79bc5c-c265-4289-bab9-b58928b5f853",
   "metadata": {},
   "outputs": [],
   "source": [
    "df2=df2.sort_values('R2 V pinvA')\n",
    "dfA=df2.reset_index()\n",
    "# df2\n",
    "dfA[dfA['NET'].str.contains('1253')]"
   ]
  },
  {
   "cell_type": "code",
   "execution_count": null,
   "id": "a789f0be-ef94-4fc0-8653-ef8969130c24",
   "metadata": {},
   "outputs": [],
   "source": [
    "df2=df2.sort_values(\"R2 V' pinvA\")\n",
    "dfB=df2.reset_index()\n",
    "# df2\n",
    "dfB[dfB['NET'].str.contains('1253')]"
   ]
  },
  {
   "cell_type": "code",
   "execution_count": null,
   "id": "5e9d96de-3420-479c-830b-47dbabc6ecf9",
   "metadata": {},
   "outputs": [],
   "source": [
    "df2=df2.sort_values(\"R2 V pinvAP\")\n",
    "dfC=df2.reset_index()\n",
    "# df2\n",
    "dfC[dfC['NET'].str.contains('1253')]"
   ]
  },
  {
   "cell_type": "code",
   "execution_count": null,
   "id": "d857d6b8-5651-4bba-91e9-b6eb58f9a4d8",
   "metadata": {},
   "outputs": [],
   "source": [
    "df2=df2.sort_values(\"R2 V' pinvAP\")\n",
    "dfD=df2.reset_index()\n",
    "# df2\n",
    "dfD[dfD['NET'].str.contains('1253')]"
   ]
  },
  {
   "cell_type": "code",
   "execution_count": null,
   "id": "8798fee4-191f-49e9-b1f2-9ed8850dc414",
   "metadata": {},
   "outputs": [],
   "source": []
  },
  {
   "cell_type": "code",
   "execution_count": null,
   "id": "5cd2e45f-9ee2-4638-927f-1485cadbd4ad",
   "metadata": {},
   "outputs": [],
   "source": []
  },
  {
   "cell_type": "code",
   "execution_count": null,
   "id": "3e2254be-bb31-4664-bb0f-e1c7b7a01cb0",
   "metadata": {},
   "outputs": [],
   "source": [
    "df2=df2.sort_values('R2 V pinvA')\n",
    "dfA=df2.reset_index()\n",
    "# df2\n",
    "dfA[dfA['NET'].str.contains('1145')]"
   ]
  },
  {
   "cell_type": "code",
   "execution_count": null,
   "id": "3a62b851-d49a-4e76-8adc-eb9db1bb4751",
   "metadata": {},
   "outputs": [],
   "source": [
    "df2=df2.sort_values(\"R2 V' pinvA\")\n",
    "dfB=df2.reset_index()\n",
    "# df2\n",
    "dfB[dfB['NET'].str.contains('1145')]"
   ]
  },
  {
   "cell_type": "code",
   "execution_count": null,
   "id": "ce3873e8-3a24-4915-9f3b-6779acdbe0e8",
   "metadata": {},
   "outputs": [],
   "source": [
    "df2=df2.sort_values(\"R2 V pinvAP\")\n",
    "dfC=df2.reset_index()\n",
    "# df2\n",
    "dfC[dfC['NET'].str.contains('1145')]"
   ]
  },
  {
   "cell_type": "code",
   "execution_count": null,
   "id": "e34fa234-01ba-4336-bbc2-85a154b73d09",
   "metadata": {},
   "outputs": [],
   "source": [
    "df2=df2.sort_values(\"R2 V' pinvAP\")\n",
    "dfD=df2.reset_index()\n",
    "# df2\n",
    "dfD[dfD['NET'].str.contains('1145')]"
   ]
  },
  {
   "cell_type": "code",
   "execution_count": null,
   "id": "374c5598-aa3e-4c76-a7ce-c9ec507dbb3b",
   "metadata": {},
   "outputs": [],
   "source": []
  },
  {
   "cell_type": "code",
   "execution_count": null,
   "id": "1717fa21-e8db-4427-8d13-43f99aa7051b",
   "metadata": {},
   "outputs": [],
   "source": []
  },
  {
   "cell_type": "code",
   "execution_count": null,
   "id": "72867ff3-fac7-4858-80f6-3c30a70af2b3",
   "metadata": {},
   "outputs": [],
   "source": [
    "from scipy.stats import spearmanr\n",
    "\n",
    "def corrfunc(x, y, **kws):\n",
    "    (r, p) = spearmanr(x, y,nan_policy='omit')\n",
    "    ax = plt.gca()\n",
    "    ax.annotate(\"r = {:.2f} \".format(r),\n",
    "                xy=(.1, .9), xycoords=ax.transAxes)\n",
    "    ax.annotate(\"p = {:.3f}\".format(p),\n",
    "                xy=(.4, .9), xycoords=ax.transAxes)\n",
    "graph=sns.pairplot(df2)\n",
    "graph.map(corrfunc)\n",
    "\n",
    "plt.savefig(\"data/MYC_R2.png\",dpi=300,bbox_inches = \"tight\")\n",
    "plt.show()"
   ]
  }
 ],
 "metadata": {
  "kernelspec": {
   "display_name": "mypy3",
   "language": "python",
   "name": "mypy3"
  },
  "language_info": {
   "codemirror_mode": {
    "name": "ipython",
    "version": 3
   },
   "file_extension": ".py",
   "mimetype": "text/x-python",
   "name": "python",
   "nbconvert_exporter": "python",
   "pygments_lexer": "ipython3",
   "version": "3.9.7"
  },
  "toc-autonumbering": false,
  "toc-showcode": false,
  "toc-showmarkdowntxt": false,
  "toc-showtags": false
 },
 "nbformat": 4,
 "nbformat_minor": 5
}
