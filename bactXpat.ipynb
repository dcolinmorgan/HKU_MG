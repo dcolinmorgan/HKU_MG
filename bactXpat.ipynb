{
 "cells": [
  {
   "cell_type": "code",
   "execution_count": 10,
   "id": "7b4f611e-11c9-456b-9dfe-99ef3b969597",
   "metadata": {
    "tags": []
   },
   "outputs": [],
   "source": [
    "%reset -f\n",
    "%config Completer.use_jedi = True\n",
    "# %matplotlib widget"
   ]
  },
  {
   "cell_type": "code",
   "execution_count": 11,
   "id": "af05ad06-bbd0-48c5-a39d-e4e19e51629d",
   "metadata": {},
   "outputs": [
    {
     "data": {
      "text/plain": [
       "'/home/dcmorgan'"
      ]
     },
     "execution_count": 11,
     "metadata": {},
     "output_type": "execute_result"
    }
   ],
   "source": [
    "import matplotlib.pyplot as plt\n",
    "import numpy as np\n",
    "import os,glob,sys,importlib#,scipy,coolbox,pybedtools,\n",
    "from scipy.stats import linregress\n",
    "from scipy.ndimage import gaussian_filter\n",
    "from tqdm import tqdm\n",
    "import pandas as pd\n",
    "import seaborn as sns\n",
    "# from scipy import stats\n",
    "# from sklearn import metrics\n",
    "os.chdir('/home/dcmorgan')\n",
    "os.getcwd()\n",
    "\n",
    "# sys.path.insert(1, './run/oric/Plectoneme/')\n",
    "# import savitzky_golay\n",
    "# importlib.reload(sys.modules['savitzky_golay'])\n",
    "# from savitzky_golay import savitzky_golay\n",
    "\n",
    "# import networkx as nx\n",
    "# from joblib.externals.loky import set_loky_pickler\n",
    "# from joblib import parallel_backend\n",
    "# from joblib import Parallel, delayed\n",
    "# from joblib import wrap_non_picklable_objects\n"
   ]
  },
  {
   "cell_type": "code",
   "execution_count": null,
   "id": "c32759f7-79d2-4415-9504-482db7b85871",
   "metadata": {
    "tags": []
   },
   "outputs": [],
   "source": [
    "!cut -f2,3,4 ~/data/meta/NC_004252_R0396-MWT.bedgraph"
   ]
  },
  {
   "cell_type": "markdown",
   "id": "ada0898d-a32a-4c84-bdc8-9f54fce27506",
   "metadata": {
    "jp-MarkdownHeadingCollapsed": true,
    "tags": []
   },
   "source": [
    "## Raw Gut x pheno"
   ]
  },
  {
   "cell_type": "code",
   "execution_count": null,
   "id": "22308531-1ce9-49b4-9602-fd0d3f7aa8ce",
   "metadata": {},
   "outputs": [],
   "source": [
    "primary=pd.read_excel('data/Data Raw - Gut Microbiome Cohort Project Database - 300 Cohort v3.0_280921.xlsx',index_col=0,sheet_name='Primary Data')\n",
    "diet=pd.read_excel('data/Data Raw - Gut Microbiome Cohort Project Database - 300 Cohort v3.0_280921.xlsx',index_col=0,sheet_name='Diet Data')\n",
    "blood_stool=pd.read_excel('data/Data Raw - Gut Microbiome Cohort Project Database - 300 Cohort v3.0_280921.xlsx',index_col=0,sheet_name='blood and stool biomarkers')\n",
    "secondary=pd.read_excel('data/Data Raw - Gut Microbiome Cohort Project Database - 300 Cohort v3.0_280921.xlsx',index_col=0,sheet_name='Secondary Data')\n",
    "MRI=pd.read_excel('data/Data Raw - Gut Microbiome Cohort Project Database - 300 Cohort v3.0_280921.xlsx',index_col=0,sheet_name='MRI scores')"
   ]
  },
  {
   "cell_type": "code",
   "execution_count": null,
   "id": "01be2317-56d2-4419-91b5-b783e56ba33d",
   "metadata": {},
   "outputs": [],
   "source": [
    "unibact=pd.read_csv('data/328_krakenuniq_raw.csv',index_col=0)\n",
    "unibact['spec']=(unibact.index).str.split(';').str[0:6].tolist()\n",
    "# jeff=pd.DataFrame(unibact['spec'].tolist(),columns=['tmp','tmp','tmp','tmp','tmp','species'])\n",
    "# jeff=jeff.fillna(method='ffill',axis=1)\n"
   ]
  },
  {
   "cell_type": "code",
   "execution_count": null,
   "id": "3fe15187-7a71-420c-b8b4-7e9c54b59b45",
   "metadata": {},
   "outputs": [],
   "source": [
    "unibact.columns=unibact.columns.str.split('-').str[0].tolist()"
   ]
  },
  {
   "cell_type": "code",
   "execution_count": null,
   "id": "6ab4e89f-0ae5-4a82-861c-24e662800e97",
   "metadata": {},
   "outputs": [],
   "source": [
    "PP=primary[primary.index.isin(unibact.columns)]\n",
    "\n"
   ]
  },
  {
   "cell_type": "code",
   "execution_count": null,
   "id": "d229bcaa-572e-4dc1-9465-c81aac3badc0",
   "metadata": {},
   "outputs": [],
   "source": [
    "sub_uni=unibact[primary.index[primary.index.isin(unibact.columns)]]\n",
    "sub_uni.columns=PP['Hypertension Category by 24h BP w/o considering antihypertensive med']\n",
    "# sub_uni"
   ]
  },
  {
   "cell_type": "markdown",
   "id": "9784e4de-3ddf-4d44-b15b-974a4a556d4d",
   "metadata": {},
   "source": [
    "### corr network"
   ]
  },
  {
   "cell_type": "code",
   "execution_count": null,
   "id": "e92365a0-59d4-40b8-a4aa-05f846b8c05c",
   "metadata": {},
   "outputs": [],
   "source": [
    "aa=np.corrcoef((sub_uni[2]).astype(float))\n",
    "# aa=aa[aa!=1]\n",
    "a=plt.hist(aa.flatten(),bins=100,log=True,alpha=.65)\n",
    "\n",
    "bb=np.corrcoef((sub_uni[1]).astype(float))\n",
    "# bb=bb[bb!=1]\n",
    "b=plt.hist(bb.flatten(),bins=100,log=True,alpha=.5)\n",
    "\n",
    "cc=np.corrcoef((sub_uni[0]).astype(float))\n",
    "# cc=cc[cc!=1]\n",
    "c=plt.hist(cc.flatten(),bins=100,log=True,alpha=.35)"
   ]
  },
  {
   "cell_type": "code",
   "execution_count": null,
   "id": "c9d05884-e129-49d3-beec-1062883c9cd0",
   "metadata": {},
   "outputs": [],
   "source": []
  },
  {
   "cell_type": "code",
   "execution_count": null,
   "id": "059b110f-1ed9-469d-98f6-f5ddd4851536",
   "metadata": {},
   "outputs": [],
   "source": [
    "a=nx.from_numpy_array(aa[1:100,1:100])\n",
    "b=nx.from_numpy_array(bb[1:100,1:100])\n",
    "c=nx.from_numpy_array(cc[1:100,1:100])\n",
    "\n",
    "# cc.shape"
   ]
  },
  {
   "cell_type": "code",
   "execution_count": null,
   "id": "aa2a9d7d-afd6-4edf-89a9-df6cca8ad551",
   "metadata": {},
   "outputs": [],
   "source": [
    "nx.draw(a)\n",
    "nx.draw(b)\n",
    "nx.draw(c)"
   ]
  },
  {
   "cell_type": "code",
   "execution_count": null,
   "id": "0fc56c64-43dc-436a-969d-7d53e71c8cba",
   "metadata": {},
   "outputs": [],
   "source": [
    "# nx.from_numpy_array(aa[(aa>.5)&(aa[1:100,1:100])])\n",
    "nx.average_clustering(a)"
   ]
  },
  {
   "cell_type": "code",
   "execution_count": null,
   "id": "5dd28036-4e63-440a-9bd8-19faf6489fa9",
   "metadata": {},
   "outputs": [],
   "source": [
    "aa=np.array(stats.spearmanr(sub_uni[2],axis=1))\n",
    "# aa=aa[aa!=1]\n",
    "a=plt.hist(aa.flatten(),bins=100,log=True,alpha=.65)\n",
    "\n",
    "bb=np.array(stats.spearmanr(sub_uni[1],axis=1))\n",
    "# bb=bb[bb!=1]\n",
    "b=plt.hist(bb.flatten(),bins=100,log=True,alpha=.5)\n",
    "\n",
    "cc=np.array(stats.spearmanr(sub_uni[0],axis=1))\n",
    "# cc=cc[cc!=1]\n",
    "c=plt.hist(cc.flatten(),bins=100,log=True,alpha=.35)"
   ]
  },
  {
   "cell_type": "code",
   "execution_count": null,
   "id": "2bb5fedf-c6b2-4427-96d5-65f43e93e201",
   "metadata": {},
   "outputs": [],
   "source": [
    "ww=plt.hist(bb-cc,bins=100,alpha=.65,log=True)\n",
    "ww=plt.hist(bb-aa,bins=100,alpha=.5,log=True)\n",
    "ww=plt.hist(aa-cc,bins=100,alpha=.35,log=True)"
   ]
  },
  {
   "cell_type": "code",
   "execution_count": null,
   "id": "7a75f553-6ae0-4789-ae09-5d838b625260",
   "metadata": {},
   "outputs": [],
   "source": [
    "from scipy import stats\n",
    "cc=np.array(stats.spearmanr(unibact.values[0:1000,0:1000])).flatten()\n",
    "cc=cc[cc!=1]\n",
    "# np.array(cc)\n",
    "cc=plt.hist(cc,bins=100,log=True)"
   ]
  },
  {
   "cell_type": "code",
   "execution_count": null,
   "id": "10cee066-6568-45c7-90b9-de77d9488855",
   "metadata": {},
   "outputs": [],
   "source": []
  },
  {
   "cell_type": "code",
   "execution_count": null,
   "id": "3104082b-4b3e-4263-a3c9-31ee063c10c4",
   "metadata": {},
   "outputs": [],
   "source": []
  },
  {
   "cell_type": "markdown",
   "id": "e74e670e-e6a2-43c7-9b57-364f6ec0fb30",
   "metadata": {
    "jp-MarkdownHeadingCollapsed": true,
    "tags": []
   },
   "source": [
    "## OriC data"
   ]
  },
  {
   "cell_type": "code",
   "execution_count": null,
   "id": "59ce7bf7-97ab-4334-8e14-61f0574bfb46",
   "metadata": {},
   "outputs": [],
   "source": [
    "oric=pd.read_csv('data/doric10/tubic_bacteria.csv') #remove 'note' and 'nt*' from file"
   ]
  },
  {
   "cell_type": "code",
   "execution_count": null,
   "id": "e1a6e54e-c4ab-43a9-be3e-2316bad3547e",
   "metadata": {},
   "outputs": [],
   "source": [
    "oric['oric_start']=oric['Location of replication origin'].str.split('.').str[0].str.split(',').str[0].str.split(';').str[0].tolist()\n",
    "oric['oric_end']=oric['Location of replication origin'].str.split('.').str[2].str.split(',').str[0].str.split(';').str[0].tolist()\n",
    "oric['gene_start']=oric['Location of replication genes'].str.split('.').str[0].str.split(',').str[0].str.split(';').str[0].tolist()\n",
    "oric['gene_end']=oric['Location of replication genes'].str.split('.').str[2].str.split(',').str[0].str.split(';').str[0].tolist()"
   ]
  },
  {
   "cell_type": "code",
   "execution_count": null,
   "id": "07745e98-077d-4878-a444-75dba1c83aaa",
   "metadata": {},
   "outputs": [],
   "source": [
    "oric['OriC AT content']=np.round(oric['OriC AT content']*100).astype(int)\n",
    "oric['orgA']=oric['Organism'].str.split(' ').str[0].tolist()\n",
    "oric['orgB']=oric['Organism'].str.split(' ').str[1].tolist()\n",
    "oric['Organism']=oric['orgA']+'_'+oric['orgB']\n"
   ]
  },
  {
   "cell_type": "code",
   "execution_count": null,
   "id": "3217d2a6-02e5-402d-bb98-38844c616983",
   "metadata": {},
   "outputs": [],
   "source": [
    "oric[['oric_start','oric_end','gene_start','gene_end']]=oric[['oric_start','oric_end','gene_start','gene_end']].replace('-','1')\n",
    "oric=oric.fillna('1')"
   ]
  },
  {
   "cell_type": "code",
   "execution_count": null,
   "id": "a9b4988c-50a8-4f78-8d3b-6575f0192f89",
   "metadata": {},
   "outputs": [],
   "source": [
    "oric[['gene_start']]=oric[['gene_start']].astype(int)\n",
    "oric[['gene_end']]=oric[['gene_end']].astype(int)\n",
    "oric[['oric_start']]=oric[['oric_start']].astype(int)\n",
    "oric[['oric_end']]=oric[['oric_end']].astype(int)"
   ]
  },
  {
   "cell_type": "code",
   "execution_count": null,
   "id": "81aa4218-e291-4d70-a1cd-01c926299906",
   "metadata": {},
   "outputs": [],
   "source": [
    "# oric['end']=np.amax(oric[['oric_start','oric_end','gene_start','gene_end']],1)\n",
    "# oric['start']=np.amin(oric[['oric_start','oric_end','gene_start','gene_end']],1)\n",
    "jj=ori[ori['oric_start']>ori['oric_end']]#\n",
    "jj['oric_end']=jj['oric_start']+jj['oric_end']\n",
    "ff=ori[ori['oric_start']<ori['oric_end']]\n",
    "ORIC=ff.append(jj)"
   ]
  },
  {
   "cell_type": "code",
   "execution_count": null,
   "id": "83b0b133-0c7d-49b2-b841-7c7e66c2ff76",
   "metadata": {},
   "outputs": [],
   "source": [
    "ORIC['refseq']=ORIC['Refseq'].str.split('.').str[0].tolist()\n",
    "ORIC['len']=ORIC['oric_end']-ORIC['oric_start']"
   ]
  },
  {
   "cell_type": "code",
   "execution_count": null,
   "id": "efa1269e-8844-4668-88e7-011724fec032",
   "metadata": {},
   "outputs": [],
   "source": [
    "ORIC[['refseq','oric_start','oric_end','OriC AT content','Organism','len']].to_csv('data/doric10/OriC_db.bed',sep='\\t',header=True,index=False)"
   ]
  },
  {
   "cell_type": "code",
   "execution_count": null,
   "id": "668be098-db7f-4c50-a74a-4ce36cc59563",
   "metadata": {},
   "outputs": [],
   "source": [
    "sns.set_style(\"white\")\n",
    "tmp=plt.hist(ORIC['len'],bins=100,log=True)"
   ]
  },
  {
   "cell_type": "markdown",
   "id": "02c138dd-5460-47e2-8941-ec46e322fd94",
   "metadata": {
    "jp-MarkdownHeadingCollapsed": true,
    "tags": []
   },
   "source": [
    "## circular plots"
   ]
  },
  {
   "cell_type": "code",
   "execution_count": null,
   "id": "a0379940-0d92-4954-b2bf-5677d83ce625",
   "metadata": {},
   "outputs": [],
   "source": [
    "zzz=pd.read_csv(jac,sep='\\t',names=['tmp','start','end','relAb'])\n",
    "tmp=ori[ori['Refseq'].str.contains('NC_'+jac.split('/')[2].split('_')[1])]\n",
    "plt.figure(figsize=(20, 5))\n",
    "\n",
    "plt.bar(data=zzz[(zzz['start']>3000000)&(zzz['end']<3500000)],x='start',height='relAb',label='align',color='blue')#][zzz['start']=='1665929']\n",
    "plt.bar(data=tmp,x='start',height='OriC AT content',label='OriC start',color='orange')\n",
    "plt.bar(data=tmp,x='end',height='OriC AT content',label='OriC end',color='orange')\n",
    "\n",
    "plt.axes([.2, .6, .6, .2])\n",
    "plt.bar(data=zzz[(zzz['start']>np.int(np.round(tmp['start'].item(),-1))-100) &(zzz['end']<np.int(np.round(tmp['end'].item(),-1))+100)],x='start',height='relAb',label='align',color='blue')#][zzz['start']=='1665929']\n",
    "plt.bar(data=tmp,x='start',height='OriC AT content',label='OriC start',color='orange')\n",
    "plt.bar(data=tmp,x='end',height='OriC AT content',label='OriC end',color='orange')\n",
    "\n",
    "\n",
    "plt.xlabel(\"OriC ranges from \"+str(tmp['start'].item())+\" to \"+str(tmp['end'].item())+\" for \"\n",
    "        +str(tmp['Organism'].item())+\" in \"+str(os.path.basename(jac).split('_')[2].split('.')[0])+\n",
    "           \"max= \"+np.max(zzz['relAb'])+\" at \"+str(zzz[zzz['relAb']==np.max(zzz['relAb'])][['start']].index.values)+\"; median= \"+np.median(zzz['relAb']),fontsize=14)\n",
    " "
   ]
  },
  {
   "cell_type": "code",
   "execution_count": null,
   "id": "3f24fee5-a8ac-4663-b6ac-7f6a1aa21f5e",
   "metadata": {},
   "outputs": [],
   "source": [
    "# traces[1]\n",
    "tmp"
   ]
  },
  {
   "cell_type": "code",
   "execution_count": null,
   "id": "fa266e57-77a4-425f-92a5-095c7633232a",
   "metadata": {},
   "outputs": [],
   "source": [
    "traces= glob.glob('data/meta_unfilt/*bedgraph')\n",
    "ori=pd.read_csv('data/doric10/OriC_db.bed',sep='\\t')\n",
    "\n",
    "# for jac in traces:\n",
    "jac=traces[1]\n",
    "zzz=pd.read_csv(jac,sep='\\t',names=['tmp','start','end','relAb'])\n",
    "tmp=ori[ori['Refseq'].str.contains('NC_'+jac.split('/')[2].split('_')[1])]\n",
    "\n",
    "aa=zzz[['start','relAb']]\n",
    "aa.rename(columns={\"start\":\"Name\",\"relAb\":\"Value\"},inplace=True)\n",
    "df0=aa.groupby(aa.index // 2000).sum()\n",
    "df=(df0)\n",
    "df=df0\n",
    "df['Name']=np.round(df['Name'],3)\n",
    "df=df.sort_values(by=['Name'])\n",
    "# df=df0\n",
    "# del df['Value']\n",
    "# df=df.rename(columns={'logValue':\"Value\"})"
   ]
  },
  {
   "cell_type": "code",
   "execution_count": null,
   "id": "4bd56435-febb-4774-9ab7-8e16db84f316",
   "metadata": {},
   "outputs": [],
   "source": [
    "# set figure size\n",
    "plt.figure(figsize=(20,10))\n",
    "\n",
    "# plot polar axis\n",
    "ax = plt.subplot(111, polar=True)\n",
    "\n",
    "# remove grid\n",
    "plt.axis('off')\n",
    "\n",
    "# Set the coordinates limits\n",
    "upperLimit = 100#np.max(df.Value)\n",
    "lowerLimit = 10#np.min(df.Value)\n",
    "\n",
    "# Compute max and min in the dataset\n",
    "max = df['Value'].max()\n",
    "\n",
    "# Let's compute heights: they are a conversion of each item value in those new coordinates\n",
    "# In our example, 0 in the dataset will be converted to the lowerLimit (10)\n",
    "# The maximum will be converted to the upperLimit (100)\n",
    "slope = (max - lowerLimit) / max\n",
    "heights = slope * df.Value + lowerLimit\n",
    "\n",
    "# Compute the width of each bar. In total we have 2*Pi = 360°\n",
    "width = 2*np.pi / len(df.index)\n",
    "\n",
    "# Compute the angle each bar is centered on:\n",
    "indexes = list(range(1, len(df.index)+1))\n",
    "angles = [element * width for element in indexes]\n",
    "angles\n",
    "\n",
    "# Draw bars\n",
    "bars = ax.bar(\n",
    "    x=angles, \n",
    "    height=heights, \n",
    "    width=width, \n",
    "    bottom=lowerLimit,\n",
    "    linewidth=2, \n",
    "    edgecolor=\"white\")\n",
    "\n",
    "\n",
    "# little space between the bar and the label\n",
    "labelPadding = 4\n",
    "\n",
    "# Add labels\n",
    "for bar, angle, height, label in zip(bars,angles, heights, df[\"Name\"]):\n",
    "\n",
    "    # Labels are rotated. Rotation must be specified in degrees :(\n",
    "    rotation = np.rad2deg(angle)\n",
    "\n",
    "    # Flip some labels upside down\n",
    "    alignment = \"\"\n",
    "    if angle >= np.pi/2 and angle < 3*np.pi/2:\n",
    "        alignment = \"right\"\n",
    "        rotation = rotation + 180\n",
    "    else: \n",
    "        alignment = \"left\"\n",
    "\n",
    "    # Finally add the labels\n",
    "    ax.text(\n",
    "        x=angle, \n",
    "        y=lowerLimit + bar.get_height() + labelPadding, \n",
    "        s=label, \n",
    "        ha=alignment, \n",
    "        va='center', \n",
    "        rotation=rotation, \n",
    "        rotation_mode=\"anchor\") "
   ]
  },
  {
   "cell_type": "markdown",
   "id": "54c74564-8c10-4583-a912-9e3488451b3c",
   "metadata": {
    "jp-MarkdownHeadingCollapsed": true,
    "tags": []
   },
   "source": [
    "## circular plot 2\n",
    "\n",
    "[adapted from tutorial](https://www.python-graph-gallery.com/web-circular-lollipop-plot-with-matplotlib)\n",
    "\n",
    "[checkout GCskew wiki](https://en.wikipedia.org/wiki/GC_skew)"
   ]
  },
  {
   "cell_type": "code",
   "execution_count": null,
   "id": "d42a152d-40ae-4144-8438-26bad6ef286a",
   "metadata": {},
   "outputs": [],
   "source": [
    "import random\n",
    "# The plot consists of 2 rows and 5 columns (10 categories in total)\n",
    "fig, axes = plt.subplots(10, 3, figsize=(40, 40), subplot_kw={\"projection\": \"polar\"})\n",
    "fig.patch.set_facecolor(\"white\")\n",
    "# PLUS = 10\n",
    "table=[]\n",
    "\n",
    "traces= np.sort(glob.glob('data/meta*/*bedgraph'))\n",
    "ori=pd.read_csv('data/doric10/OriC_db.bed',sep='\\t')\n",
    "# cc=ori[ori['Organism']==('Escherichia_coli')]\n",
    "cc=ori\n",
    "dd=cc[cc['refseq'].str.contains('NC_')]['refseq']\n",
    "\n",
    "\n",
    "ori=pd.read_csv('data/doric10/OriC_db.bed',sep='\\t')\n",
    "SLICES = [(i, j) for i in range(10) for j in range(3)]\n",
    "i=0\n",
    "sns.palplot(sns.color_palette(\"Set2\", 40))\n",
    "color=pd.DataFrame()\n",
    "color0=pd.DataFrame(columns=['color','species'])\n",
    "# for jac in traces[0::151]:\n",
    "\n",
    "for d in dd:\n",
    "    indices = [i for i, s in enumerate(traces) if d in s]\n",
    "    # if not indices.zeros:\n",
    "    if indices !=[]:\n",
    "        jac=traces[indices[10]]\n",
    "        ax = axes[SLICES[i]]\n",
    "        zzz=pd.read_csv(jac,sep='\\t',names=['tmp','start','end','relAb'])\n",
    "        tmp=ori[ori['refseq'].str.contains('NC_'+jac.split('/')[2].split('_')[1])]\n",
    "    \n",
    "        cc=tmp['Organism'].iloc[0]\n",
    "        if cc in table:\n",
    "            colorA=color0[color0['species']==cc]['color']\n",
    "        else:\n",
    "            color['color']=[\"#\"+''.join([random.choice('0123456789ABCDEF') for j in range(6)])] #list(np.random.choice(range(256), size=3))\n",
    "            color['species']=(cc)\n",
    "            color0=color0.append(color)\n",
    "            colorA=color0[color0['species']==cc]['color']\n",
    "            table.append(cc)\n",
    "        i=i+1\n",
    "        # aa=zzz[['start','relAb']]\n",
    "        # aa.rename(columns={\"start\":\"Name\",\"relAb\":\"Value\"},inplace=True)\n",
    "        # df0=zzz.groupby(zzz.index // 2000).sum()/100\n",
    "        \n",
    "        # TIMES=zzz['relAb'][1::100]\n",
    "        zzz['len']=zzz['end']-zzz['start']\n",
    "        jeff3=np.repeat((zzz.relAb), repeats = zzz['len'])\n",
    "        jeff3=jeff3.reset_index()\n",
    "        df0=jeff3.groupby(jeff3.index // 1000).sum()/100\n",
    "        # print(np.max(jeff3.groupby(jeff3.index // 10000).sum()['relAb']))\n",
    "        # index=jeff3.index[0::1000].tolist()\n",
    "        \n",
    "        TIMES=(df0['relAb'])\n",
    "        TIMES.replace('-inf',0)\n",
    "        TIMES[np.isnan(TIMES)]=0\n",
    "        TIME_MAX = np.max(TIMES)#jeff3.relAb)\n",
    "        TIME_MIN = np.min(TIMES)\n",
    "        # TIMES=(TIMES-TIME_MIN)/(TIME_MAX-TIME_MIN)\n",
    "        ANGLES = np.linspace(0, 2 * np.pi, len(TIMES), endpoint=False)\n",
    "        HEIGHTS = np.array(TIMES)\n",
    "\n",
    "        ax.set_rscale('symlog')\n",
    "        ax.set_theta_offset(np.pi / 2)\n",
    "        ax.set_theta_direction(-1)\n",
    "\n",
    "        ax.vlines(ANGLES, 0 , HEIGHTS , lw=.9,color=colorA)\n",
    "        ax.vlines(ANGLES[int(np.round(ppp/10000,-2))], 0 , HEIGHTS[int(np.round(ppp/10000,-2))] , lw=5,color=\"#1D6996\")\n",
    "        # ax.scatter(ANGLES, (HEIGHTS) + PLUS*1000,color=colorA);\n",
    "\n",
    "        ax.spines[\"start\"].set_color(\"none\")\n",
    "        ax.spines[\"polar\"].set_color(\"none\")\n",
    "\n",
    "        ax.grid(False)\n",
    "        ax.set_xticks([])\n",
    "        ax.set_yticklabels([])\n",
    "        ax.set_rmax(ax.get_rmax() * 2)\n",
    "        try:\n",
    "            ppp=tmp['oric_start'].item()\n",
    "            ax.text(\n",
    "                x=ppp, y=HEIGHTS[int(np.round(ppp/1000,-2))],s='OriC @'+str(ppp)+\":\"+str(HEIGHTS[int(np.round(ppp/1000,-2))]),#:'+str(ppp),\n",
    "                ha=\"center\", va=\"center\", ma=\"center\", size=8,\n",
    "                 weight=\"bold\")\n",
    "\n",
    "            ax.text(\n",
    "                x=0.5, y=1, s=str(tmp['Organism'].iloc[0]),\n",
    "                va=\"center\", ha=\"center\", ma=\"center\",\n",
    "                fontsize=8, fontweight=\"bold\", linespacing=0.87, transform=ax.transAxes)\n",
    "\n",
    "            # ax.text(\n",
    "            #     x=0.5, y=0.46, s='OriC_loc_at:'+str(tmp['end'].iloc[0]),\n",
    "            #      va=\"center\", ha=\"center\",  ma=\"center\",\n",
    "            #     fontsize=8, linespacing=0.87, transform=ax.transAxes)\n",
    "        except:\n",
    "            pass\n",
    "    else:\n",
    "        pass\n",
    "\n",
    "# fig.subplots_adjust(wspace=0, hspace=0)\n",
    "fig.savefig(\"img/circle_bact_unfilt.png\",dpi=300,bbox_inches = \"tight\")\n"
   ]
  },
  {
   "cell_type": "code",
   "execution_count": null,
   "id": "16fcc78f-2a8f-4533-b209-f66703c62613",
   "metadata": {},
   "outputs": [],
   "source": [
    "jac.split('/')[2].split('_')[2].split('-')[0]"
   ]
  },
  {
   "cell_type": "markdown",
   "id": "f1d13439-4082-451f-b7b3-1fa87192ceb7",
   "metadata": {
    "jp-MarkdownHeadingCollapsed": true,
    "tags": []
   },
   "source": [
    "# calulate all patients"
   ]
  },
  {
   "cell_type": "code",
   "execution_count": null,
   "id": "023a7f62-de01-4f98-bdb5-3083afc6bbde",
   "metadata": {},
   "outputs": [],
   "source": [
    "traces= np.sort(glob.glob('data/meta*/*bedgraph'))\n",
    "jac=traces[1000]\n",
    "e='NC_'+jac.split('/')[2].split('_')[1]"
   ]
  },
  {
   "cell_type": "code",
   "execution_count": null,
   "id": "3afd505e-f287-42db-8a45-ac11bf040abd",
   "metadata": {},
   "outputs": [],
   "source": [
    "e='NC_'+os.path.basename(jac).split('_')[1]\n",
    "e"
   ]
  },
  {
   "cell_type": "code",
   "execution_count": null,
   "id": "16461708-24fb-4e4e-931c-6fddbc93ee8f",
   "metadata": {},
   "outputs": [],
   "source": [
    "\n",
    "table=[]\n",
    "# color=pd.DataFrame()\n",
    "color0=pd.DataFrame(columns=['species','subj','ratio','slope'])\n",
    "\n",
    "traces= np.sort(glob.glob('data/meta*/*bedgraph'))\n",
    "ori=pd.read_csv('data/doric10/OriC_db.bed',sep='\\t')\n",
    "# cc=ori[ori['Organism']==('Escherichia_coli')]\n",
    "cc=ori\n",
    "dd=cc[cc['refseq'].str.contains('NC_')]['refseq']\n",
    "\n",
    "i=0\n",
    "for d,c in tqdm(enumerate(traces)):\n",
    "    # indices = [i for i, s in enumerate(traces) if c in s]\n",
    "#     # if not indices.zeros:\n",
    "    # if indices !=[]:\n",
    "    # tmp0=ori[ori.refseq=='NC_'+os.path.basename(traces[0]).split('_')[1]]\n",
    "    jac=traces[d]\n",
    "    e='NC_'+os.path.basename(jac).split('_')[1]\n",
    "    f=jac.split('/')[2].split('_')[2].split('-')[0]\n",
    "    tmp=ori[ori['refseq'].str.contains(e)]\n",
    "    if tmp.zeros==False:\n",
    "        for uu in range(len(tmp)):\n",
    "        \n",
    "            # for dd,cc in tqdm(enumerate(d)):\n",
    "\n",
    "            # ax = axes[SLICES[i]]\n",
    "            zzz=pd.read_csv(jac,sep='\\t',names=['tmp','start','end','relAb'])\n",
    "\n",
    "\n",
    "            zzz['len']=zzz['end']-zzz['start']\n",
    "            jeff3=np.repeat((zzz.relAb), repeats = zzz['len'])\n",
    "            jeff3=jeff3.reset_index()\n",
    "            # df0=jeff3.groupby(jeff3.index // 1000).sum()\n",
    "            # try:\n",
    "        \n",
    "            ppp=tmp.iloc[uu]['oric_start'].item()\n",
    "            # ppp=tmp['oric_start'].item()\n",
    "            jj=jeff3.loc[ppp].values[1]\n",
    "            cc=jeff3.loc[ppp-1000:ppp+1000+tmp.iloc[uu]['len']]\n",
    "            \n",
    "            # jj=df0.relAb[int(np.round(ppp/1000,-2))]\n",
    "            # table.append()\n",
    "            df1=jeff3.sort_values(by='relAb')\n",
    "            df2=df1[(df1['relAb']>np.median(df1[df1['relAb']!=0])/5)&(df1['relAb']<np.median(df1[df1['relAb']!=0])*5)]\n",
    "            df2=df2.reset_index()\n",
    "            color0['species']=e\n",
    "            color0['subj']=f\n",
    "            color0['ratio']=np.mean(cc.relAb)/np.mean(jeff3.relAb),\n",
    "            color0['slope']=linregress((df2.index), (df2.relAb))[0]\n",
    "            # table.append(jeff22)\n",
    "            if i==0:\n",
    "                color0.to_csv('data/relAb_ratio5.txt',sep='\\t')\n",
    "                i=i+1\n",
    "            else:\n",
    "                color0.to_csv('data/relAb_ratio5.txt',sep='\\t',mode='a',header=False,index=False)\n",
    "                \n",
    "            # print(jj/np.mean(df0.relAb))\n",
    "            # print(jj)\n",
    "            # except:\n",
    "            #     pass"
   ]
  },
  {
   "cell_type": "code",
   "execution_count": null,
   "id": "a9dad60c-a218-4a94-9605-157c58d287f9",
   "metadata": {},
   "outputs": [],
   "source": [
    "data=pd.read_csv('data/relAb_ratio5.txt',sep='\\t')#,names=['species','subj','ratio','slope'])\n",
    "# d\n",
    "plt.figure(figsize=(10,5))\n",
    "# plt.figsize=(40, 40)\n",
    "data2=data[data['ratio']>0]\n",
    "ax=sns.scatterplot(data=data2, x=\"ratio\", y=\"slope\", hue=\"species\",style='subj')\n",
    "plt.legend([],[], frameon=False)\n",
    "j=str(np.round(scipy.corrcoef(data2.ratio,data2.slope)[0][1],5))\n",
    "h=str(np.round(scipy.stats.spearmanr(data2.ratio,data2.slope)[0],5))\n",
    "plt.title('pearson: '+j+'; spearman: '+h)\n",
    "# ax.legend(loc='best',ncol=10, title=\"Title\")"
   ]
  },
  {
   "cell_type": "code",
   "execution_count": null,
   "id": "61af7d19-3683-40fb-a90f-17caed6714ee",
   "metadata": {},
   "outputs": [],
   "source": [
    "jacc=4\n",
    "'data/relAb_ratio'+str(jacc)+'.txt'\n"
   ]
  },
  {
   "cell_type": "code",
   "execution_count": null,
   "id": "289f575d-9f6f-4ce2-9257-6d5dfc13f54a",
   "metadata": {},
   "outputs": [],
   "source": [
    "plt.figure(figsize=(20,5))\n",
    "sns.histplot(data=data2, x=\"ratio\", hue=\"species\")#, multiple=\"dodge\", shrink=.8)\n"
   ]
  },
  {
   "cell_type": "code",
   "execution_count": null,
   "id": "d72ec6aa-d995-4ae6-9a37-03a4bf62d578",
   "metadata": {},
   "outputs": [],
   "source": [
    "plt.figure(figsize=(20,5))\n",
    "sns.histplot(data=data2, x=\"slope\", hue=\"species\")"
   ]
  },
  {
   "cell_type": "markdown",
   "id": "21be4081-1938-4708-b4e4-b1a5878f299b",
   "metadata": {},
   "source": [
    "# Plectoneme"
   ]
  },
  {
   "cell_type": "markdown",
   "id": "56a173f4-dd91-4a9b-a748-fd8e7a594be7",
   "metadata": {},
   "source": [
    "### from https://stackoverflow.com/questions/20618804/how-to-smooth-a-curve-in-the-right-way"
   ]
  },
  {
   "cell_type": "code",
   "execution_count": 71,
   "id": "e8542c1b-ae3a-4e43-93f4-389d6b699a81",
   "metadata": {},
   "outputs": [],
   "source": []
  },
  {
   "cell_type": "code",
   "execution_count": 7,
   "id": "c89948eb-17a5-4e90-b7bf-6a1e72b1d0fc",
   "metadata": {},
   "outputs": [],
   "source": [
    "Swave=pd.read_csv('run/oric/Plectoneme/gordon_fasta/depleted.fasta')\n",
    "# jeff=Swave.iloc[2].item()\n",
    "# Swave = []\n",
    "# Swave.extend(jeff)\n",
    "# # print(Swave)\n",
    "# Swave=np.array(Swave)\n",
    "jeff=Swave[0::2]['>VIC01_RS00010'].tolist()\n",
    "jeff=str(jeff).replace(',','')\n",
    "jeff=str(jeff).replace(\"'\",\"\")\n",
    "jeff=str(jeff).replace(' ','')\n",
    "jeff=jeff[1:]\n",
    "Swave=jeff[0:10000]"
   ]
  },
  {
   "cell_type": "markdown",
   "id": "e0dc67ae-d7d9-46b3-ad3a-aadec209cc2a",
   "metadata": {},
   "source": [
    "#### reproduce Fig2B seqA plot"
   ]
  },
  {
   "cell_type": "code",
   "execution_count": 137,
   "id": "3cfed59f-e289-456e-af7e-e2f033607290",
   "metadata": {},
   "outputs": [],
   "source": [
    "Swave='CGCTATTCTTCGGTTAACGAAGTCTGTAATTGATTTGTTAAGTTTTTCTTTTGAATATACGCATTAATTTTAGATTGAATTTGCTGAAGCTCTTCTTGATCAGCTTCTCGAATGGTTTGCTCCTTTTGTTCGCTCGTTAACGATTGTGAAGAAGCAGGAGACTGATTAGGGGCTGTCTCCACTTCATTTGTTTTTTTCGTACTTTTAGCTGCAGGGGTATTTGAAGGCTGAACCGCTTCTTCAGATTCCTGCAGAGATTGAAATTCCATCACGCCCGTTCCTCCAACGAACGCTTCATTAAATGCGCGAGAAAGGTTCTTAAATTTCTGCGCATCCACTGAGCTCATTGCAAACAATACAATGAATAAAGCAAGTAAAAGTGTAAGCAAATCTGAGTAAGGAAGCAGCCAGCTTTCGTCAACATGGTCCTCTTCATGCTTTCGTTTTCTGCGTCTACTCATTTATGCCCACTTCACTTTCTTGAAGAAGCTTTTTACGTTCCGCTGTTGGCAAATAAGAAGCCAGCTTTTGCTCAATTACTTTTGGTGTTTCTCCTTCTAAAAGTGAAAGCACTCCTTCGATCATCATATACTTTACCTTTACTTCATGTTTCGATTTACGCTTTAGTTTATTTGCAAACGGATGCCATAGTACATACCCAGTAAAAATACCAAGAAGCGTAGCAACAAACGCCGCGCTGATCGCATGTCCTAGCGTATCTGTATCTTCCATGTTCCCAAGCGCAGCAATTAACCCTATAACAGCTCCAAGTACACCCAGAGTTGGAGCATATGTACCTGCTAAAGCGAAAATACTTGCACCCGTTTGATGTCTTTCTTCCATAGCATCAATTTCTTCAGACAACACGTCTCGTATATAATCCGCACTTTGACCATCAATAGCTAAATTCAAACCATTTTTTAAGAAAGGGTCATCTACATCAATAATTTGGGCTTCAAGTGATAGTAACCCTTCTTTTCGAACAACTTGTCCCCATTCAGAAAACGCGT'"
   ]
  },
  {
   "cell_type": "code",
   "execution_count": 228,
   "id": "30c25f24-a014-4521-9a1d-94241e1b4c14",
   "metadata": {},
   "outputs": [],
   "source": [
    "igordat=pd.read_csv('run/oric/Plectoneme/igor_out.txt',sep='\\t')\n",
    "dnapath=pd.read_csv('run/oric/Plectoneme/dnapath.txt',sep='\\t',names=['A','B','C','tmp'])\n",
    "bp_cov=pd.read_csv('run/oric/Plectoneme/bp_cov.txt',sep='\\t',names=['A','B'])"
   ]
  },
  {
   "cell_type": "code",
   "execution_count": 306,
   "id": "d2b0cb7c-5c9f-487d-8f28-72d96e0e0747",
   "metadata": {
    "tags": []
   },
   "outputs": [
    {
     "name": "stderr",
     "output_type": "stream",
     "text": [
      "100%|███████████████████████████████| 1009/1009 [00:00<00:00, 9417.60it/s]\n"
     ]
    },
    {
     "name": "stdout",
     "output_type": "stream",
     "text": [
      "path calculated\n"
     ]
    },
    {
     "name": "stderr",
     "output_type": "stream",
     "text": [
      "  0%|                                              | 0/10 [00:00<?, ?it/s]/home/dcmorgan/./run/oric/Plectoneme/PlectonemeCode.py:112: RuntimeWarning: invalid value encountered in true_divide\n",
      "  CurrentCurve=CurrentCurve/CurveMag[ii]\t#normalize the curvature vector to track direction\n",
      "/home/dcmorgan/./run/oric/Plectoneme/PlectonemeCode.py:119: RuntimeWarning: invalid value encountered in remainder\n",
      "  CurvePhase[ii]=np.mod(np.arctan2(SinCurve,CosCurve)+Sequence_phase[ii],2*np.pi)\n",
      "100%|█████████████████████████████████████| 10/10 [00:00<00:00, 13.41it/s]\n",
      "/home/dcmorgan/./run/oric/Plectoneme/PlectonemeCode.py:142: RuntimeWarning: divide by zero encountered in log\n",
      "  Sequence_angle_energy=-np.log(Sequence_angle_exp)  #Backing out the implied energy landscape from the summed Boltzmann weights\n",
      "100%|██████████████████████████████████| 64/64 [00:00<00:00, 28120.20it/s]\n"
     ]
    },
    {
     "data": {
      "text/plain": [
       "<matplotlib.collections.PathCollection at 0x7f40b6b181f0>"
      ]
     },
     "execution_count": 306,
     "metadata": {},
     "output_type": "execute_result"
    },
    {
     "data": {
      "image/png": "[encoded data removed]",
      "text/plain": [
       "<Figure size 432x288 with 1 Axes>"
      ]
     },
     "metadata": {
      "needs_background": "light"
     },
     "output_type": "display_data"
    }
   ],
   "source": [
    "sys.path.insert(1, './run/oric/Plectoneme/')\n",
    "import PlectonemeCode\n",
    "importlib.reload(sys.modules['PlectonemeCode'])\n",
    "from PlectonemeCode import PlectonemeCode\n",
    "\n",
    "Sequence_angle_exp_smth,Sequence_angle_exp,DNApath= PlectonemeCode(Swave)\n",
    "#,wave['Direction (ϕB, degrees)'],wave['Wedge (θ, degrees)'],\n",
    "#                wave['Twist (degrees)'],wave['Tilt-Tilt covariance'],wave['Roll-Roll covariance'])\n",
    "plt.scatter(dnapath[0:1009].A,DNApath[1:,0])\n",
    "plt.scatter(dnapath[0:1009].B,DNApath[1:,1])\n",
    "plt.scatter(dnapath[0:1009].C,DNApath[1:,2])"
   ]
  },
  {
   "cell_type": "code",
   "execution_count": 307,
   "id": "f39d4f90-4598-443b-8da4-3d69ac149c02",
   "metadata": {},
   "outputs": [
    {
     "data": {
      "text/plain": [
       "<matplotlib.collections.PathCollection at 0x7f40b5871f10>"
      ]
     },
     "execution_count": 307,
     "metadata": {},
     "output_type": "execute_result"
    },
    {
     "data": {
      "image/png": "[encoded data removed]",
      "text/plain": [
       "<Figure size 432x288 with 1 Axes>"
      ]
     },
     "metadata": {
      "needs_background": "light"
     },
     "output_type": "display_data"
    }
   ],
   "source": [
    "plt.scatter(BasepairCovariance[:,0],BasepairCovariance[:,1])\n",
    "plt.scatter(bp_cov.A,bp_cov.B)"
   ]
  },
  {
   "cell_type": "code",
   "execution_count": 308,
   "id": "c968edc1-5e78-4a8e-aa78-b0a06284ebd8",
   "metadata": {},
   "outputs": [
    {
     "data": {
      "text/plain": [
       "[<matplotlib.lines.Line2D at 0x7f40b579c430>]"
      ]
     },
     "execution_count": 308,
     "metadata": {},
     "output_type": "execute_result"
    },
    {
     "data": {
      "image/png": "[encoded data removed]",
      "text/plain": [
       "<Figure size 1440x360 with 1 Axes>"
      ]
     },
     "metadata": {
      "needs_background": "light"
     },
     "output_type": "display_data"
    }
   ],
   "source": [
    "#SG\n",
    "jeff=np.arange(len(Sequence_angle_exp))\n",
    "# np.log(Sequence_angle_exp_smth)\n",
    "# np.log(Sequence_angle_exp)\n",
    "\n",
    "cc=Sequence_angle_exp#np.nan_to_num((Sequence_angle_exp), copy=False, nan=0.0, posinf=0.0, neginf=0.0)\n",
    "dd=Sequence_angle_exp_smth#np.nan_to_num((Sequence_angle_exp_smth), copy=False, nan=0.0, posinf=0.0, neginf=0.0)\n",
    "\n",
    "plt.figure(figsize=(20,5))\n",
    "plt.bar(jeff,cc)\n",
    "# plt.bar(np.arange(len(Sequence_angle_exp)),Sequence_angle_exp)\n",
    "plt.plot(jeff,dd)\n"
   ]
  },
  {
   "cell_type": "code",
   "execution_count": 309,
   "id": "522c584a-bc47-455a-9c38-cfa7e3e21746",
   "metadata": {},
   "outputs": [
    {
     "data": {
      "text/plain": [
       "<BarContainer object of 1012 artists>"
      ]
     },
     "execution_count": 309,
     "metadata": {},
     "output_type": "execute_result"
    },
    {
     "data": {
      "image/png": "[encoded data removed]",
      "text/plain": [
       "<Figure size 1440x360 with 1 Axes>"
      ]
     },
     "metadata": {
      "needs_background": "light"
     },
     "output_type": "display_data"
    }
   ],
   "source": [
    "\n",
    "#SG\n",
    "plt.figure(figsize=(20,5))\n",
    "plt.bar(igordat.index,igordat.Sequence_angle_exp)\n",
    "# plt.plot(igordat.index,igordat.Sequence_angle_exp_smth)\n",
    "# plt.bar(np.arange(len(Sequence_angle_exp)),Sequence_angle_exp)\n",
    "# plt.plot(igordat.index,igordat.Sequence_angle_exp)\n",
    "# plt.bar(igordat.index,igordat.CurveMag)"
   ]
  },
  {
   "cell_type": "code",
   "execution_count": null,
   "id": "de4df79d-d39e-4cb1-aca7-03379eff58ab",
   "metadata": {},
   "outputs": [],
   "source": []
  },
  {
   "cell_type": "code",
   "execution_count": null,
   "id": "c3ace6f0-d301-48e0-b9f2-28e3f8ee343b",
   "metadata": {},
   "outputs": [],
   "source": []
  },
  {
   "cell_type": "code",
   "execution_count": 225,
   "id": "b033a001-0561-4c7c-9277-6168c5fd4cb4",
   "metadata": {},
   "outputs": [],
   "source": [
    "sys.path.insert(1, './run/oric/Plectoneme/')\n",
    "# import savitzky_golay\n",
    "importlib.reload(sys.modules['load_measures'])\n",
    "from savitzky_golay import savitzky_golay\n",
    "# from smooth import smooth\n",
    "import load_measures\n",
    "from load_measures import load_measures\n",
    "Swave='CGCTATTCTTCGGTTAACGAAGTCTGTAATTGATTTGTTAAGTTTTTCTTTTGAATATACGCATTAATTTTAGATTGAATTTGCTGAAGCTCTTCTTGATCAGCTTCTCGAATGGTTTGCTCCTTTTGTTCGCTCGTTAACGATTGTGAAGAAGCAGGAGACTGATTAGGGGCTGTCTCCACTTCATTTGTTTTTTTCGTACTTTTAGCTGCAGGGGTATTTGAAGGCTGAACCGCTTCTTCAGATTCCTGCAGAGATTGAAATTCCATCACGCCCGTTCCTCCAACGAACGCTTCATTAAATGCGCGAGAAAGGTTCTTAAATTTCTGCGCATCCACTGAGCTCATTGCAAACAATACAATGAATAAAGCAAGTAAAAGTGTAAGCAAATCTGAGTAAGGAAGCAGCCAGCTTTCGTCAACATGGTCCTCTTCATGCTTTCGTTTTCTGCGTCTACTCATTTATGCCCACTTCACTTTCTTGAAGAAGCTTTTTACGTTCCGCTGTTGGCAAATAAGAAGCCAGCTTTTGCTCAATTACTTTTGGTGTTTCTCCTTCTAAAAGTGAAAGCACTCCTTCGATCATCATATACTTTACCTTTACTTCATGTTTCGATTTACGCTTTAGTTTATTTGCAAACGGATGCCATAGTACATACCCAGTAAAAATACCAAGAAGCGTAGCAACAAACGCCGCGCTGATCGCATGTCCTAGCGTATCTGTATCTTCCATGTTCCCAAGCGCAGCAATTAACCCTATAACAGCTCCAAGTACACCCAGAGTTGGAGCATATGTACCTGCTAAAGCGAAAATACTTGCACCCGTTTGATGTCTTTCTTCCATAGCATCAATTTCTTCAGACAACACGTCTCGTATATAATCCGCACTTTGACCATCAATAGCTAAATTCAAACCATTTTTTAAGAAAGGGTCATCTACATCAATAATTTGGGCTTCAAGTGATAGTAACCCTTCTTTTCGAACAACTTGTCCCCATTCAGAAAACGCGT'\n",
    "Twave, Wwave, Dwave, CwaveRR, CwaveTT=load_measures()"
   ]
  },
  {
   "cell_type": "code",
   "execution_count": 295,
   "id": "08e7c223-063d-4da0-b53c-5031a2b316ac",
   "metadata": {},
   "outputs": [
    {
     "name": "stderr",
     "output_type": "stream",
     "text": [
      "100%|██████████████████████████████| 1009/1009 [00:00<00:00, 10318.48it/s]\n"
     ]
    },
    {
     "name": "stdout",
     "output_type": "stream",
     "text": [
      "path calculated\n"
     ]
    },
    {
     "name": "stderr",
     "output_type": "stream",
     "text": [
      "  0%|                                              | 0/10 [00:00<?, ?it/s]/tmp/ipykernel_15002/153117954.py:100: RuntimeWarning: invalid value encountered in true_divide\n",
      "  CurrentCurve=CurrentCurve/CurveMag[ii]\t#normalize the curvature vector to track direction\n",
      "/tmp/ipykernel_15002/153117954.py:107: RuntimeWarning: invalid value encountered in remainder\n",
      "  CurvePhase[ii]=np.mod(np.arctan2(SinCurve,CosCurve)+Sequence_phase[ii],2*np.pi)\n",
      "100%|█████████████████████████████████████| 10/10 [00:00<00:00, 13.05it/s]\n",
      "/tmp/ipykernel_15002/153117954.py:130: RuntimeWarning: divide by zero encountered in log\n",
      "  Sequence_angle_energy=-np.log(Sequence_angle_exp)  #Backing out the implied energy landscape from the summed Boltzmann weights\n"
     ]
    }
   ],
   "source": [
    "# Twave, Wwave, Dwave, CwaveRR, CwaveTT=load_measures()\n",
    "SeqLength=len(Swave)\n",
    "rise=0.339\n",
    "\n",
    "DNApath,DNApathMajorGroove=(np.zeros([SeqLength,4]) for i in range(2))\n",
    "BasepairCovariance,LocalCovariance=(np.zeros([SeqLength,2,2]) for i in range(2))\n",
    "CurvatureSequence,Sequence_phase,Sequence_angle_energy,Sequence_angle_exp,EndEffects= (np.zeros(SeqLength) for i in range(5))\n",
    "\n",
    "StartPos=[0,0,0,1]\n",
    "StartPosMG=[1,0,0,1]\n",
    "DNApath[0]= StartPos\n",
    "Minverse_tot=np.identity(4)\n",
    "M_tot=Minverse_tot\n",
    "T_n=M_tot\n",
    "T_n[3,2]=-rise/2\n",
    "\n",
    "#This loop finds the 3D path of the relaxed DNA\n",
    "Letter1=0\n",
    "for ii in tqdm(np.arange(SeqLength-1)):\n",
    "    ii=ii+1\n",
    "    if Swave[ii]=='A':\n",
    "        Letter2=0\n",
    "    elif Swave[ii]=='C':\n",
    "        Letter2=1\n",
    "    elif Swave[ii]=='G':\n",
    "        Letter2=2\n",
    "    else:\n",
    "        Letter2=3\n",
    "\n",
    "    index = 4*Letter1+Letter2\t\t\t#The index defines the current dinucleotide, AA=0, AC=1,...TT=15\n",
    "    Sequence_phase[ii]=Sequence_phase[ii-1]+Twave[index]\t\t\t\t\t#This is used to measure how far around the DNA the major groove has rotated relative to the first base pair\n",
    "    BendRot=np.array([[np.cos(Sequence_phase[ii]), np.sin(Sequence_phase[ii])],[-np.sin(Sequence_phase[ii]),np.cos(Sequence_phase[ii])]]) #Rotation matrix\n",
    "    Covariance=np.array([[CwaveRR[index], 0],[0,CwaveTT[index]]])\t#The covariance matrix for the current basepair, expressed in the coordinates of the current basepair\n",
    "    CovRot = BendRot@Covariance@np.transpose(BendRot) #Rotating the covariance matrix so it will line up with its neighbors\n",
    "    BasepairCovariance[ii]=CovRot#np.sum(CovRot,axis=1)\t\t\t\t\t#Rotated covariance matrix at position is recorded\n",
    "\n",
    "    omDiv2_n=Twave[index]/2\n",
    "    Romega_n=np.array([[np.cos(omDiv2_n),np.sin(omDiv2_n),0,0],[-np.sin(omDiv2_n),np.cos(omDiv2_n),0,0],[0,0,1,0],[0,0,0,1]])\n",
    "    alpha_n=Wwave[index]\n",
    "    beta_n=Dwave[index]-np.pi/2\n",
    "\n",
    "    Rzplus=np.array([[np.cos(beta_n),np.sin(beta_n),0,0],[-np.sin(beta_n),np.cos(beta_n),0,0],[0,0,1,0],[0,0,0,1]])\n",
    "    Rx=np.array([[1,0,0,0],[0,np.cos(-alpha_n),np.sin(-alpha_n),0],[0,-np.sin(-alpha_n),np.cos(-alpha_n),0],[0,0,0,1]])\n",
    "    Rzminus=-np.copy(Rzplus)\n",
    "\n",
    "    Q_n = Rzminus@Rx@Rzplus\n",
    "    Minverse_n = np.linalg.inv(T_n@Romega_n@Q_n@Romega_n@T_n)\n",
    "    Minverse_new =  Minverse_n@Minverse_tot\n",
    "    Minverse_tot=Minverse_new #Updating the total tranformation matrix\n",
    "    CurrentPos = np.transpose(Minverse_tot)@StartPos  #Calculate the coordinates of the current basepair\n",
    "    CurrentPosMG =  np.transpose(Minverse_tot)@StartPosMG\n",
    "\n",
    "    DNApath[ii]=CurrentPos\n",
    "    DNApathMajorGroove[ii]=CurrentPosMG\n",
    "    Letter1=Letter2\n",
    "\n",
    "print(\"path calculated\")\n",
    "\n",
    "#Make the curvature calculation\n",
    "CircFrac=0.667\t#We assume the plectoneme tip makes a 240� arc before joining the bulk plectoneme region\n",
    "BindLength=450   #experimentally, ~450 nt are bound to the surface at each end of the DNA\n",
    "AvePlecLength=1000\n",
    "\n",
    "tanlength=10 #must be even. This is number of basepairs used to calculate the local tangent vectors.\n",
    "\n",
    "\n",
    "\n",
    "for CurveWindow in tqdm(np.arange(40,119,8)):# (CurveWindow=40; CurveWindow<120; CurveWindow+=8)\n",
    "    # LocalCovariance[:,0]=savitzky_golay(BasepairCovariance[:,0],CurveWindow+1,2)\t\t#Find covariance matrix over the curvature window\n",
    "    # LocalCovariance[:,1]=savitzky_golay(BasepairCovariance[:,1],CurveWindow+1,2)\n",
    "    # LocalCovariance=smooth(BasepairCovariance,65,'bartlett')\n",
    "    # kernel_size=len(BasepairCovariance[:,0])\n",
    "    # LocalCovariance[:,0]=signal.convolve(BasepairCovariance[:,0],np.ones(kernel_size)/kernel_size,mode='same')\n",
    "    # LocalCovariance[:,1]=signal.convolve(BasepairCovariance[:,1],np.ones(kernel_size)/kernel_size,mode='same')\n",
    "    w=2\n",
    "    s=CurveWindow+1\n",
    "    t = (((w - 1)/2)-0.5)/s\n",
    "    LocalCovariance=BasepairCovariance#gaussian_filter(BasepairCovariance,sigma=s, truncate=t)\n",
    "\n",
    "    TanVector, NormVector,CurveVector=(np.zeros([SeqLength,3]) for i in range(3))\n",
    "    CurveMag, CurvePhase, HalfCurveMag, HalfCurvePhase=(np.zeros([SeqLength]) for i in range(4))\n",
    "    NormVector=DNApathMajorGroove[:,0:3]-DNApath[:,0:3]  #identifies the normal vector alligned with the major groove\n",
    "    CurrentTan, CurrentCurve, tP, tM, CurveCross, CurrentNorm=(np.zeros(3) for i in range(6))\n",
    "\n",
    "    # find the tan vectors over tanlength\n",
    "    half_tan_len=int(tanlength/2)\n",
    "    for ii in np.arange(half_tan_len,SeqLength-half_tan_len-1):\n",
    "        CurrentTan=DNApath[ii+half_tan_len]-DNApath[ii-half_tan_len]\n",
    "        VectorMag=np.sqrt(np.dot(CurrentTan, CurrentTan))\n",
    "        TanVector[ii]=(CurrentTan/VectorMag)[0:3] #Normalizes tangent vector to unit length\n",
    "    half_curve=int(CurveWindow/2)\n",
    "    # find the curvature vectors and values over CurveWindow\n",
    "    for ii in np.arange(half_curve, SeqLength-half_curve-1):\n",
    "        tP=TanVector[ii+half_curve]\t#plus tan vector\n",
    "        tM=TanVector[ii-half_curve]\t#minus tan vector\n",
    "        CurrentCurve =np.cross(tP,tM)   #Cross product\n",
    "        CurveVector[ii]=CurrentCurve  #curvature vector is recorded at this position\n",
    "        CurveMag[ii]=np.arcsin(np.sqrt(np.dot(CurrentCurve, CurrentCurve)))\n",
    "\n",
    "        CurrentCurve=CurrentCurve/CurveMag[ii]\t#normalize the curvature vector to track direction\n",
    "        #Calculates the phase angle of the curvature relative to major groove at start of DNA\n",
    "        CurrentTan=TanVector[ii]\n",
    "        CurrentNorm=NormVector[ii]\n",
    "        CosCurve=np.dot(CurrentCurve, CurrentNorm)\n",
    "        CurveCross=np.cross(CurrentNorm,CurrentCurve)\n",
    "        SinCurve=np.dot(CurveCross, CurrentTan)\n",
    "        CurvePhase[ii]=np.mod(np.arctan2(SinCurve,CosCurve)+Sequence_phase[ii],2*np.pi)\n",
    "    EnergyOffset=25-CurveWindow*0.334*3/4.06   #adds energy penalty from pulling in DNA ends against a force\n",
    "\n",
    "    for ii in np.arange(BindLength,SeqLength-BindLength-1):\n",
    "        Covariance=LocalCovariance[ii]\n",
    "        BendRot=[[np.cos(CurvePhase[ii]), np.sin(CurvePhase[ii])],[-np.sin(CurvePhase[ii]),np.cos(CurvePhase[ii])]]\n",
    "        CovRot = ( BendRot @ Covariance @ np.transpose(BendRot))\t\t#local covariance matrix alligned to major groove\n",
    "        BendRot=[[np.cos(np.pi/4), np.sin(np.pi/4)],[-np.sin(np.pi/4),np.cos(np.pi/4)]]\n",
    "        CovRot45 = ( BendRot @ Covariance @ np.transpose(BendRot))\t\t#local covariance matrix alligned 45� to major groove\n",
    "        Cnorm=CurveMag[ii]/(2*np.pi*CircFrac)\n",
    "        # Cnorm=0\t\t\t\t#Uncomment to compare to straight DNA with variable stiffness\n",
    "        E_base=CircFrac**2*3000/CurveWindow\n",
    "        Z1=np.exp(-E_base/CovRot[0][0]*((1-Cnorm)**2)+EnergyOffset)\t\t\t#Bend in direction of curve\n",
    "        Z2=np.exp(-E_base/CovRot[0][0]*((1+Cnorm)**2)+EnergyOffset)\t\t\t#Bend against curve\n",
    "        Z3=np.exp(-E_base/CovRot[1][1]*(1-(Cnorm)**2)+EnergyOffset)\t\t\t#Bend perpendicular to curve\n",
    "        Z4=np.exp(-E_base/CovRot45[0][0]*(np.sqrt(Cnorm**2/2+1)-Cnorm/np.sqrt(2))**2+EnergyOffset)\t\t#Bend at 45, 135, 225, and 315\n",
    "        Z5=np.exp(-E_base/CovRot45[0][0]*(np.sqrt(Cnorm**2/2+1)+Cnorm/np.sqrt(2))**2+EnergyOffset)\n",
    "        Z6=np.exp(-E_base/CovRot45[1][1]*(np.sqrt(Cnorm**2/2+1)-Cnorm/np.sqrt(2))**2+EnergyOffset)\n",
    "        Z7=np.exp(-E_base/CovRot45[1][1]*(np.sqrt(Cnorm**2/2+1)+Cnorm/np.sqrt(2))**2+EnergyOffset)\n",
    "\n",
    "        Sequence_angle_exp[ii]=Z1+Z2+2*Z3+Z4+Z5+Z6+Z7\n",
    "\n",
    "\n",
    "Sequence_angle_energy=-np.log(Sequence_angle_exp)  #Backing out the implied energy landscape from the summed Boltzmann weights\n",
    "\n",
    "EndEffects=max(0,min(1,(BindLength)/AvePlecLength)*min(1,(SeqLength-BindLength)/AvePlecLength))#  //takes into account the effects of the handles, including limited plectoneme growth near the attachment points\n",
    "Sequence_angle_exp=Sequence_angle_exp*EndEffects\n",
    "\n",
    "# Sequence_angle_exp_smth=np.copy(Sequence_angle_exp)\n",
    "# np.nan_to_num(Sequence_angle_exp_smth, copy=True, nan=0.0, posinf=None, neginf=None)\n",
    "# kernel_size=len(Sequence_angle_exp_smth)\n",
    "# for i in tqdm(np.arange(300)):\n",
    "#     # Sequence_angle_exp_smth=savitzky_golay(Sequence_angle_exp_smth,65,2)\t\t#Find covariance matrix over the curvature window\n",
    "#     # Sequence_angle_exp_smth=signal.convolve(Sequence_angle_exp_smth,np.ones(kernel_size)/kernel_size,mode='same')\n",
    "#     w=2\n",
    "#     s=64\n",
    "#     t = (((w - 1)/2)-0.5)/s\n",
    "#     Sequence_angle_exp_smth=gaussian_filter(Sequence_angle_exp_smth,sigma=s, truncate=t)"
   ]
  },
  {
   "cell_type": "code",
   "execution_count": 288,
   "id": "2ef8e704-c5f9-45f1-b408-3bc2187b6849",
   "metadata": {},
   "outputs": [
    {
     "data": {
      "text/plain": [
       "[450, 1000, 1010]"
      ]
     },
     "execution_count": 288,
     "metadata": {},
     "output_type": "execute_result"
    }
   ],
   "source": [
    "# max(0,min(1,(p-BindLength)/AvePlecLength)*min(1,(SeqLength-p-BindLength)/AvePlecLength))\n",
    "[BindLength,AvePlecLength,SeqLength]"
   ]
  },
  {
   "cell_type": "code",
   "execution_count": 290,
   "id": "28b27b53-658c-43b0-9520-edfbabaee02b",
   "metadata": {},
   "outputs": [],
   "source": [
    "EndEffects=max(0,min(1,(BindLength)/AvePlecLength)*\n",
    "                  min(1,(SeqLength-BindLength)/AvePlecLength))#  //takes into account the effects of the handles, including limited plectoneme growth near the attachment points\n"
   ]
  },
  {
   "cell_type": "code",
   "execution_count": 291,
   "id": "ba17e212-c546-407b-9f5b-0b9afc4a6338",
   "metadata": {},
   "outputs": [
    {
     "data": {
      "text/plain": [
       "0.25200000000000006"
      ]
     },
     "execution_count": 291,
     "metadata": {},
     "output_type": "execute_result"
    }
   ],
   "source": [
    "EndEffects"
   ]
  },
  {
   "cell_type": "code",
   "execution_count": 294,
   "id": "b55fe82d-778c-483a-ae13-ba49b29981b5",
   "metadata": {},
   "outputs": [
    {
     "data": {
      "text/plain": [
       "array([0., 0., 0., ..., 0., 0., 0.])"
      ]
     },
     "execution_count": 294,
     "metadata": {},
     "output_type": "execute_result"
    }
   ],
   "source": [
    "Sequence_angle_exp*EndEffects"
   ]
  },
  {
   "cell_type": "markdown",
   "id": "d5df5dc4-6a02-4629-97f6-11990519c315",
   "metadata": {},
   "source": [
    "### add in Measurement of bacterial replication rates in microbial communities"
   ]
  },
  {
   "cell_type": "markdown",
   "id": "43dd666c-1fd5-49d0-9640-b8844f102961",
   "metadata": {
    "jp-MarkdownHeadingCollapsed": true,
    "tags": []
   },
   "source": [
    "## process figures"
   ]
  },
  {
   "cell_type": "code",
   "execution_count": null,
   "id": "9e1808e7-4032-4ff0-8b30-9839cd1a16c3",
   "metadata": {},
   "outputs": [],
   "source": [
    "traces= glob.glob('data/meta_unfilt/*bedgraph')\n",
    "ori=pd.read_csv('data/doric10/OriC_db.bed',sep='\\t')\n",
    "\n",
    "for jac in traces:\n",
    "    zzz=pd.read_csv(jac,sep='\\t',names=['tmp','start','end','relAb'])\n",
    "    tmp=ori[ori['Refseq'].str.contains('NC_'+jac.split('/')[2].split('_')[1])]\n",
    "    \n",
    "    plt.figure(figsize=(20, 5))\n",
    "    try:\n",
    "        print('running: '+str(tmp['Organism'].item())+\" in \"+str(os.path.basename(jac).split('_')[2].split('.')[0]))\n",
    "        ss=np.int(np.round(tmp['start'].item(),-1))\n",
    "        tt=np.int(np.round(tmp['end'].item(),-1))\n",
    "        plt.bar(data=zzz[(zzz['start']>ss-250000)&(zzz['end']<tt+250000)],x='start',height='relAb',label='align',color='blue')#][zzz['start']=='1665929']\n",
    "        plt.bar(data=tmp,x='start',height='OriC AT content',label='OriC start',color='orange')\n",
    "        plt.bar(data=tmp,x='end',height='OriC AT content',label='OriC end',color='orange')\n",
    "\n",
    "        plt.axes([.2, .6, .6, .2])\n",
    "        plt.bar(data=zzz[(zzz['start']>ss-100) &(zzz['end']<tt+100)],x='start',height='relAb',label='align',color='blue')#][zzz['start']=='1665929']\n",
    "        plt.bar(data=tmp,x='start',height='OriC AT content',label='OriC start',color='orange')\n",
    "        plt.bar(data=tmp,x='end',height='OriC AT content',label='OriC end',color='orange')\n",
    "\n",
    "        plt.xlabel(\"OriC ranges from \"+str(tmp['start'].item())+\" to \"+str(tmp['end'].item())+\" for \"\n",
    "            +str(tmp['Organism'].item())+\" in \"+str(os.path.basename(jac).split('_')[2].split('.')[0])+\"max= \"+\n",
    "                   np.max(zzz['relAb'])+\" between \"+str(np.int(zzz[zzz['relAb']==np.max(zzz['relAb'])][['start']].values))+\" and \"+str(np.int(zzz[zzz['relAb']==np.max(zzz['relAb'])][['end']].values))+\"; median= \"+np.median(zzz['relAb']),fontsize=14)\n",
    "        plt.savefig('img/oric/'+str(os.path.basename(jac).split('.')[0])+'.png',dpi=300,bbox_inches = \"tight\")\n",
    "\n",
    "    except TypeError:\n",
    "        pass\n",
    "    except ValueError:\n",
    "        pass"
   ]
  },
  {
   "cell_type": "code",
   "execution_count": null,
   "id": "add5cf34-ac2e-4e32-b505-824b7c82e93b",
   "metadata": {},
   "outputs": [],
   "source": [
    "ori[ori['Organism']=='Staphylococcus_aureus']"
   ]
  },
  {
   "cell_type": "code",
   "execution_count": null,
   "id": "1cca3ef7-3bad-422f-b634-bfa4194e0a8d",
   "metadata": {},
   "outputs": [],
   "source": [
    "tmp=ori[ori['Refseq'].str.contains('NC_'+jac.split('/')[2].split('_')[1])]"
   ]
  },
  {
   "cell_type": "markdown",
   "id": "9807dacf-4edf-4dc7-9231-c0baf04430b6",
   "metadata": {
    "jp-MarkdownHeadingCollapsed": true,
    "tags": []
   },
   "source": [
    "# analyze and score OriC v rest"
   ]
  },
  {
   "cell_type": "code",
   "execution_count": null,
   "id": "857cf576-943c-42b5-b1a0-7580e15cc7ee",
   "metadata": {},
   "outputs": [],
   "source": [
    "\n",
    "def run_vRand(dataset,table,n):\n",
    "    aa=dataset.loc[dataset.index.isin(np.unique(table['subj']))]\n",
    "    aa['ecoli']=1\n",
    "    aa=aa.select_dtypes(include=np.number)\n",
    "    aa=aa.dropna(how='any',axis=1)\n",
    "\n",
    "    bb=dataset.loc[~dataset.index.isin(np.unique(table['subj']))]\n",
    "    bb['ecoli']=0\n",
    "    bb=bb.select_dtypes(include=np.number)\n",
    "    bb=bb.dropna(how='any',axis=1)\n",
    "\n",
    "    for i in aa.columns:\n",
    "        try:\n",
    "            cc=stats.kruskal(aa[i].dropna(),bb[i].dropna())\n",
    "            dd=stats.mannwhitneyu(aa[i].dropna(),bb[i].dropna())\n",
    "            ee=stats.ttest_ind(aa[i].dropna(),bb[i].dropna())\n",
    "            # ff=stats.wilcoxon(aa[i].dropna(),bb[i].dropna())\n",
    "            if ((cc.pvalue<0.005) & (dd.pvalue<0.005)&(ee.pvalue<0.005)):\n",
    "                print (i,cc.pvalue,dd.pvalue,ee.pvalue)\n",
    "\n",
    "        except:\n",
    "            pass\n",
    "\n",
    "    for i in np.arange(n):\n",
    "        jeff=np.random.permutation(dataset.index)[0:len(np.unique(table['subj']))]\n",
    "        aa=dataset.loc[dataset.index.isin(jeff)]\n",
    "        aa=aa.select_dtypes(include=np.number)\n",
    "        aa=aa.dropna(how='any',axis=1)\n",
    "\n",
    "        bb=dataset.loc[~dataset.index.isin(jeff)]\n",
    "        bb=bb.select_dtypes(include=np.number)\n",
    "        bb=bb.dropna(how='any',axis=1)\n",
    "        for i in aa.columns:\n",
    "            try:\n",
    "                cc=stats.kruskal(aa[i].dropna(),bb[i].dropna())\n",
    "                dd=stats.mannwhitneyu(aa[i].dropna(),bb[i].dropna())\n",
    "                ee=stats.ttest_ind(aa[i].dropna(),bb[i].dropna())\n",
    "                # ff=stats.wilcoxon(aa[i].dropna(),bb[i].dropna())\n",
    "                if ((cc.pvalue<0.005) & (dd.pvalue<0.005)&(ee.pvalue<0.005)):\n",
    "                    print (i,cc.pvalue,dd.pvalue,ee.pvalue)\n",
    "\n",
    "            except:\n",
    "                pass"
   ]
  },
  {
   "cell_type": "code",
   "execution_count": null,
   "id": "a76055e1-a486-447a-aaf5-9754ea750415",
   "metadata": {},
   "outputs": [],
   "source": []
  },
  {
   "cell_type": "code",
   "execution_count": null,
   "id": "cebab6e0-4d2d-4c80-91a9-758389c09b8a",
   "metadata": {},
   "outputs": [],
   "source": [
    "# ori=pd.read_csv('data/doric10/OriC_db.bed',sep='\\t')\n",
    "\n",
    "cc=pd.DataFrame(ori.Refseq.str.split('.').str[0].tolist())\n",
    "\n",
    "(cc[cc[0].isin(traces)])"
   ]
  },
  {
   "cell_type": "code",
   "execution_count": null,
   "id": "e02a723b-f38a-4f39-acf0-f9a66cfb55df",
   "metadata": {
    "tags": []
   },
   "outputs": [],
   "source": [
    "table=pd.DataFrame()\n",
    "traces= glob.glob('data/meta*/*bedgraph')\n",
    "traces=np.sort(traces)\n",
    "indices = [i for i, s in enumerate(traces) if 'R0295-KKL' in s]\n",
    "ori=pd.read_csv('data/doric10/OriC_db.bed',sep='\\t')\n",
    "pattable=pd.DataFrame()\n",
    "\n",
    "# samtools flagstat NC_013008_R0397-LWS_bowtie.sorted.bam\n",
    "for jac in indices:\n",
    "    trace=traces[jac]\n",
    "    zzz=pd.read_csv(trace,sep='\\t',names=['tmp','oric_start','oric_end','relAb'])\n",
    "    tmp=ori[ori['refseq'].str.contains('NC_'+trace.split('/')[2].split('_')[1])]\n",
    "    # print(str(tmp['Organism']))\n",
    "    pat=trace.split('_')[2].split('.')[0]\n",
    "    try:\n",
    "        zzz['len']=zzz['oric_end']-zzz['oric_start']\n",
    "\n",
    "        ss=np.int(np.round(tmp['oric_start'].item(),-1))\n",
    "        tt=np.int(np.round(tmp['oric_end'].item(),-1))\n",
    "\n",
    "        ccc=np.int(np.round(tmp['oric_start'].item(),0))-1000\n",
    "        ddd=np.int(np.round(tmp['oric_end'].item(),0))+1000\n",
    "        www0=zzz[((zzz['oric_start']<ccc)|(zzz['oric_end']>ddd))]\n",
    "        # www1=zzz[]\n",
    "        yyy=zzz[(zzz['oric_start']>ccc)&(zzz['oric_end']<ddd)]\n",
    "        # print([len(zzz),len(www0),len(yyy)])\n",
    "        # if (np.max(www0.relAb)<np.max(yyy.relAb)):\n",
    "        # print(str(tmp['Organism'].item()))\n",
    "        # print([np.max(www0.relAb),np.max(yyy.relAb)])\n",
    "        plt.figure(figsize=(20,8))\n",
    "        www0['type']='background'\n",
    "        yyy['type']='OriC'\n",
    "        www1=www0.append(yyy)\n",
    "        # tmpA=plt.hist(www0.relAb,bins=100,log=True)\n",
    "        # tmpA=plt.hist(www1.relAb,bins=100,log=True)\n",
    "        # tmpA=plt.hist(yyy.relAb,bins=100,log=True,alpha=0.5)\n",
    "        sns.histplot(data=www1, x=\"relAb\", hue=\"type\",common_norm=True)#,log_scale=True)#, element=\"step\", fill=False,\n",
    "    # cumulative=False, common_norm=True)\n",
    "\n",
    "        # tmpD=(np .max(yyy.relAb))\n",
    "        tmp['OriC max_relAb']=(np.max(yyy.relAb))\n",
    "        tmp['background max_relAb']=(np.max(www0.relAb))\n",
    "        (np.max(www0.relAb))\n",
    "        plt.xlabel(str(tmp['Organism'].item())+' OriC max_relAb:'+str(tmp['OriC max_relAb'].item())+', background max_relAb:'+str(tmp['background max_relAb'].item()))\n",
    "        # pattable=pd.concat([pattable,pat],axis=0)\n",
    "        plt.savefig('img/oric_hist/'+str(os.path.basename(trace).split('.')[0])+'.png',dpi=300,bbox_inches = \"tight\")\n",
    "\n",
    "        table=pd.concat([table,tmp],axis=0)\n",
    "    except ValueError:\n",
    "        pass\n",
    "# table['subj']=table['pat'].str.split('-').str[0].tolist()\n",
    "# table.to_csv('data/oriC_calc_lenWeighted_trim_mean.txt',sep='\\t',append=True)"
   ]
  },
  {
   "cell_type": "code",
   "execution_count": null,
   "id": "7300e36d-3e77-4f18-b020-c5599979fbe1",
   "metadata": {
    "tags": []
   },
   "outputs": [],
   "source": [
    "table=pd.DataFrame()\n",
    "traces= glob.glob('data/meta_unfilt/*bedgraph')\n",
    "traces=np.sort(traces)\n",
    "ori=pd.read_csv('data/doric10/OriC_db.bed',sep='\\t')\n",
    "pattable=pd.DataFrame()\n",
    "# samtools flagstat NC_013008_R0397-LWS_bowtie.sorted.bam\n",
    "for jac in traces:\n",
    "    zzz=pd.read_csv(jac,sep='\\t',names=['tmp','start','end','relAb'])\n",
    "    tmp=ori[ori['Refseq'].str.contains('NC_'+jac.split('/')[2].split('_')[1])]\n",
    "    # print(str(tmp['Organism']))\n",
    "    pat=jac.split('_')[2].split('.')[0]\n",
    "    try:\n",
    "        zzz['len']=zzz['end']-zzz['start']\n",
    "        # zzz=zzz[zzz['len']==50]\n",
    "        # zzz['relAb'].replace(0,1)\n",
    "        # zzz['score']=zzz['relAb']/zzz['len']\n",
    "        # zzz['score']=\n",
    "        ss=np.int(np.round(tmp['start'].item(),-1))\n",
    "        tt=np.int(np.round(tmp['end'].item(),-1))\n",
    "        tmpd=zzz[(zzz['start']>ss) &(zzz['end']<tt)]\n",
    "        tmpdd=zzz[(zzz['start']>ss-250) &(zzz['end']<tt+250)]\n",
    "        tmpddd=zzz[(zzz['start']>ss-500) &(zzz['end']<tt+500)]\n",
    "\n",
    "        tmp['mean']=np.sum(zzz['relAb']*zzz['len'])/np.sum(zzz['len'])#np.mean(zzz['score'])\n",
    "        tmp['ori_mean']=np.sum(tmpd['relAb']*tmpd['len'])/np.sum(tmpd['len'])#np.mean(tmpd['score'])\n",
    "        tmp['ori_mean_250']=np.sum(tmpdd['relAb']*tmpdd['len'])/np.sum(tmpdd['len'])#np.mean(tmpdd['score'])\n",
    "        tmp['ori_mean_500']=np.sum(tmpddd['relAb']*tmpddd['len'])/np.sum(tmpddd['len'])#np.mean(tmpddd['score'])\n",
    "        \n",
    "        tmp['trim_mean01']=stats.trim_mean(zzz['relAb'],0.01)\n",
    "        tmp['ori_trim_mean01']=stats.trim_mean(tmpd['relAb'],0.01)\n",
    "        tmp['ori_trim_mean01_250']=stats.trim_mean(tmpdd['relAb'],0.01)\n",
    "        tmp['ori_trim_mean01_500']=stats.trim_mean(tmpddd['relAb'],0.01)\n",
    "        \n",
    "        tmp['trim_mean1']=stats.trim_mean(zzz['relAb'],0.1)\n",
    "        tmp['ori_trim_mean1']=stats.trim_mean(tmpd['relAb'],0.1)\n",
    "        tmp['ori_trim_mean1_250']=stats.trim_mean(tmpdd['relAb'],0.1)\n",
    "        tmp['ori_trim_mean1_500']=stats.trim_mean(tmpddd['relAb'],0.1)\n",
    "        \n",
    "        tmp['trim_mean25']=stats.trim_mean(zzz['relAb'],0.25)\n",
    "        tmp['ori_trim_mean25']=stats.trim_mean(tmpd['relAb'],0.25)\n",
    "        tmp['ori_trim_mean25_250']=stats.trim_mean(tmpdd['relAb'],0.25)\n",
    "        tmp['ori_trim_mean25_500']=stats.trim_mean(tmpddd['relAb'],0.25)\n",
    "        \n",
    "        tmp['pat']=pat\n",
    "        \n",
    "        \n",
    "        ccc=np.int(np.round(tmp['start'].item(),0))-50\n",
    "        ddd=np.int(np.round(tmp['end'].item(),0))+50\n",
    "        www0=zzz[((zzz['start']<ccc)|(zzz['end']>ddd))]\n",
    "        # www1=zzz[]\n",
    "        yyy=zzz[(zzz['start']>ccc)&(zzz['end']<ddd)]\n",
    "        # print([len(zzz),len(www0),len(yyy)])\n",
    "        if (np.max(www0.relAb)<np.max(yyy.relAb)):\n",
    "            # print(str(tmp['Organism'].item()))\n",
    "            # print([np.max(www0.relAb),np.max(yyy.relAb)])\n",
    "            plt.figure(figsize=(20,8))\n",
    "            tmpA=plt.hist(www0.relAb,bins=100,log=True)\n",
    "            # tmpA=plt.hist(www1.relAb,bins=100,log=True)\n",
    "            tmpA=plt.hist(yyy.relAb,bins=100,log=True,alpha=0.5)\n",
    "            # tmpD=(np .max(yyy.relAb))\n",
    "            tmp['OriC max_relAb']=(np.max(yyy.relAb))\n",
    "            tmp['background max_relAb']=(np.max(www0.relAb))\n",
    "            (np.max(www0.relAb))\n",
    "            plt.xlabel(str(tmp['Organism'].item())+' OriC max_relAb:'+str(tmp['OriC max_relAb'].item())+', background max_relAb:'+str(tmp['background max_relAb'].item()))\n",
    "            # pattable=pd.concat([pattable,pat],axis=0)\n",
    "            plt.savefig('img/oric_hist_unfilt/oric_hist_'+str(os.path.basename(jac).split('.')[0])+'.png',dpi=300,bbox_inches = \"tight\")\n",
    "\n",
    "            table=pd.concat([table,tmp],axis=0)\n",
    "    except ValueError:\n",
    "        pass\n",
    "table['subj']=table['pat'].str.split('-').str[0].tolist()\n",
    "table.to_csv('data/oriC_calc_lenWeighted_trim_mean.txt',sep='\\t')"
   ]
  },
  {
   "cell_type": "code",
   "execution_count": null,
   "id": "bbdf616b-92cb-425b-8eed-f8a086e76634",
   "metadata": {},
   "outputs": [],
   "source": [
    "table.to_csv('data/unfilt_oriC_calc_lenWeighted_trim_mean.txt',sep='\\t')"
   ]
  },
  {
   "cell_type": "code",
   "execution_count": null,
   "id": "f3c08286-7db3-4534-8044-7ad33ed2cb24",
   "metadata": {},
   "outputs": [],
   "source": [
    "table=pd.read_csv('data/oriC_calc_lenWeighted_trim_mean.txt',sep='\\t')"
   ]
  },
  {
   "cell_type": "code",
   "execution_count": null,
   "id": "53ce991d-f993-4eef-9023-e86f333ef681",
   "metadata": {},
   "outputs": [],
   "source": [
    "primary=pd.read_excel('data/Data Raw - Gut Microbiome Cohort Project Database - 300 Cohort v3.0_280921.xlsx',index_col=0,sheet_name='Primary Data')\n",
    "diet=pd.read_excel('data/Data Raw - Gut Microbiome Cohort Project Database - 300 Cohort v3.0_280921.xlsx',index_col=0,sheet_name='Diet Data')\n",
    "blood_stool=pd.read_excel('data/Data Raw - Gut Microbiome Cohort Project Database - 300 Cohort v3.0_280921.xlsx',index_col=0,sheet_name='blood and stool biomarkers')\n",
    "secondary=pd.read_excel('data/Data Raw - Gut Microbiome Cohort Project Database - 300 Cohort v3.0_280921.xlsx',index_col=0,sheet_name='Secondary Data')\n",
    "MRI=pd.read_excel('data/Data Raw - Gut Microbiome Cohort Project Database - 300 Cohort v3.0_280921.xlsx',index_col=0,sheet_name='MRI scores')"
   ]
  },
  {
   "cell_type": "code",
   "execution_count": null,
   "id": "3444135e-4376-4d07-a7dc-f8037872f50c",
   "metadata": {},
   "outputs": [],
   "source": [
    "run_vRand(diet,table,100)"
   ]
  },
  {
   "cell_type": "code",
   "execution_count": null,
   "id": "5f9121f6-b7f5-4c7b-bce9-eade26616e4b",
   "metadata": {},
   "outputs": [],
   "source": [
    "aa=aa.append(bb)\n",
    "sns.violinplot(x=aa['ecoli'],y=aa['Niacin_mg'])"
   ]
  },
  {
   "cell_type": "code",
   "execution_count": null,
   "id": "12aebc92-bf3d-49ec-9c28-7ecdf4854ee8",
   "metadata": {},
   "outputs": [],
   "source": [
    "aa['Niacin_mg']"
   ]
  },
  {
   "cell_type": "code",
   "execution_count": null,
   "id": "6534d8c5-ae94-4055-8253-b8f5fa5d0ca2",
   "metadata": {},
   "outputs": [],
   "source": [
    "run_vRand(primary,table,100)"
   ]
  },
  {
   "cell_type": "code",
   "execution_count": null,
   "id": "b30d8208-8f7e-4bbe-9663-af3f35012ba9",
   "metadata": {},
   "outputs": [],
   "source": [
    "run_vRand(secondary,table,100)"
   ]
  },
  {
   "cell_type": "code",
   "execution_count": null,
   "id": "6c434612-7ad7-4c67-8c8b-21e4b7eca17f",
   "metadata": {},
   "outputs": [],
   "source": [
    "run_vRand(blood_stool,table,100)"
   ]
  },
  {
   "cell_type": "code",
   "execution_count": null,
   "id": "5e719f12-1a11-4f1e-9efa-2071f8dc5a59",
   "metadata": {},
   "outputs": [],
   "source": [
    "run_vRand(MRI,table,100)"
   ]
  },
  {
   "cell_type": "code",
   "execution_count": null,
   "id": "f8308a20-4dc7-4cd4-bab6-6181ae42e7c1",
   "metadata": {},
   "outputs": [],
   "source": [
    "aa=secondary.loc[secondary.index.isin(np.unique(table['subj']))]\n",
    "aa=aa.select_dtypes(include=np.number)\n",
    "aa=aa.dropna(how='any',axis=1)\n",
    "\n",
    "bb=secondary.loc[~secondary.index.isin(np.unique(table['subj']))]\n",
    "bb=bb.select_dtypes(include=np.number)\n",
    "bb=bb.dropna(how='any',axis=1)"
   ]
  },
  {
   "cell_type": "code",
   "execution_count": null,
   "id": "352ded21-e74a-444c-b4a6-c80a8f2e9d93",
   "metadata": {},
   "outputs": [],
   "source": [
    "tmp=plt.hist(zzz['score'],bins=100,log=True)\n",
    "tmp=plt.hist(tmpd['score'],bins=100,log=True)\n",
    "tmp=plt.hist(tmpdd['score'],bins=100,log=True)\n",
    "tmp=plt.hist(tmpddd['score'],bins=100,log=True)"
   ]
  },
  {
   "cell_type": "markdown",
   "id": "aee13392-dc41-4b1b-9c09-0307ff237cf1",
   "metadata": {
    "tags": []
   },
   "source": [
    "### compare output"
   ]
  },
  {
   "cell_type": "code",
   "execution_count": null,
   "id": "7c193163-cafb-450c-8ab6-b2f6568ff6cb",
   "metadata": {},
   "outputs": [],
   "source": [
    "table.groupby('pat').mean()"
   ]
  },
  {
   "cell_type": "code",
   "execution_count": null,
   "id": "1aa4390d-0b05-4219-86e4-1bb776591a97",
   "metadata": {},
   "outputs": [],
   "source": [
    "a=plt.hist(table['mean'],bins=100,log=True,alpha=.65)\n",
    "a=plt.hist(table['ori_mean'],bins=100,log=True,alpha=.5)\n",
    "a=plt.hist(table['ori_mean_250'],bins=100,log=True,alpha=.35)\n",
    "a=plt.hist(table['ori_mean_500'],bins=100,log=True,alpha=.25)"
   ]
  },
  {
   "cell_type": "code",
   "execution_count": null,
   "id": "47294be6-5137-4faa-8fa9-53e12694e10f",
   "metadata": {},
   "outputs": [],
   "source": []
  },
  {
   "cell_type": "code",
   "execution_count": null,
   "id": "9ab68413-14b5-44cd-b9c7-7f8f1cc3b550",
   "metadata": {},
   "outputs": [],
   "source": [
    "np.sum(table['mean']>table['ori_mean'])/len(table)"
   ]
  },
  {
   "cell_type": "code",
   "execution_count": null,
   "id": "0137dffe-a457-443c-bd96-0481caf04483",
   "metadata": {},
   "outputs": [],
   "source": [
    "np.sum(table['median']>table['ori_median'])/len(table)"
   ]
  },
  {
   "cell_type": "code",
   "execution_count": null,
   "id": "63f9d2ba-fffc-47a1-b557-4cbcb9df9b65",
   "metadata": {},
   "outputs": [],
   "source": [
    "table.groupby('Organism').median()"
   ]
  },
  {
   "cell_type": "code",
   "execution_count": null,
   "id": "d2269b30-a187-4104-905d-280f898c78b2",
   "metadata": {},
   "outputs": [],
   "source": [
    "table.groupby('Organism').mean()"
   ]
  },
  {
   "cell_type": "code",
   "execution_count": null,
   "id": "9ce9e368-1d67-4372-b9b5-1269d6256d2d",
   "metadata": {},
   "outputs": [],
   "source": [
    "unibact=pd.read_csv('data/328_krakenuniq_raw.csv',index_col=0)\n",
    "unibact['spec']=(unibact.index).str.split(';').str[0:6].tolist()\n",
    "jeff=pd.DataFrame(unibact['spec'].tolist(),columns=['tmp','tmp','tmp','tmp','tmp','species'])\n",
    "jeff=jeff.fillna(method='ffill',axis=1)"
   ]
  },
  {
   "cell_type": "code",
   "execution_count": null,
   "id": "5be6f0c5-2e0e-49ba-a8fa-36a71fee69c8",
   "metadata": {},
   "outputs": [],
   "source": [
    "(unibact.index).str.split(';').str[0:6].tolist()[0][5] ## transfered a bunch of these from hku to personal cpos"
   ]
  },
  {
   "cell_type": "code",
   "execution_count": null,
   "id": "92c67b9b-a10d-4380-934f-78700ec9cf3e",
   "metadata": {},
   "outputs": [],
   "source": [
    "jeff[jeff['species'].str.contains('prevot')]#[1:50]\n",
    "# jeff.ind# tmp=ori[ori['Refseq'].str.contains('NC_'+jac.split('/')[2].split('_')[1])]"
   ]
  },
  {
   "cell_type": "code",
   "execution_count": null,
   "id": "5f40ed69-df8d-48f7-8b69-4f7f126957ea",
   "metadata": {},
   "outputs": [],
   "source": [
    "import numpy as np\n",
    "import matplotlib.pyplot as plt\n",
    "plt.figure(figsize=(20, 20))\n",
    "# N = np.sum(zzz.len)#len(table['mean'])\n",
    "bottom = 8\n",
    "max_height = 4\n",
    "\n",
    "theta = zzz['start']#np.linspace(0.0, 2 * np.pi, N, endpoint=False)\n",
    "radii = zzz['relAb']#max_height*np.random.rand(N)\n",
    "width = zzz['len'] #(2*np.pi) / N\n",
    "\n",
    "ax = plt.subplot(111, polar=True)\n",
    "bars = ax.bar(x=theta, height=radii, width=width, bottom=bottom)\n",
    "\n",
    "# Use custom colors and opacity\n",
    "for r, bar in zip(radii, bars):\n",
    "    bar.set_facecolor(plt.cm.jet(r / 10.))\n",
    "    bar.set_alpha(0.8)\n",
    "\n",
    "plt.show()"
   ]
  },
  {
   "cell_type": "code",
   "execution_count": null,
   "id": "67576450-bcdc-437c-900c-e7aa8cfc60ff",
   "metadata": {},
   "outputs": [],
   "source": [
    "ccc=np.int(np.round(tmp['start'].item(),0))-500\n",
    "ddd=np.int(np.round(tmp['end'].item(),0))+500\n",
    "www0=zzz[(zzz['start']<ccc)]\n",
    "www1=zzz[(zzz['end']>ddd)]\n",
    "yyy=zzz[(zzz['start']>ccc)&(zzz['end']<ddd)]\n",
    "[len(zzz),len(www0),len(yyy),len(www1)]\n",
    "[np.max(www0.relAb),np.max(www1.relAb),np.max(yyy.relAb)]"
   ]
  },
  {
   "cell_type": "code",
   "execution_count": null,
   "id": "c738c924-9d98-478f-b893-4cfbd9fd4fa5",
   "metadata": {},
   "outputs": [],
   "source": []
  },
  {
   "cell_type": "code",
   "execution_count": null,
   "id": "cb6dae41-9487-45a9-8942-affeb8942b82",
   "metadata": {},
   "outputs": [],
   "source": [
    "np.int(np.round(np.max(yyy.relAb),-3)/100)"
   ]
  },
  {
   "cell_type": "code",
   "execution_count": null,
   "id": "bc659d98-ca8c-4d78-a814-a30dac80e27b",
   "metadata": {},
   "outputs": [],
   "source": [
    "plt.figure(figsize=(20,8))\n",
    "tmpA=plt.hist(www0.relAb,bins=100,log=True)\n",
    "tmpA=plt.hist(www1.relAb,bins=100,log=True)\n",
    "tmpA=plt.hist(yyy.relAb,bins=100,log=True)\n",
    "# plt.label"
   ]
  },
  {
   "cell_type": "code",
   "execution_count": null,
   "id": "b364c7ad-ff77-48f7-8f04-69f666d637ca",
   "metadata": {},
   "outputs": [],
   "source": [
    "# initialize the figure\n",
    "plt.figure(figsize=(20,10))\n",
    "ax = plt.subplot(111, polar=True)\n",
    "plt.axis('off')\n",
    "\n",
    "# Draw bars\n",
    "bars = ax.bar(\n",
    "    x=angles, \n",
    "    height=heights, \n",
    "    width=width, \n",
    "    bottom=lowerLimit,\n",
    "    linewidth=2, \n",
    "    edgecolor=\"white\",\n",
    "    color=\"#61a4b2\",\n",
    ")\n",
    "\n",
    "# little space between the bar and the label\n",
    "labelPadding = 4\n",
    "\n",
    "# Add labels\n",
    "for bar, angle, height, label in zip(bars,angles, heights, df[\"Name\"]):\n",
    "\n",
    "    # Labels are rotated. Rotation must be specified in degrees :(\n",
    "    rotation = np.rad2deg(angle)\n",
    "\n",
    "    # Flip some labels upside down\n",
    "    alignment = \"\"\n",
    "    if angle >= np.pi/2 and angle < 3*np.pi/2:\n",
    "        alignment = \"right\"\n",
    "        rotation = rotation + 180\n",
    "    else: \n",
    "        alignment = \"left\"\n",
    "\n",
    "    # Finally add the labels\n",
    "    ax.text(\n",
    "        x=angle, \n",
    "        y=lowerLimit + bar.get_height() + labelPadding, \n",
    "        s=label, \n",
    "        ha=alignment, \n",
    "        va='center', \n",
    "        rotation=rotation, \n",
    "        rotation_mode=\"anchor\") "
   ]
  },
  {
   "cell_type": "code",
   "execution_count": null,
   "id": "6a49a623-faf9-44f1-b2c3-41c088fa7bca",
   "metadata": {},
   "outputs": [],
   "source": [
    "# ori['len']=ori['end']-ori['start']\n",
    "np.sort(ori['len'])ATACxGEX=pd.read_csv('/content/drive/My"
   ]
  },
  {
   "cell_type": "code",
   "execution_count": null,
   "id": "97c991bb-74e3-4c1b-b8c1-41ada0829f7e",
   "metadata": {},
   "outputs": [],
   "source": [
    "ATACxGEX=pd.read_csv('data/neurIPS2021/ATACxGEX_O.bed',sep='\\t',names=['chr','start','end','id','gene','chr2','start2','end2','hits'])\n",
    "GEXxATAC=pd.read_csv('data/neurIPS2021/GEXxATAC_O.bed',sep='\\t',names=['chr','start','end','id','gene','chr2','start2','end2','hits'])"
   ]
  },
  {
   "cell_type": "code",
   "execution_count": null,
   "id": "d1f9f9fa-87fb-496d-a489-dbe52a7142fc",
   "metadata": {},
   "outputs": [],
   "source": [
    "plt.figure(figsize=(20, 5))\n",
    "dd=GEXxATAC[GEXxATAC['chr']=='chr1']\n",
    "plt.bar(data=dd,x=np.log(dd['start']),height='hits')"
   ]
  },
  {
   "cell_type": "code",
   "execution_count": null,
   "id": "d07e8443-aa11-49f4-859e-63575253295b",
   "metadata": {},
   "outputs": [],
   "source": [
    "import duolingo\n",
    "lingo  = duolingo.Duolingo('dcolinmorgan', 'M6742632')"
   ]
  },
  {
   "cell_type": "code",
   "execution_count": null,
   "id": "a88f2d2a-22a6-416c-8b0a-f0bacb078181",
   "metadata": {},
   "outputs": [],
   "source": [
    "# lingo  = duolingo.Duolingo('kartik', '...')\n",
    "ww=(lingo.get_known_words('sv'))\n",
    "vv=lingo.get_translations(ww, source='sv', target='en')"
   ]
  },
  {
   "cell_type": "code",
   "execution_count": null,
   "id": "e7b48375-0400-4318-9aae-165e88280e27",
   "metadata": {},
   "outputs": [],
   "source": [
    "# with open('dcm_duolingo.csv', 'w') as f:  # You will need 'wb' mode in Python 2.x\n",
    "#     w = csv.DictWriter(f, vv.keys())\n",
    "#     w.writeheader()\n",
    "#     w.writerow(vv)\n",
    "\n",
    "import json\n",
    "# with open('dcm_duolingo.txt', 'w') as file:\n",
    "#      file.write(json.dumps(vv))\n",
    "        \n",
    "with open('dcm_duolingo.txt', 'w', encoding='utf-8') as f:\n",
    "    json.dump(vv, f, ensure_ascii=False, indent=4)"
   ]
  },
  {
   "cell_type": "code",
   "execution_count": null,
   "id": "33bf4971-d29e-4d5f-9dfa-afcb6f58b695",
   "metadata": {},
   "outputs": [],
   "source": [
    "# pp=(lingo.get_vocabulary(language_abbr='sv'))\n",
    "pd.DataFrame((pp))"
   ]
  },
  {
   "cell_type": "code",
   "execution_count": null,
   "id": "c74b0bbd-a9ec-4346-9b74-8dc0b6df63f8",
   "metadata": {},
   "outputs": [],
   "source": [
    "\n",
    "pp.keys()"
   ]
  },
  {
   "cell_type": "code",
   "execution_count": null,
   "id": "b2bfe887-512f-43f0-8a18-3ce6fb69dc15",
   "metadata": {},
   "outputs": [],
   "source": [
    "pp.vocab_overview"
   ]
  },
  {
   "cell_type": "markdown",
   "id": "08ff0129-b3c1-42cd-8d47-eb81b87a2def",
   "metadata": {
    "tags": []
   },
   "source": [
    "# replot TSS"
   ]
  },
  {
   "cell_type": "code",
   "execution_count": null,
   "id": "e3df0d5f-d8f4-4722-9331-742396e9e4dc",
   "metadata": {},
   "outputs": [],
   "source": [
    "pd.read_csv('/groups/cgsd/gordonq/TSS_depth/nanopore_data/')"
   ]
  },
  {
   "cell_type": "markdown",
   "id": "0c7e103b-fa5b-4bea-8c98-77dfbc5f1da6",
   "metadata": {
    "jp-MarkdownHeadingCollapsed": true,
    "tags": []
   },
   "source": [
    "# troubleshoot"
   ]
  },
  {
   "cell_type": "code",
   "execution_count": null,
   "id": "c596c5e0-6763-4927-9b5a-dfe5d488a4ee",
   "metadata": {},
   "outputs": [],
   "source": [
    "bact_stat=pd.read_csv('flagstatA.txt',sep='\\t',names=['q0','q1','type'])\n",
    "bact_stat['sample']=bact_stat[bact_stat['q0'].str.contains(\".bam\")]['q0'].repeat(21).values\n",
    "# bact_stat.loc[1:1000]\n",
    "bact_stat['bact']=bact_stat['sample'].str.split('_').str[1].tolist()\n",
    "bact_stat['pat']=bact_stat['sample'].str.split('_').str[2].tolist()\n",
    "del bact_stat['sample'], bact_stat['q1']\n",
    "bact_stat.dropna(how='any',inplace=True)\n",
    "bact_stat=bact_stat[~bact_stat.type.str.contains(\"%\")]"
   ]
  },
  {
   "cell_type": "code",
   "execution_count": null,
   "id": "26d0c1a8-e0c6-4bb5-b554-984dcbcfa519",
   "metadata": {},
   "outputs": [],
   "source": [
    "bact_stat['q0']=bact_stat.q0.astype('int')\n",
    "bact_stat['q1']=np.log10(bact_stat['q0'])"
   ]
  },
  {
   "cell_type": "code",
   "execution_count": null,
   "id": "e394f969-31b9-4632-9edd-0a21ce50a9d1",
   "metadata": {},
   "outputs": [],
   "source": [
    "sns.set_theme(style=\"whitegrid\")\n",
    "# iris = sns.load_dataset(\"iris\")\n",
    "plt.figure(figsize=(12, 24))\n",
    "# \"Melt\" the dataset to \"long-form\" or \"tidy\" representation\n",
    "# iris = pd.melt(bact_stat, [\"bact\",'patient'], var_name=\"type\")\n",
    "# del bact_stat['sample'], bact_stat['q1']\n",
    "# bact_stat.dropna(how='any',inplace=True)\n",
    "# bact_stat=bact_stat[~bact_stat.type.str.contains(\"%\")]\n",
    "# Initialize the figure\n",
    "# f, ax = plt.subplots()\n",
    "# sns.despine(bottom=True, left=True)\n",
    "\n",
    "# Show each observation with a scatterplot\n",
    "ax=sns.stripplot(x=\"q1\", y=\"type\", hue=\"bact\",\n",
    "              data=bact_stat, dodge=True, alpha=.25, zorder=1)\n",
    "\n",
    "# Show the conditional means, aligning each pointplot in the\n",
    "# center of the strips by adjusting the width allotted to each\n",
    "# category (.8 by default) by the number of hue levels\n",
    "ax=sns.pointplot(x=\"q1\", y=\"type\", hue=\"bact\",\n",
    "              data=bact_stat, dodge=.8 - .8 / 3,\n",
    "              join=False, palette=\"dark\",\n",
    "              markers=\"d\", scale=.75, ci=None)\n",
    "sns.move_legend(ax, \"upper left\", bbox_to_anchor=(1, 1),ncol=2)\n",
    "plt.savefig(\"flagstat.png\",dpi=300,bbox_inches = \"tight\")\n",
    "\n",
    "# Improve the legend\n",
    "# handles, labels = ax.get_legend_handles_labels()\n",
    "# ax.legend(handles, labels, title=\"bact\",\n",
    "#           handletextpad=0, columnspacing=1,\n",
    "#           loc='lower center', ncol=5, frameon=False)#,bbox_to_anchor=(1.05, 1),borderaxespad=0.)\n"
   ]
  },
  {
   "cell_type": "code",
   "execution_count": null,
   "id": "2f789d37-ab71-45e0-a627-53fc555f4a70",
   "metadata": {},
   "outputs": [],
   "source": [
    "jeff=pd.pivot_table(bact_stat,columns='type',index=['bact','pat'],values='q0')"
   ]
  },
  {
   "cell_type": "code",
   "execution_count": null,
   "id": "f2e3476b-5b3f-49bf-881b-e38d987cc818",
   "metadata": {},
   "outputs": [],
   "source": [
    "jeff=jeff.reset_index()"
   ]
  },
  {
   "cell_type": "code",
   "execution_count": null,
   "id": "c9a648b8-c8cf-46a8-8507-c9c8e7bfdd49",
   "metadata": {},
   "outputs": [],
   "source": [
    "jeff =jeff.loc[:, (jeff != 0).any(axis=0)]\n",
    "# del jeff['secondary']  \n",
    "del jeff['primary mapped'], jeff['with itself and mate mapped']"
   ]
  },
  {
   "cell_type": "code",
   "execution_count": null,
   "id": "f8222149-88c4-4ff9-90d7-4535a52d9314",
   "metadata": {},
   "outputs": [],
   "source": [
    "jeff"
   ]
  },
  {
   "cell_type": "code",
   "execution_count": null,
   "id": "6ac0e561-96f2-4fb7-b11c-272c440c02c2",
   "metadata": {},
   "outputs": [],
   "source": [
    "sns.pairplot(jeff, hue=\"bact\")\n",
    "plt.savefig(\"flagstat_corr.png\",dpi=300,bbox_inches = \"tight\")\n"
   ]
  },
  {
   "cell_type": "code",
   "execution_count": null,
   "id": "e639d3ab-b8be-476d-acea-001dd00c192c",
   "metadata": {},
   "outputs": [],
   "source": [
    "jeff0=pd.melt(jeff,id_vars=['bact','pat'])"
   ]
  },
  {
   "cell_type": "code",
   "execution_count": null,
   "id": "bb3bea85-3e0a-4a51-abfc-918ec19de572",
   "metadata": {},
   "outputs": [],
   "source": [
    "jeff0['log10_value']=np.log10(jeff0.value)"
   ]
  },
  {
   "cell_type": "code",
   "execution_count": null,
   "id": "28cb20db-98dd-4855-8f4b-b05206af4ddb",
   "metadata": {},
   "outputs": [],
   "source": [
    "sns.set_theme(style=\"whitegrid\")\n",
    "# iris = sns.load_dataset(\"iris\")\n",
    "plt.figure(figsize=(12, 24))\n",
    "# \"Melt\" the dataset to \"long-form\" or \"tidy\" representation\n",
    "# iris = pd.melt(bact_stat, [\"bact\",'patient'], var_name=\"type\")\n",
    "# del bact_stat['sample'], bact_stat['q1']\n",
    "# bact_stat.dropna(how='any',inplace=True)\n",
    "# bact_stat=bact_stat[~bact_stat.type.str.contains(\"%\")]\n",
    "# Initialize the figure\n",
    "# f, ax = plt.subplots()\n",
    "# sns.despine(bottom=True, left=True)\n",
    "\n",
    "# Show each observation with a scatterplot\n",
    "ax=sns.stripplot(x=\"log10_value\", y=\"type\", hue=\"bact\",\n",
    "              data=jeff0, dodge=True, alpha=.25, zorder=1)\n",
    "\n",
    "# Show the conditional means, aligning each pointplot in the\n",
    "# center of the strips by adjusting the width allotted to each\n",
    "# category (.8 by default) by the number of hue levels\n",
    "ax=sns.pointplot(x=\"log10_value\", y=\"type\", hue=\"bact\",\n",
    "              data=jeff0, dodge=.8 - .8 / 3,\n",
    "              join=False, palette=\"dark\",\n",
    "              markers=\"d\", scale=.75, ci=None)\n",
    "sns.move_legend(ax, \"upper left\", bbox_to_anchor=(1, 1),ncol=2)\n",
    "plt.savefig(\"flagstat_red.png\",dpi=300,bbox_inches = \"tight\")\n",
    "\n",
    "# Improve the legend\n",
    "# handles, labels = ax.get_legend_handles_labels()\n",
    "# ax.legend(handles, labels, title=\"bact\",\n",
    "#           handletextpad=0, columnspacing=1,\n",
    "#           loc='lower center', ncol=5, frameon=False)#,bbox_to_anchor=(1.05, 1),borderaxespad=0.)\n"
   ]
  },
  {
   "cell_type": "code",
   "execution_count": null,
   "id": "c9ef7274-3b2d-4b1e-8956-b533c6a93f78",
   "metadata": {},
   "outputs": [],
   "source": []
  }
 ],
 "metadata": {
  "kernelspec": {
   "display_name": "mypy3",
   "language": "python",
   "name": "mypy3"
  },
  "language_info": {
   "codemirror_mode": {
    "name": "ipython",
    "version": 3
   },
   "file_extension": ".py",
   "mimetype": "text/x-python",
   "name": "python",
   "nbconvert_exporter": "python",
   "pygments_lexer": "ipython3",
   "version": "3.9.7"
  },
  "toc-autonumbering": false,
  "toc-showcode": false,
  "toc-showmarkdowntxt": false,
  "toc-showtags": false
 },
 "nbformat": 4,
 "nbformat_minor": 5
}
